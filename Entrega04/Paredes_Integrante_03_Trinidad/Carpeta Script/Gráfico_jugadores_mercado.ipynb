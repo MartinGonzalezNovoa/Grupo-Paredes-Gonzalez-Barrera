{
 "cells": [
  {
   "cell_type": "code",
   "execution_count": 1,
   "metadata": {
    "colab": {
     "base_uri": "https://localhost:8080/"
    },
    "id": "ejxj1Tc3B0gF",
    "outputId": "a1e590d3-f9fd-4002-ab69-1874f9b8153a"
   },
   "outputs": [
    {
     "name": "stdout",
     "output_type": "stream",
     "text": [
      "                           agencia  jugadores  valor_promedio\n",
      "0                  Agencia Wfutbol        2.0           0.000\n",
      "1                       AIM fútbol       42.0         751.190\n",
      "2                  Alan Silbermann        1.0           0.000\n",
      "3  Altius Gerenciamiento Deportivo       11.0          86.364\n",
      "4           Andes Sport Management       22.0         197.727\n"
     ]
    }
   ],
   "source": [
    "import pandas as pd\n",
    "\n",
    "# Leer el archivo con separador `;`\n",
    "data = pd.read_csv('/content/MERCADO - JUGADORES.csv', sep=';')\n",
    "\n",
    "# Renombrar las columnas\n",
    "data.columns = ['agencia', 'jugadores', 'valor_promedio']\n",
    "\n",
    "# Eliminar el símbolo de euro y convertir a numérico\n",
    "data['valor_promedio'] = data['valor_promedio'].replace('€', '', regex=True).str.replace(',', '').astype(float)\n",
    "\n",
    "# Verificar los datos\n",
    "print(data.head())"
   ]
  },
  {
   "cell_type": "code",
   "execution_count": 2,
   "metadata": {
    "colab": {
     "base_uri": "https://localhost:8080/",
     "height": 574
    },
    "id": "VK12JMZQBe6A",
    "outputId": "c6fa0934-f09a-4c68-d490-1c6b16e17274"
   },
   "outputs": [
    {
     "name": "stderr",
     "output_type": "stream",
     "text": [
      "/usr/local/lib/python3.10/dist-packages/altair/utils/core.py:384: FutureWarning: the convert_dtype parameter is deprecated and will be removed in a future version.  Do ``ser.astype(object).apply()`` instead if you want ``convert_dtype=False``.\n",
      "  col = df[col_name].apply(to_list_if_array, convert_dtype=False)\n"
     ]
    },
    {
     "data": {
      "text/html": [
       "\n",
       "<div id=\"altair-viz-ed41d2bf807f4b01949e23057f9fc474\"></div>\n",
       "<script type=\"text/javascript\">\n",
       "  var VEGA_DEBUG = (typeof VEGA_DEBUG == \"undefined\") ? {} : VEGA_DEBUG;\n",
       "  (function(spec, embedOpt){\n",
       "    let outputDiv = document.currentScript.previousElementSibling;\n",
       "    if (outputDiv.id !== \"altair-viz-ed41d2bf807f4b01949e23057f9fc474\") {\n",
       "      outputDiv = document.getElementById(\"altair-viz-ed41d2bf807f4b01949e23057f9fc474\");\n",
       "    }\n",
       "    const paths = {\n",
       "      \"vega\": \"https://cdn.jsdelivr.net/npm//vega@5?noext\",\n",
       "      \"vega-lib\": \"https://cdn.jsdelivr.net/npm//vega-lib?noext\",\n",
       "      \"vega-lite\": \"https://cdn.jsdelivr.net/npm//vega-lite@4.17.0?noext\",\n",
       "      \"vega-embed\": \"https://cdn.jsdelivr.net/npm//vega-embed@6?noext\",\n",
       "    };\n",
       "\n",
       "    function maybeLoadScript(lib, version) {\n",
       "      var key = `${lib.replace(\"-\", \"\")}_version`;\n",
       "      return (VEGA_DEBUG[key] == version) ?\n",
       "        Promise.resolve(paths[lib]) :\n",
       "        new Promise(function(resolve, reject) {\n",
       "          var s = document.createElement('script');\n",
       "          document.getElementsByTagName(\"head\")[0].appendChild(s);\n",
       "          s.async = true;\n",
       "          s.onload = () => {\n",
       "            VEGA_DEBUG[key] = version;\n",
       "            return resolve(paths[lib]);\n",
       "          };\n",
       "          s.onerror = () => reject(`Error loading script: ${paths[lib]}`);\n",
       "          s.src = paths[lib];\n",
       "        });\n",
       "    }\n",
       "\n",
       "    function showError(err) {\n",
       "      outputDiv.innerHTML = `<div class=\"error\" style=\"color:red;\">${err}</div>`;\n",
       "      throw err;\n",
       "    }\n",
       "\n",
       "    function displayChart(vegaEmbed) {\n",
       "      vegaEmbed(outputDiv, spec, embedOpt)\n",
       "        .catch(err => showError(`Javascript Error: ${err.message}<br>This usually means there's a typo in your chart specification. See the javascript console for the full traceback.`));\n",
       "    }\n",
       "\n",
       "    if(typeof define === \"function\" && define.amd) {\n",
       "      requirejs.config({paths});\n",
       "      require([\"vega-embed\"], displayChart, err => showError(`Error loading script: ${err.message}`));\n",
       "    } else {\n",
       "      maybeLoadScript(\"vega\", \"5\")\n",
       "        .then(() => maybeLoadScript(\"vega-lite\", \"4.17.0\"))\n",
       "        .then(() => maybeLoadScript(\"vega-embed\", \"6\"))\n",
       "        .catch(showError)\n",
       "        .then(() => displayChart(vegaEmbed));\n",
       "    }\n",
       "  })({\"config\": {\"view\": {\"continuousWidth\": 400, \"continuousHeight\": 300}}, \"layer\": [{\"mark\": \"bar\", \"encoding\": {\"tooltip\": [{\"field\": \"agencia\", \"type\": \"nominal\"}, {\"field\": \"jugadores\", \"type\": \"quantitative\"}, {\"field\": \"valor_promedio\", \"type\": \"quantitative\"}], \"x\": {\"field\": \"agencia\", \"type\": \"nominal\"}, \"y\": {\"field\": \"jugadores\", \"type\": \"quantitative\"}}}, {\"mark\": {\"type\": \"line\", \"color\": \"red\"}, \"encoding\": {\"tooltip\": [{\"field\": \"agencia\", \"type\": \"nominal\"}, {\"field\": \"valor_promedio\", \"type\": \"quantitative\"}], \"x\": {\"field\": \"agencia\", \"type\": \"nominal\"}, \"y\": {\"field\": \"valor_promedio\", \"type\": \"quantitative\"}}}], \"data\": {\"name\": \"data-f7b071fad1c230236086dca3f5448f4c\"}, \"title\": \"Jugadores y Valor Promedio por Agencia\", \"width\": 600, \"$schema\": \"https://vega.github.io/schema/vega-lite/v4.17.0.json\", \"datasets\": {\"data-f7b071fad1c230236086dca3f5448f4c\": [{\"agencia\": \"Agencia Wfutbol\", \"jugadores\": 2.0, \"valor_promedio\": 0.0}, {\"agencia\": \"AIM f\\u00fatbol\", \"jugadores\": 42.0, \"valor_promedio\": 751.19}, {\"agencia\": \"Alan Silbermann\", \"jugadores\": 1.0, \"valor_promedio\": 0.0}, {\"agencia\": \"Altius Gerenciamiento Deportivo\", \"jugadores\": 11.0, \"valor_promedio\": 86.364}, {\"agencia\": \"Andes Sport Management\", \"jugadores\": 22.0, \"valor_promedio\": 197.727}, {\"agencia\": \"FA Sports SPA\", \"jugadores\": 1.0, \"valor_promedio\": 600.0}, {\"agencia\": \"Factor Futbol\", \"jugadores\": 2.0, \"valor_promedio\": 12.5}, {\"agencia\": \"FS F\\u00fatbol Sport\", \"jugadores\": 4.0, \"valor_promedio\": 18.75}, {\"agencia\": \"Full Soccer\", \"jugadores\": 4.0, \"valor_promedio\": 0.0}, {\"agencia\": \"Futbol & Business Hub\", \"jugadores\": 5.0, \"valor_promedio\": 265.0}, {\"agencia\": \"Global Agents\", \"jugadores\": 1.0, \"valor_promedio\": 300.0}, {\"agencia\": \"Hattrick CL\", \"jugadores\": 1.0, \"valor_promedio\": 100.0}, {\"agencia\": \"Ikons by Solo Cracks\", \"jugadores\": 13.0, \"valor_promedio\": 213.462}, {\"agencia\": \"Mas Que Futbol CL\", \"jugadores\": 3.0, \"valor_promedio\": 0.0}, {\"agencia\": \"Mauricio M\\u00e9ndez\", \"jugadores\": 11.0, \"valor_promedio\": 227.273}, {\"agencia\": \"MMK Soccer\", \"jugadores\": 6.0, \"valor_promedio\": 66.667}, {\"agencia\": \"Mundo Futuro Chile\", \"jugadores\": 43.0, \"valor_promedio\": 522.093}, {\"agencia\": \"Next Level Sports Management\", \"jugadores\": 3.0, \"valor_promedio\": 650.0}, {\"agencia\": \"Nueva Futbol Chile SPA\", \"jugadores\": 5.0, \"valor_promedio\": 60.0}, {\"agencia\": \"Pass Ball\", \"jugadores\": 9.0, \"valor_promedio\": 44.444}, {\"agencia\": \"ProSports Chile\", \"jugadores\": 3.0, \"valor_promedio\": 316.667}, {\"agencia\": \"RC Sport Management\", \"jugadores\": 8.0, \"valor_promedio\": 234.375}, {\"agencia\": \"RSMTM\", \"jugadores\": 8.0, \"valor_promedio\": 128.125}, {\"agencia\": \"Talento Deportivo\", \"jugadores\": 40.0, \"valor_promedio\": 522.5}, {\"agencia\": \"Trading Sports\", \"jugadores\": 22.0, \"valor_promedio\": 688.636}, {\"agencia\": \"Unosports Limitada\", \"jugadores\": 38.0, \"valor_promedio\": 603.947}, {\"agencia\": \"Vis10n Futbol\", \"jugadores\": 20.0, \"valor_promedio\": 67.5}, {\"agencia\": null, \"jugadores\": null, \"valor_promedio\": null}]}}, {\"mode\": \"vega-lite\"});\n",
       "</script>"
      ],
      "text/plain": [
       "alt.LayerChart(...)"
      ]
     },
     "execution_count": 2,
     "metadata": {},
     "output_type": "execute_result"
    }
   ],
   "source": [
    "import altair as alt\n",
    "\n",
    "# Gráfico de barras\n",
    "bar = alt.Chart(data).mark_bar().encode(\n",
    "    x='agencia:N',  # Las agencias en el eje X\n",
    "    y='jugadores:Q',  # Cantidad de jugadores en el eje Y\n",
    "    tooltip=['agencia', 'jugadores', 'valor_promedio']  # Información en el hover\n",
    ")\n",
    "\n",
    "# Línea para el promedio del valor de mercado\n",
    "line = alt.Chart(data).mark_line(color='red').encode(\n",
    "    x='agencia:N',\n",
    "    y='valor_promedio:Q',\n",
    "    tooltip=['agencia', 'valor_promedio']\n",
    ")\n",
    "\n",
    "# Combinar gráficos\n",
    "chart = (bar + line).properties(\n",
    "    width=600,\n",
    "    title=\"Jugadores y Valor Promedio por Agencia\"\n",
    ")\n",
    "\n",
    "# Mostrar el gráfico\n",
    "chart"
   ]
  }
 ],
 "metadata": {
  "colab": {
   "provenance": []
  },
  "kernelspec": {
   "display_name": "Python 3",
   "name": "python3"
  },
  "language_info": {
   "name": "python"
  }
 },
 "nbformat": 4,
 "nbformat_minor": 0
}
