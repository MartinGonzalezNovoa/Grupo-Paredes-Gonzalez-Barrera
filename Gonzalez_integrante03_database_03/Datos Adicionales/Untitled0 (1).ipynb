{
  "nbformat": 4,
  "nbformat_minor": 0,
  "metadata": {
    "colab": {
      "provenance": []
    },
    "kernelspec": {
      "name": "python3",
      "display_name": "Python 3"
    },
    "language_info": {
      "name": "python"
    }
  },
  "cells": [
    {
      "cell_type": "code",
      "execution_count": null,
      "metadata": {
        "colab": {
          "base_uri": "https://localhost:8080/"
        },
        "id": "mZDYx5QCcsMT",
        "outputId": "857153ae-78e9-478a-e3dd-96ce57c41eb9"
      },
      "outputs": [
        {
          "output_type": "stream",
          "name": "stdout",
          "text": [
            "Collecting LanusStats\n",
            "  Downloading LanusStats-1.7.1-py3-none-any.whl.metadata (14 kB)\n",
            "Requirement already satisfied: pandas in /usr/local/lib/python3.10/dist-packages (from LanusStats) (2.2.2)\n",
            "Collecting mplsoccer (from LanusStats)\n",
            "  Downloading mplsoccer-1.4.0-py3-none-any.whl.metadata (4.8 kB)\n",
            "Requirement already satisfied: requests in /usr/local/lib/python3.10/dist-packages (from LanusStats) (2.32.3)\n",
            "Requirement already satisfied: matplotlib in /usr/local/lib/python3.10/dist-packages (from LanusStats) (3.7.1)\n",
            "Requirement already satisfied: numpy in /usr/local/lib/python3.10/dist-packages (from LanusStats) (1.26.4)\n",
            "Collecting bs4 (from LanusStats)\n",
            "  Downloading bs4-0.0.2-py2.py3-none-any.whl.metadata (411 bytes)\n",
            "Requirement already satisfied: Pillow in /usr/local/lib/python3.10/dist-packages (from LanusStats) (10.4.0)\n",
            "Requirement already satisfied: beautifulsoup4 in /usr/local/lib/python3.10/dist-packages (from bs4->LanusStats) (4.12.3)\n",
            "Requirement already satisfied: contourpy>=1.0.1 in /usr/local/lib/python3.10/dist-packages (from matplotlib->LanusStats) (1.3.0)\n",
            "Requirement already satisfied: cycler>=0.10 in /usr/local/lib/python3.10/dist-packages (from matplotlib->LanusStats) (0.12.1)\n",
            "Requirement already satisfied: fonttools>=4.22.0 in /usr/local/lib/python3.10/dist-packages (from matplotlib->LanusStats) (4.54.1)\n",
            "Requirement already satisfied: kiwisolver>=1.0.1 in /usr/local/lib/python3.10/dist-packages (from matplotlib->LanusStats) (1.4.7)\n",
            "Requirement already satisfied: packaging>=20.0 in /usr/local/lib/python3.10/dist-packages (from matplotlib->LanusStats) (24.1)\n",
            "Requirement already satisfied: pyparsing>=2.3.1 in /usr/local/lib/python3.10/dist-packages (from matplotlib->LanusStats) (3.1.4)\n",
            "Requirement already satisfied: python-dateutil>=2.7 in /usr/local/lib/python3.10/dist-packages (from matplotlib->LanusStats) (2.8.2)\n",
            "Requirement already satisfied: scipy in /usr/local/lib/python3.10/dist-packages (from mplsoccer->LanusStats) (1.13.1)\n",
            "Requirement already satisfied: seaborn in /usr/local/lib/python3.10/dist-packages (from mplsoccer->LanusStats) (0.13.2)\n",
            "Requirement already satisfied: pytz>=2020.1 in /usr/local/lib/python3.10/dist-packages (from pandas->LanusStats) (2024.2)\n",
            "Requirement already satisfied: tzdata>=2022.7 in /usr/local/lib/python3.10/dist-packages (from pandas->LanusStats) (2024.2)\n",
            "Requirement already satisfied: charset-normalizer<4,>=2 in /usr/local/lib/python3.10/dist-packages (from requests->LanusStats) (3.3.2)\n",
            "Requirement already satisfied: idna<4,>=2.5 in /usr/local/lib/python3.10/dist-packages (from requests->LanusStats) (3.10)\n",
            "Requirement already satisfied: urllib3<3,>=1.21.1 in /usr/local/lib/python3.10/dist-packages (from requests->LanusStats) (2.2.3)\n",
            "Requirement already satisfied: certifi>=2017.4.17 in /usr/local/lib/python3.10/dist-packages (from requests->LanusStats) (2024.8.30)\n",
            "Requirement already satisfied: six>=1.5 in /usr/local/lib/python3.10/dist-packages (from python-dateutil>=2.7->matplotlib->LanusStats) (1.16.0)\n",
            "Requirement already satisfied: soupsieve>1.2 in /usr/local/lib/python3.10/dist-packages (from beautifulsoup4->bs4->LanusStats) (2.6)\n",
            "Downloading LanusStats-1.7.1-py3-none-any.whl (35 kB)\n",
            "Downloading bs4-0.0.2-py2.py3-none-any.whl (1.2 kB)\n",
            "Downloading mplsoccer-1.4.0-py3-none-any.whl (85 kB)\n",
            "\u001b[2K   \u001b[90m━━━━━━━━━━━━━━━━━━━━━━━━━━━━━━━━━━━━━━━━\u001b[0m \u001b[32m85.8/85.8 kB\u001b[0m \u001b[31m1.3 MB/s\u001b[0m eta \u001b[36m0:00:00\u001b[0m\n",
            "\u001b[?25hInstalling collected packages: bs4, mplsoccer, LanusStats\n",
            "Successfully installed LanusStats-1.7.1 bs4-0.0.2 mplsoccer-1.4.0\n"
          ]
        }
      ],
      "source": [
        "pip install LanusStats"
      ]
    },
    {
      "cell_type": "code",
      "source": [
        "pip install --upgrade LanusStats"
      ],
      "metadata": {
        "colab": {
          "base_uri": "https://localhost:8080/"
        },
        "id": "VP4EZiYEdCyp",
        "outputId": "11c9ddab-010d-47cd-92b2-c7091f563815"
      },
      "execution_count": null,
      "outputs": [
        {
          "output_type": "stream",
          "name": "stdout",
          "text": [
            "Requirement already satisfied: LanusStats in /usr/local/lib/python3.10/dist-packages (1.7.1)\n",
            "Requirement already satisfied: pandas in /usr/local/lib/python3.10/dist-packages (from LanusStats) (2.2.2)\n",
            "Requirement already satisfied: mplsoccer in /usr/local/lib/python3.10/dist-packages (from LanusStats) (1.4.0)\n",
            "Requirement already satisfied: requests in /usr/local/lib/python3.10/dist-packages (from LanusStats) (2.32.3)\n",
            "Requirement already satisfied: matplotlib in /usr/local/lib/python3.10/dist-packages (from LanusStats) (3.7.1)\n",
            "Requirement already satisfied: numpy in /usr/local/lib/python3.10/dist-packages (from LanusStats) (1.26.4)\n",
            "Requirement already satisfied: bs4 in /usr/local/lib/python3.10/dist-packages (from LanusStats) (0.0.2)\n",
            "Requirement already satisfied: Pillow in /usr/local/lib/python3.10/dist-packages (from LanusStats) (10.4.0)\n",
            "Requirement already satisfied: beautifulsoup4 in /usr/local/lib/python3.10/dist-packages (from bs4->LanusStats) (4.12.3)\n",
            "Requirement already satisfied: contourpy>=1.0.1 in /usr/local/lib/python3.10/dist-packages (from matplotlib->LanusStats) (1.3.0)\n",
            "Requirement already satisfied: cycler>=0.10 in /usr/local/lib/python3.10/dist-packages (from matplotlib->LanusStats) (0.12.1)\n",
            "Requirement already satisfied: fonttools>=4.22.0 in /usr/local/lib/python3.10/dist-packages (from matplotlib->LanusStats) (4.54.1)\n",
            "Requirement already satisfied: kiwisolver>=1.0.1 in /usr/local/lib/python3.10/dist-packages (from matplotlib->LanusStats) (1.4.7)\n",
            "Requirement already satisfied: packaging>=20.0 in /usr/local/lib/python3.10/dist-packages (from matplotlib->LanusStats) (24.1)\n",
            "Requirement already satisfied: pyparsing>=2.3.1 in /usr/local/lib/python3.10/dist-packages (from matplotlib->LanusStats) (3.1.4)\n",
            "Requirement already satisfied: python-dateutil>=2.7 in /usr/local/lib/python3.10/dist-packages (from matplotlib->LanusStats) (2.8.2)\n",
            "Requirement already satisfied: scipy in /usr/local/lib/python3.10/dist-packages (from mplsoccer->LanusStats) (1.13.1)\n",
            "Requirement already satisfied: seaborn in /usr/local/lib/python3.10/dist-packages (from mplsoccer->LanusStats) (0.13.2)\n",
            "Requirement already satisfied: pytz>=2020.1 in /usr/local/lib/python3.10/dist-packages (from pandas->LanusStats) (2024.2)\n",
            "Requirement already satisfied: tzdata>=2022.7 in /usr/local/lib/python3.10/dist-packages (from pandas->LanusStats) (2024.2)\n",
            "Requirement already satisfied: charset-normalizer<4,>=2 in /usr/local/lib/python3.10/dist-packages (from requests->LanusStats) (3.3.2)\n",
            "Requirement already satisfied: idna<4,>=2.5 in /usr/local/lib/python3.10/dist-packages (from requests->LanusStats) (3.10)\n",
            "Requirement already satisfied: urllib3<3,>=1.21.1 in /usr/local/lib/python3.10/dist-packages (from requests->LanusStats) (2.2.3)\n",
            "Requirement already satisfied: certifi>=2017.4.17 in /usr/local/lib/python3.10/dist-packages (from requests->LanusStats) (2024.8.30)\n",
            "Requirement already satisfied: six>=1.5 in /usr/local/lib/python3.10/dist-packages (from python-dateutil>=2.7->matplotlib->LanusStats) (1.16.0)\n",
            "Requirement already satisfied: soupsieve>1.2 in /usr/local/lib/python3.10/dist-packages (from beautifulsoup4->bs4->LanusStats) (2.6)\n"
          ]
        }
      ]
    },
    {
      "cell_type": "code",
      "source": [
        "import LanusStats as ls\n",
        "transfermarkt = ls.Transfermarkt()"
      ],
      "metadata": {
        "id": "b9VnbypCdIVN"
      },
      "execution_count": null,
      "outputs": []
    },
    {
      "cell_type": "code",
      "source": [
        "import LanusStats as ls\n",
        "transfermarkt = ls.Transfermarkt()"
      ],
      "metadata": {
        "id": "zrGnOxPue5tl"
      },
      "execution_count": null,
      "outputs": []
    },
    {
      "cell_type": "code",
      "source": [
        "transfermarkt = ls.Transfermarkt()\n",
        "colo = transfermarkt.scrape_players_for_teams(team_name=\"\" Colo Colo\", team_id=\"333\", season=\"2023\")"
      ],
      "metadata": {
        "colab": {
          "base_uri": "https://localhost:8080/"
        },
        "id": "4tgK9R3fe_JA",
        "outputId": "9e178bb5-28d7-45f0-cacd-ee1a53fa77f0"
      },
      "execution_count": null,
      "outputs": [
        {
          "output_type": "stream",
          "name": "stdout",
          "text": [
            "['#', 'Jugadores', 'F. Nacim./Edad', 'Nac.', 'Club actual', 'Altura', 'Pie', 'Fichado', 'antes', 'Valor de mercado', 'Pais', 'Seg nacionalidad']\n"
          ]
        }
      ]
    },
    {
      "cell_type": "code",
      "source": [
        "colo.to_csv(\"colo.csv\", encoding=\"utf-8\")"
      ],
      "metadata": {
        "id": "y_8PUOr1fwR4"
      },
      "execution_count": null,
      "outputs": []
    },
    {
      "cell_type": "code",
      "source": [
        "type(colo)"
      ],
      "metadata": {
        "colab": {
          "base_uri": "https://localhost:8080/",
          "height": 203
        },
        "id": "iozT49o_f4UY",
        "outputId": "f3cb50e1-38e3-4895-8d8b-cc24266f7dcc"
      },
      "execution_count": null,
      "outputs": [
        {
          "output_type": "execute_result",
          "data": {
            "text/plain": [
              "pandas.core.frame.DataFrame"
            ],
            "text/html": [
              "<div style=\"max-width:800px; border: 1px solid var(--colab-border-color);\"><style>\n",
              "      pre.function-repr-contents {\n",
              "        overflow-x: auto;\n",
              "        padding: 8px 12px;\n",
              "        max-height: 500px;\n",
              "      }\n",
              "\n",
              "      pre.function-repr-contents.function-repr-contents-collapsed {\n",
              "        cursor: pointer;\n",
              "        max-height: 100px;\n",
              "      }\n",
              "    </style>\n",
              "    <pre style=\"white-space: initial; background:\n",
              "         var(--colab-secondary-surface-color); padding: 8px 12px;\n",
              "         border-bottom: 1px solid var(--colab-border-color);\"><b>pandas.core.frame.DataFrame</b><br/>def __init__(data=None, index: Axes | None=None, columns: Axes | None=None, dtype: Dtype | None=None, copy: bool | None=None) -&gt; None</pre><pre class=\"function-repr-contents function-repr-contents-collapsed\" style=\"\"><a class=\"filepath\" style=\"display:none\" href=\"#\">/usr/local/lib/python3.10/dist-packages/pandas/core/frame.py</a>Two-dimensional, size-mutable, potentially heterogeneous tabular data.\n",
              "\n",
              "Data structure also contains labeled axes (rows and columns).\n",
              "Arithmetic operations align on both row and column labels. Can be\n",
              "thought of as a dict-like container for Series objects. The primary\n",
              "pandas data structure.\n",
              "\n",
              "Parameters\n",
              "----------\n",
              "data : ndarray (structured or homogeneous), Iterable, dict, or DataFrame\n",
              "    Dict can contain Series, arrays, constants, dataclass or list-like objects. If\n",
              "    data is a dict, column order follows insertion-order. If a dict contains Series\n",
              "    which have an index defined, it is aligned by its index. This alignment also\n",
              "    occurs if data is a Series or a DataFrame itself. Alignment is done on\n",
              "    Series/DataFrame inputs.\n",
              "\n",
              "    If data is a list of dicts, column order follows insertion-order.\n",
              "\n",
              "index : Index or array-like\n",
              "    Index to use for resulting frame. Will default to RangeIndex if\n",
              "    no indexing information part of input data and no index provided.\n",
              "columns : Index or array-like\n",
              "    Column labels to use for resulting frame when data does not have them,\n",
              "    defaulting to RangeIndex(0, 1, 2, ..., n). If data contains column labels,\n",
              "    will perform column selection instead.\n",
              "dtype : dtype, default None\n",
              "    Data type to force. Only a single dtype is allowed. If None, infer.\n",
              "copy : bool or None, default None\n",
              "    Copy data from inputs.\n",
              "    For dict data, the default of None behaves like ``copy=True``.  For DataFrame\n",
              "    or 2d ndarray input, the default of None behaves like ``copy=False``.\n",
              "    If data is a dict containing one or more Series (possibly of different dtypes),\n",
              "    ``copy=False`` will ensure that these inputs are not copied.\n",
              "\n",
              "    .. versionchanged:: 1.3.0\n",
              "\n",
              "See Also\n",
              "--------\n",
              "DataFrame.from_records : Constructor from tuples, also record arrays.\n",
              "DataFrame.from_dict : From dicts of Series, arrays, or dicts.\n",
              "read_csv : Read a comma-separated values (csv) file into DataFrame.\n",
              "read_table : Read general delimited file into DataFrame.\n",
              "read_clipboard : Read text from clipboard into DataFrame.\n",
              "\n",
              "Notes\n",
              "-----\n",
              "Please reference the :ref:`User Guide &lt;basics.dataframe&gt;` for more information.\n",
              "\n",
              "Examples\n",
              "--------\n",
              "Constructing DataFrame from a dictionary.\n",
              "\n",
              "&gt;&gt;&gt; d = {&#x27;col1&#x27;: [1, 2], &#x27;col2&#x27;: [3, 4]}\n",
              "&gt;&gt;&gt; df = pd.DataFrame(data=d)\n",
              "&gt;&gt;&gt; df\n",
              "   col1  col2\n",
              "0     1     3\n",
              "1     2     4\n",
              "\n",
              "Notice that the inferred dtype is int64.\n",
              "\n",
              "&gt;&gt;&gt; df.dtypes\n",
              "col1    int64\n",
              "col2    int64\n",
              "dtype: object\n",
              "\n",
              "To enforce a single dtype:\n",
              "\n",
              "&gt;&gt;&gt; df = pd.DataFrame(data=d, dtype=np.int8)\n",
              "&gt;&gt;&gt; df.dtypes\n",
              "col1    int8\n",
              "col2    int8\n",
              "dtype: object\n",
              "\n",
              "Constructing DataFrame from a dictionary including Series:\n",
              "\n",
              "&gt;&gt;&gt; d = {&#x27;col1&#x27;: [0, 1, 2, 3], &#x27;col2&#x27;: pd.Series([2, 3], index=[2, 3])}\n",
              "&gt;&gt;&gt; pd.DataFrame(data=d, index=[0, 1, 2, 3])\n",
              "   col1  col2\n",
              "0     0   NaN\n",
              "1     1   NaN\n",
              "2     2   2.0\n",
              "3     3   3.0\n",
              "\n",
              "Constructing DataFrame from numpy ndarray:\n",
              "\n",
              "&gt;&gt;&gt; df2 = pd.DataFrame(np.array([[1, 2, 3], [4, 5, 6], [7, 8, 9]]),\n",
              "...                    columns=[&#x27;a&#x27;, &#x27;b&#x27;, &#x27;c&#x27;])\n",
              "&gt;&gt;&gt; df2\n",
              "   a  b  c\n",
              "0  1  2  3\n",
              "1  4  5  6\n",
              "2  7  8  9\n",
              "\n",
              "Constructing DataFrame from a numpy ndarray that has labeled columns:\n",
              "\n",
              "&gt;&gt;&gt; data = np.array([(1, 2, 3), (4, 5, 6), (7, 8, 9)],\n",
              "...                 dtype=[(&quot;a&quot;, &quot;i4&quot;), (&quot;b&quot;, &quot;i4&quot;), (&quot;c&quot;, &quot;i4&quot;)])\n",
              "&gt;&gt;&gt; df3 = pd.DataFrame(data, columns=[&#x27;c&#x27;, &#x27;a&#x27;])\n",
              "...\n",
              "&gt;&gt;&gt; df3\n",
              "   c  a\n",
              "0  3  1\n",
              "1  6  4\n",
              "2  9  7\n",
              "\n",
              "Constructing DataFrame from dataclass:\n",
              "\n",
              "&gt;&gt;&gt; from dataclasses import make_dataclass\n",
              "&gt;&gt;&gt; Point = make_dataclass(&quot;Point&quot;, [(&quot;x&quot;, int), (&quot;y&quot;, int)])\n",
              "&gt;&gt;&gt; pd.DataFrame([Point(0, 0), Point(0, 3), Point(2, 3)])\n",
              "   x  y\n",
              "0  0  0\n",
              "1  0  3\n",
              "2  2  3\n",
              "\n",
              "Constructing DataFrame from Series/DataFrame:\n",
              "\n",
              "&gt;&gt;&gt; ser = pd.Series([1, 2, 3], index=[&quot;a&quot;, &quot;b&quot;, &quot;c&quot;])\n",
              "&gt;&gt;&gt; df = pd.DataFrame(data=ser, index=[&quot;a&quot;, &quot;c&quot;])\n",
              "&gt;&gt;&gt; df\n",
              "   0\n",
              "a  1\n",
              "c  3\n",
              "\n",
              "&gt;&gt;&gt; df1 = pd.DataFrame([1, 2, 3], index=[&quot;a&quot;, &quot;b&quot;, &quot;c&quot;], columns=[&quot;x&quot;])\n",
              "&gt;&gt;&gt; df2 = pd.DataFrame(data=df1, index=[&quot;a&quot;, &quot;c&quot;])\n",
              "&gt;&gt;&gt; df2\n",
              "   x\n",
              "a  1\n",
              "c  3</pre>\n",
              "      <script>\n",
              "      if (google.colab.kernel.accessAllowed && google.colab.files && google.colab.files.view) {\n",
              "        for (const element of document.querySelectorAll('.filepath')) {\n",
              "          element.style.display = 'block'\n",
              "          element.onclick = (event) => {\n",
              "            event.preventDefault();\n",
              "            event.stopPropagation();\n",
              "            google.colab.files.view(element.textContent, 509);\n",
              "          };\n",
              "        }\n",
              "      }\n",
              "      for (const element of document.querySelectorAll('.function-repr-contents')) {\n",
              "        element.onclick = (event) => {\n",
              "          event.preventDefault();\n",
              "          event.stopPropagation();\n",
              "          element.classList.toggle('function-repr-contents-collapsed');\n",
              "        };\n",
              "      }\n",
              "      </script>\n",
              "      </div>"
            ]
          },
          "metadata": {},
          "execution_count": 24
        }
      ]
    },
    {
      "cell_type": "code",
      "source": [
        "transfermarkt = ls.Transfermarkt()\n",
        "u = transfermarkt.scrape_players_for_teams(team_name=\"Universidad de Chile\", team_id=\"1037\", season=\"2023\")"
      ],
      "metadata": {
        "colab": {
          "base_uri": "https://localhost:8080/"
        },
        "id": "AzQgLO3Uh_qu",
        "outputId": "adab233b-3b07-49f3-f5c7-736dd35171d3"
      },
      "execution_count": null,
      "outputs": [
        {
          "output_type": "stream",
          "name": "stdout",
          "text": [
            "['#', 'Jugadores', 'F. Nacim./Edad', 'Nac.', 'Club actual', 'Altura', 'Pie', 'Fichado', 'antes', 'Valor de mercado', 'Pais', 'Seg nacionalidad']\n"
          ]
        }
      ]
    },
    {
      "cell_type": "code",
      "source": [],
      "metadata": {
        "id": "0pnXM8W6hAv0"
      },
      "execution_count": null,
      "outputs": []
    },
    {
      "cell_type": "code",
      "source": [
        "u.to_csv(\"u.csv\", encoding=\"utf-8\")"
      ],
      "metadata": {
        "id": "4oKqZm4CigWI"
      },
      "execution_count": null,
      "outputs": []
    },
    {
      "cell_type": "code",
      "source": [
        "type(u)"
      ],
      "metadata": {
        "colab": {
          "base_uri": "https://localhost:8080/",
          "height": 203
        },
        "id": "2E2ASSziizzu",
        "outputId": "0aace5f8-795c-4ce7-bed8-0bc82fc0eb12"
      },
      "execution_count": null,
      "outputs": [
        {
          "output_type": "execute_result",
          "data": {
            "text/plain": [
              "pandas.core.frame.DataFrame"
            ],
            "text/html": [
              "<div style=\"max-width:800px; border: 1px solid var(--colab-border-color);\"><style>\n",
              "      pre.function-repr-contents {\n",
              "        overflow-x: auto;\n",
              "        padding: 8px 12px;\n",
              "        max-height: 500px;\n",
              "      }\n",
              "\n",
              "      pre.function-repr-contents.function-repr-contents-collapsed {\n",
              "        cursor: pointer;\n",
              "        max-height: 100px;\n",
              "      }\n",
              "    </style>\n",
              "    <pre style=\"white-space: initial; background:\n",
              "         var(--colab-secondary-surface-color); padding: 8px 12px;\n",
              "         border-bottom: 1px solid var(--colab-border-color);\"><b>pandas.core.frame.DataFrame</b><br/>def __init__(data=None, index: Axes | None=None, columns: Axes | None=None, dtype: Dtype | None=None, copy: bool | None=None) -&gt; None</pre><pre class=\"function-repr-contents function-repr-contents-collapsed\" style=\"\"><a class=\"filepath\" style=\"display:none\" href=\"#\">/usr/local/lib/python3.10/dist-packages/pandas/core/frame.py</a>Two-dimensional, size-mutable, potentially heterogeneous tabular data.\n",
              "\n",
              "Data structure also contains labeled axes (rows and columns).\n",
              "Arithmetic operations align on both row and column labels. Can be\n",
              "thought of as a dict-like container for Series objects. The primary\n",
              "pandas data structure.\n",
              "\n",
              "Parameters\n",
              "----------\n",
              "data : ndarray (structured or homogeneous), Iterable, dict, or DataFrame\n",
              "    Dict can contain Series, arrays, constants, dataclass or list-like objects. If\n",
              "    data is a dict, column order follows insertion-order. If a dict contains Series\n",
              "    which have an index defined, it is aligned by its index. This alignment also\n",
              "    occurs if data is a Series or a DataFrame itself. Alignment is done on\n",
              "    Series/DataFrame inputs.\n",
              "\n",
              "    If data is a list of dicts, column order follows insertion-order.\n",
              "\n",
              "index : Index or array-like\n",
              "    Index to use for resulting frame. Will default to RangeIndex if\n",
              "    no indexing information part of input data and no index provided.\n",
              "columns : Index or array-like\n",
              "    Column labels to use for resulting frame when data does not have them,\n",
              "    defaulting to RangeIndex(0, 1, 2, ..., n). If data contains column labels,\n",
              "    will perform column selection instead.\n",
              "dtype : dtype, default None\n",
              "    Data type to force. Only a single dtype is allowed. If None, infer.\n",
              "copy : bool or None, default None\n",
              "    Copy data from inputs.\n",
              "    For dict data, the default of None behaves like ``copy=True``.  For DataFrame\n",
              "    or 2d ndarray input, the default of None behaves like ``copy=False``.\n",
              "    If data is a dict containing one or more Series (possibly of different dtypes),\n",
              "    ``copy=False`` will ensure that these inputs are not copied.\n",
              "\n",
              "    .. versionchanged:: 1.3.0\n",
              "\n",
              "See Also\n",
              "--------\n",
              "DataFrame.from_records : Constructor from tuples, also record arrays.\n",
              "DataFrame.from_dict : From dicts of Series, arrays, or dicts.\n",
              "read_csv : Read a comma-separated values (csv) file into DataFrame.\n",
              "read_table : Read general delimited file into DataFrame.\n",
              "read_clipboard : Read text from clipboard into DataFrame.\n",
              "\n",
              "Notes\n",
              "-----\n",
              "Please reference the :ref:`User Guide &lt;basics.dataframe&gt;` for more information.\n",
              "\n",
              "Examples\n",
              "--------\n",
              "Constructing DataFrame from a dictionary.\n",
              "\n",
              "&gt;&gt;&gt; d = {&#x27;col1&#x27;: [1, 2], &#x27;col2&#x27;: [3, 4]}\n",
              "&gt;&gt;&gt; df = pd.DataFrame(data=d)\n",
              "&gt;&gt;&gt; df\n",
              "   col1  col2\n",
              "0     1     3\n",
              "1     2     4\n",
              "\n",
              "Notice that the inferred dtype is int64.\n",
              "\n",
              "&gt;&gt;&gt; df.dtypes\n",
              "col1    int64\n",
              "col2    int64\n",
              "dtype: object\n",
              "\n",
              "To enforce a single dtype:\n",
              "\n",
              "&gt;&gt;&gt; df = pd.DataFrame(data=d, dtype=np.int8)\n",
              "&gt;&gt;&gt; df.dtypes\n",
              "col1    int8\n",
              "col2    int8\n",
              "dtype: object\n",
              "\n",
              "Constructing DataFrame from a dictionary including Series:\n",
              "\n",
              "&gt;&gt;&gt; d = {&#x27;col1&#x27;: [0, 1, 2, 3], &#x27;col2&#x27;: pd.Series([2, 3], index=[2, 3])}\n",
              "&gt;&gt;&gt; pd.DataFrame(data=d, index=[0, 1, 2, 3])\n",
              "   col1  col2\n",
              "0     0   NaN\n",
              "1     1   NaN\n",
              "2     2   2.0\n",
              "3     3   3.0\n",
              "\n",
              "Constructing DataFrame from numpy ndarray:\n",
              "\n",
              "&gt;&gt;&gt; df2 = pd.DataFrame(np.array([[1, 2, 3], [4, 5, 6], [7, 8, 9]]),\n",
              "...                    columns=[&#x27;a&#x27;, &#x27;b&#x27;, &#x27;c&#x27;])\n",
              "&gt;&gt;&gt; df2\n",
              "   a  b  c\n",
              "0  1  2  3\n",
              "1  4  5  6\n",
              "2  7  8  9\n",
              "\n",
              "Constructing DataFrame from a numpy ndarray that has labeled columns:\n",
              "\n",
              "&gt;&gt;&gt; data = np.array([(1, 2, 3), (4, 5, 6), (7, 8, 9)],\n",
              "...                 dtype=[(&quot;a&quot;, &quot;i4&quot;), (&quot;b&quot;, &quot;i4&quot;), (&quot;c&quot;, &quot;i4&quot;)])\n",
              "&gt;&gt;&gt; df3 = pd.DataFrame(data, columns=[&#x27;c&#x27;, &#x27;a&#x27;])\n",
              "...\n",
              "&gt;&gt;&gt; df3\n",
              "   c  a\n",
              "0  3  1\n",
              "1  6  4\n",
              "2  9  7\n",
              "\n",
              "Constructing DataFrame from dataclass:\n",
              "\n",
              "&gt;&gt;&gt; from dataclasses import make_dataclass\n",
              "&gt;&gt;&gt; Point = make_dataclass(&quot;Point&quot;, [(&quot;x&quot;, int), (&quot;y&quot;, int)])\n",
              "&gt;&gt;&gt; pd.DataFrame([Point(0, 0), Point(0, 3), Point(2, 3)])\n",
              "   x  y\n",
              "0  0  0\n",
              "1  0  3\n",
              "2  2  3\n",
              "\n",
              "Constructing DataFrame from Series/DataFrame:\n",
              "\n",
              "&gt;&gt;&gt; ser = pd.Series([1, 2, 3], index=[&quot;a&quot;, &quot;b&quot;, &quot;c&quot;])\n",
              "&gt;&gt;&gt; df = pd.DataFrame(data=ser, index=[&quot;a&quot;, &quot;c&quot;])\n",
              "&gt;&gt;&gt; df\n",
              "   0\n",
              "a  1\n",
              "c  3\n",
              "\n",
              "&gt;&gt;&gt; df1 = pd.DataFrame([1, 2, 3], index=[&quot;a&quot;, &quot;b&quot;, &quot;c&quot;], columns=[&quot;x&quot;])\n",
              "&gt;&gt;&gt; df2 = pd.DataFrame(data=df1, index=[&quot;a&quot;, &quot;c&quot;])\n",
              "&gt;&gt;&gt; df2\n",
              "   x\n",
              "a  1\n",
              "c  3</pre>\n",
              "      <script>\n",
              "      if (google.colab.kernel.accessAllowed && google.colab.files && google.colab.files.view) {\n",
              "        for (const element of document.querySelectorAll('.filepath')) {\n",
              "          element.style.display = 'block'\n",
              "          element.onclick = (event) => {\n",
              "            event.preventDefault();\n",
              "            event.stopPropagation();\n",
              "            google.colab.files.view(element.textContent, 509);\n",
              "          };\n",
              "        }\n",
              "      }\n",
              "      for (const element of document.querySelectorAll('.function-repr-contents')) {\n",
              "        element.onclick = (event) => {\n",
              "          event.preventDefault();\n",
              "          event.stopPropagation();\n",
              "          element.classList.toggle('function-repr-contents-collapsed');\n",
              "        };\n",
              "      }\n",
              "      </script>\n",
              "      </div>"
            ]
          },
          "metadata": {},
          "execution_count": 37
        }
      ]
    },
    {
      "cell_type": "code",
      "source": [
        "transfermarkt = ls.Transfermarkt()\n",
        "univ = transfermarkt.scrape_players_for_teams(team_name=\"Universidad de Chile\", team_id=\"1037\", season=\"2023\")"
      ],
      "metadata": {
        "colab": {
          "base_uri": "https://localhost:8080/"
        },
        "id": "aJ_6LVRzlsq9",
        "outputId": "fbf81179-4424-430d-a6a8-ba25d3121530"
      },
      "execution_count": null,
      "outputs": [
        {
          "output_type": "stream",
          "name": "stdout",
          "text": [
            "['#', 'Jugadores', 'F. Nacim./Edad', 'Nac.', 'Club actual', 'Altura', 'Pie', 'Fichado', 'antes', 'Valor de mercado', 'Pais', 'Seg nacionalidad']\n"
          ]
        }
      ]
    },
    {
      "cell_type": "code",
      "source": [
        "univ.to_csv(\"univ.csv\", encoding=\"utf-8\")"
      ],
      "metadata": {
        "id": "N0mahaEXlz1i"
      },
      "execution_count": null,
      "outputs": []
    },
    {
      "cell_type": "code",
      "source": [
        "type(univ)"
      ],
      "metadata": {
        "colab": {
          "base_uri": "https://localhost:8080/",
          "height": 203
        },
        "id": "q3Q4bbxNl3pz",
        "outputId": "71809373-f37c-466b-ec97-3aeae1b237db"
      },
      "execution_count": null,
      "outputs": [
        {
          "output_type": "execute_result",
          "data": {
            "text/plain": [
              "pandas.core.frame.DataFrame"
            ],
            "text/html": [
              "<div style=\"max-width:800px; border: 1px solid var(--colab-border-color);\"><style>\n",
              "      pre.function-repr-contents {\n",
              "        overflow-x: auto;\n",
              "        padding: 8px 12px;\n",
              "        max-height: 500px;\n",
              "      }\n",
              "\n",
              "      pre.function-repr-contents.function-repr-contents-collapsed {\n",
              "        cursor: pointer;\n",
              "        max-height: 100px;\n",
              "      }\n",
              "    </style>\n",
              "    <pre style=\"white-space: initial; background:\n",
              "         var(--colab-secondary-surface-color); padding: 8px 12px;\n",
              "         border-bottom: 1px solid var(--colab-border-color);\"><b>pandas.core.frame.DataFrame</b><br/>def __init__(data=None, index: Axes | None=None, columns: Axes | None=None, dtype: Dtype | None=None, copy: bool | None=None) -&gt; None</pre><pre class=\"function-repr-contents function-repr-contents-collapsed\" style=\"\"><a class=\"filepath\" style=\"display:none\" href=\"#\">/usr/local/lib/python3.10/dist-packages/pandas/core/frame.py</a>Two-dimensional, size-mutable, potentially heterogeneous tabular data.\n",
              "\n",
              "Data structure also contains labeled axes (rows and columns).\n",
              "Arithmetic operations align on both row and column labels. Can be\n",
              "thought of as a dict-like container for Series objects. The primary\n",
              "pandas data structure.\n",
              "\n",
              "Parameters\n",
              "----------\n",
              "data : ndarray (structured or homogeneous), Iterable, dict, or DataFrame\n",
              "    Dict can contain Series, arrays, constants, dataclass or list-like objects. If\n",
              "    data is a dict, column order follows insertion-order. If a dict contains Series\n",
              "    which have an index defined, it is aligned by its index. This alignment also\n",
              "    occurs if data is a Series or a DataFrame itself. Alignment is done on\n",
              "    Series/DataFrame inputs.\n",
              "\n",
              "    If data is a list of dicts, column order follows insertion-order.\n",
              "\n",
              "index : Index or array-like\n",
              "    Index to use for resulting frame. Will default to RangeIndex if\n",
              "    no indexing information part of input data and no index provided.\n",
              "columns : Index or array-like\n",
              "    Column labels to use for resulting frame when data does not have them,\n",
              "    defaulting to RangeIndex(0, 1, 2, ..., n). If data contains column labels,\n",
              "    will perform column selection instead.\n",
              "dtype : dtype, default None\n",
              "    Data type to force. Only a single dtype is allowed. If None, infer.\n",
              "copy : bool or None, default None\n",
              "    Copy data from inputs.\n",
              "    For dict data, the default of None behaves like ``copy=True``.  For DataFrame\n",
              "    or 2d ndarray input, the default of None behaves like ``copy=False``.\n",
              "    If data is a dict containing one or more Series (possibly of different dtypes),\n",
              "    ``copy=False`` will ensure that these inputs are not copied.\n",
              "\n",
              "    .. versionchanged:: 1.3.0\n",
              "\n",
              "See Also\n",
              "--------\n",
              "DataFrame.from_records : Constructor from tuples, also record arrays.\n",
              "DataFrame.from_dict : From dicts of Series, arrays, or dicts.\n",
              "read_csv : Read a comma-separated values (csv) file into DataFrame.\n",
              "read_table : Read general delimited file into DataFrame.\n",
              "read_clipboard : Read text from clipboard into DataFrame.\n",
              "\n",
              "Notes\n",
              "-----\n",
              "Please reference the :ref:`User Guide &lt;basics.dataframe&gt;` for more information.\n",
              "\n",
              "Examples\n",
              "--------\n",
              "Constructing DataFrame from a dictionary.\n",
              "\n",
              "&gt;&gt;&gt; d = {&#x27;col1&#x27;: [1, 2], &#x27;col2&#x27;: [3, 4]}\n",
              "&gt;&gt;&gt; df = pd.DataFrame(data=d)\n",
              "&gt;&gt;&gt; df\n",
              "   col1  col2\n",
              "0     1     3\n",
              "1     2     4\n",
              "\n",
              "Notice that the inferred dtype is int64.\n",
              "\n",
              "&gt;&gt;&gt; df.dtypes\n",
              "col1    int64\n",
              "col2    int64\n",
              "dtype: object\n",
              "\n",
              "To enforce a single dtype:\n",
              "\n",
              "&gt;&gt;&gt; df = pd.DataFrame(data=d, dtype=np.int8)\n",
              "&gt;&gt;&gt; df.dtypes\n",
              "col1    int8\n",
              "col2    int8\n",
              "dtype: object\n",
              "\n",
              "Constructing DataFrame from a dictionary including Series:\n",
              "\n",
              "&gt;&gt;&gt; d = {&#x27;col1&#x27;: [0, 1, 2, 3], &#x27;col2&#x27;: pd.Series([2, 3], index=[2, 3])}\n",
              "&gt;&gt;&gt; pd.DataFrame(data=d, index=[0, 1, 2, 3])\n",
              "   col1  col2\n",
              "0     0   NaN\n",
              "1     1   NaN\n",
              "2     2   2.0\n",
              "3     3   3.0\n",
              "\n",
              "Constructing DataFrame from numpy ndarray:\n",
              "\n",
              "&gt;&gt;&gt; df2 = pd.DataFrame(np.array([[1, 2, 3], [4, 5, 6], [7, 8, 9]]),\n",
              "...                    columns=[&#x27;a&#x27;, &#x27;b&#x27;, &#x27;c&#x27;])\n",
              "&gt;&gt;&gt; df2\n",
              "   a  b  c\n",
              "0  1  2  3\n",
              "1  4  5  6\n",
              "2  7  8  9\n",
              "\n",
              "Constructing DataFrame from a numpy ndarray that has labeled columns:\n",
              "\n",
              "&gt;&gt;&gt; data = np.array([(1, 2, 3), (4, 5, 6), (7, 8, 9)],\n",
              "...                 dtype=[(&quot;a&quot;, &quot;i4&quot;), (&quot;b&quot;, &quot;i4&quot;), (&quot;c&quot;, &quot;i4&quot;)])\n",
              "&gt;&gt;&gt; df3 = pd.DataFrame(data, columns=[&#x27;c&#x27;, &#x27;a&#x27;])\n",
              "...\n",
              "&gt;&gt;&gt; df3\n",
              "   c  a\n",
              "0  3  1\n",
              "1  6  4\n",
              "2  9  7\n",
              "\n",
              "Constructing DataFrame from dataclass:\n",
              "\n",
              "&gt;&gt;&gt; from dataclasses import make_dataclass\n",
              "&gt;&gt;&gt; Point = make_dataclass(&quot;Point&quot;, [(&quot;x&quot;, int), (&quot;y&quot;, int)])\n",
              "&gt;&gt;&gt; pd.DataFrame([Point(0, 0), Point(0, 3), Point(2, 3)])\n",
              "   x  y\n",
              "0  0  0\n",
              "1  0  3\n",
              "2  2  3\n",
              "\n",
              "Constructing DataFrame from Series/DataFrame:\n",
              "\n",
              "&gt;&gt;&gt; ser = pd.Series([1, 2, 3], index=[&quot;a&quot;, &quot;b&quot;, &quot;c&quot;])\n",
              "&gt;&gt;&gt; df = pd.DataFrame(data=ser, index=[&quot;a&quot;, &quot;c&quot;])\n",
              "&gt;&gt;&gt; df\n",
              "   0\n",
              "a  1\n",
              "c  3\n",
              "\n",
              "&gt;&gt;&gt; df1 = pd.DataFrame([1, 2, 3], index=[&quot;a&quot;, &quot;b&quot;, &quot;c&quot;], columns=[&quot;x&quot;])\n",
              "&gt;&gt;&gt; df2 = pd.DataFrame(data=df1, index=[&quot;a&quot;, &quot;c&quot;])\n",
              "&gt;&gt;&gt; df2\n",
              "   x\n",
              "a  1\n",
              "c  3</pre>\n",
              "      <script>\n",
              "      if (google.colab.kernel.accessAllowed && google.colab.files && google.colab.files.view) {\n",
              "        for (const element of document.querySelectorAll('.filepath')) {\n",
              "          element.style.display = 'block'\n",
              "          element.onclick = (event) => {\n",
              "            event.preventDefault();\n",
              "            event.stopPropagation();\n",
              "            google.colab.files.view(element.textContent, 509);\n",
              "          };\n",
              "        }\n",
              "      }\n",
              "      for (const element of document.querySelectorAll('.function-repr-contents')) {\n",
              "        element.onclick = (event) => {\n",
              "          event.preventDefault();\n",
              "          event.stopPropagation();\n",
              "          element.classList.toggle('function-repr-contents-collapsed');\n",
              "        };\n",
              "      }\n",
              "      </script>\n",
              "      </div>"
            ]
          },
          "metadata": {},
          "execution_count": 56
        }
      ]
    },
    {
      "cell_type": "code",
      "source": [
        "transfermarkt = ls.Transfermarkt()\n",
        "Audax = transfermarkt.scrape_players_for_teams(team_name=\"Audax Italiano\", team_id=\"6363\", season=\"2023\")"
      ],
      "metadata": {
        "colab": {
          "base_uri": "https://localhost:8080/",
          "height": 158
        },
        "id": "rrUj-9x1gAoA",
        "outputId": "afe9426b-723d-4043-fea9-cce1efdc4404"
      },
      "execution_count": null,
      "outputs": [
        {
          "output_type": "error",
          "ename": "NameError",
          "evalue": "name 'ls' is not defined",
          "traceback": [
            "\u001b[0;31m---------------------------------------------------------------------------\u001b[0m",
            "\u001b[0;31mNameError\u001b[0m                                 Traceback (most recent call last)",
            "\u001b[0;32m<ipython-input-4-3f989fa9f5cf>\u001b[0m in \u001b[0;36m<cell line: 1>\u001b[0;34m()\u001b[0m\n\u001b[0;32m----> 1\u001b[0;31m \u001b[0mtransfermarkt\u001b[0m \u001b[0;34m=\u001b[0m \u001b[0mls\u001b[0m\u001b[0;34m.\u001b[0m\u001b[0mTransfermarkt\u001b[0m\u001b[0;34m(\u001b[0m\u001b[0;34m)\u001b[0m\u001b[0;34m\u001b[0m\u001b[0;34m\u001b[0m\u001b[0m\n\u001b[0m\u001b[1;32m      2\u001b[0m \u001b[0mAudax\u001b[0m \u001b[0;34m=\u001b[0m \u001b[0mtransfermarkt\u001b[0m\u001b[0;34m.\u001b[0m\u001b[0mscrape_players_for_teams\u001b[0m\u001b[0;34m(\u001b[0m\u001b[0mteam_name\u001b[0m\u001b[0;34m=\u001b[0m\u001b[0;34m\"Audax Italiano\"\u001b[0m\u001b[0;34m,\u001b[0m \u001b[0mteam_id\u001b[0m\u001b[0;34m=\u001b[0m\u001b[0;34m\"6363\"\u001b[0m\u001b[0;34m,\u001b[0m \u001b[0mseason\u001b[0m\u001b[0;34m=\u001b[0m\u001b[0;34m\"2023\"\u001b[0m\u001b[0;34m)\u001b[0m\u001b[0;34m\u001b[0m\u001b[0;34m\u001b[0m\u001b[0m\n",
            "\u001b[0;31mNameError\u001b[0m: name 'ls' is not defined"
          ]
        }
      ]
    },
    {
      "cell_type": "code",
      "source": [
        "pip install LanusStats"
      ],
      "metadata": {
        "colab": {
          "base_uri": "https://localhost:8080/"
        },
        "id": "BMznGW7Bg29y",
        "outputId": "150e977b-5f94-4f89-9b98-b0eb210bab56"
      },
      "execution_count": null,
      "outputs": [
        {
          "output_type": "stream",
          "name": "stdout",
          "text": [
            "Collecting LanusStats\n",
            "  Downloading LanusStats-1.7.1-py3-none-any.whl.metadata (14 kB)\n",
            "Requirement already satisfied: pandas in /usr/local/lib/python3.10/dist-packages (from LanusStats) (2.2.2)\n",
            "Collecting mplsoccer (from LanusStats)\n",
            "  Downloading mplsoccer-1.4.0-py3-none-any.whl.metadata (4.8 kB)\n",
            "Requirement already satisfied: requests in /usr/local/lib/python3.10/dist-packages (from LanusStats) (2.32.3)\n",
            "Requirement already satisfied: matplotlib in /usr/local/lib/python3.10/dist-packages (from LanusStats) (3.7.1)\n",
            "Requirement already satisfied: numpy in /usr/local/lib/python3.10/dist-packages (from LanusStats) (1.26.4)\n",
            "Collecting bs4 (from LanusStats)\n",
            "  Downloading bs4-0.0.2-py2.py3-none-any.whl.metadata (411 bytes)\n",
            "Requirement already satisfied: Pillow in /usr/local/lib/python3.10/dist-packages (from LanusStats) (10.4.0)\n",
            "Requirement already satisfied: beautifulsoup4 in /usr/local/lib/python3.10/dist-packages (from bs4->LanusStats) (4.12.3)\n",
            "Requirement already satisfied: contourpy>=1.0.1 in /usr/local/lib/python3.10/dist-packages (from matplotlib->LanusStats) (1.3.0)\n",
            "Requirement already satisfied: cycler>=0.10 in /usr/local/lib/python3.10/dist-packages (from matplotlib->LanusStats) (0.12.1)\n",
            "Requirement already satisfied: fonttools>=4.22.0 in /usr/local/lib/python3.10/dist-packages (from matplotlib->LanusStats) (4.54.1)\n",
            "Requirement already satisfied: kiwisolver>=1.0.1 in /usr/local/lib/python3.10/dist-packages (from matplotlib->LanusStats) (1.4.7)\n",
            "Requirement already satisfied: packaging>=20.0 in /usr/local/lib/python3.10/dist-packages (from matplotlib->LanusStats) (24.1)\n",
            "Requirement already satisfied: pyparsing>=2.3.1 in /usr/local/lib/python3.10/dist-packages (from matplotlib->LanusStats) (3.1.4)\n",
            "Requirement already satisfied: python-dateutil>=2.7 in /usr/local/lib/python3.10/dist-packages (from matplotlib->LanusStats) (2.8.2)\n",
            "Requirement already satisfied: scipy in /usr/local/lib/python3.10/dist-packages (from mplsoccer->LanusStats) (1.13.1)\n",
            "Requirement already satisfied: seaborn in /usr/local/lib/python3.10/dist-packages (from mplsoccer->LanusStats) (0.13.2)\n",
            "Requirement already satisfied: pytz>=2020.1 in /usr/local/lib/python3.10/dist-packages (from pandas->LanusStats) (2024.2)\n",
            "Requirement already satisfied: tzdata>=2022.7 in /usr/local/lib/python3.10/dist-packages (from pandas->LanusStats) (2024.2)\n",
            "Requirement already satisfied: charset-normalizer<4,>=2 in /usr/local/lib/python3.10/dist-packages (from requests->LanusStats) (3.3.2)\n",
            "Requirement already satisfied: idna<4,>=2.5 in /usr/local/lib/python3.10/dist-packages (from requests->LanusStats) (3.10)\n",
            "Requirement already satisfied: urllib3<3,>=1.21.1 in /usr/local/lib/python3.10/dist-packages (from requests->LanusStats) (2.2.3)\n",
            "Requirement already satisfied: certifi>=2017.4.17 in /usr/local/lib/python3.10/dist-packages (from requests->LanusStats) (2024.8.30)\n",
            "Requirement already satisfied: six>=1.5 in /usr/local/lib/python3.10/dist-packages (from python-dateutil>=2.7->matplotlib->LanusStats) (1.16.0)\n",
            "Requirement already satisfied: soupsieve>1.2 in /usr/local/lib/python3.10/dist-packages (from beautifulsoup4->bs4->LanusStats) (2.6)\n",
            "Downloading LanusStats-1.7.1-py3-none-any.whl (35 kB)\n",
            "Downloading bs4-0.0.2-py2.py3-none-any.whl (1.2 kB)\n",
            "Downloading mplsoccer-1.4.0-py3-none-any.whl (85 kB)\n",
            "\u001b[2K   \u001b[90m━━━━━━━━━━━━━━━━━━━━━━━━━━━━━━━━━━━━━━━━\u001b[0m \u001b[32m85.8/85.8 kB\u001b[0m \u001b[31m2.1 MB/s\u001b[0m eta \u001b[36m0:00:00\u001b[0m\n",
            "\u001b[?25hInstalling collected packages: bs4, mplsoccer, LanusStats\n",
            "Successfully installed LanusStats-1.7.1 bs4-0.0.2 mplsoccer-1.4.0\n"
          ]
        }
      ]
    },
    {
      "cell_type": "code",
      "source": [
        "pip install --upgrade LanusStats"
      ],
      "metadata": {
        "colab": {
          "base_uri": "https://localhost:8080/"
        },
        "id": "Amz6fPGJg7Sw",
        "outputId": "107c13be-60b3-41cb-a3b3-1b6deeefd58a"
      },
      "execution_count": null,
      "outputs": [
        {
          "output_type": "stream",
          "name": "stdout",
          "text": [
            "Requirement already satisfied: LanusStats in /usr/local/lib/python3.10/dist-packages (1.7.1)\n",
            "Requirement already satisfied: pandas in /usr/local/lib/python3.10/dist-packages (from LanusStats) (2.2.2)\n",
            "Requirement already satisfied: mplsoccer in /usr/local/lib/python3.10/dist-packages (from LanusStats) (1.4.0)\n",
            "Requirement already satisfied: requests in /usr/local/lib/python3.10/dist-packages (from LanusStats) (2.32.3)\n",
            "Requirement already satisfied: matplotlib in /usr/local/lib/python3.10/dist-packages (from LanusStats) (3.7.1)\n",
            "Requirement already satisfied: numpy in /usr/local/lib/python3.10/dist-packages (from LanusStats) (1.26.4)\n",
            "Requirement already satisfied: bs4 in /usr/local/lib/python3.10/dist-packages (from LanusStats) (0.0.2)\n",
            "Requirement already satisfied: Pillow in /usr/local/lib/python3.10/dist-packages (from LanusStats) (10.4.0)\n",
            "Requirement already satisfied: beautifulsoup4 in /usr/local/lib/python3.10/dist-packages (from bs4->LanusStats) (4.12.3)\n",
            "Requirement already satisfied: contourpy>=1.0.1 in /usr/local/lib/python3.10/dist-packages (from matplotlib->LanusStats) (1.3.0)\n",
            "Requirement already satisfied: cycler>=0.10 in /usr/local/lib/python3.10/dist-packages (from matplotlib->LanusStats) (0.12.1)\n",
            "Requirement already satisfied: fonttools>=4.22.0 in /usr/local/lib/python3.10/dist-packages (from matplotlib->LanusStats) (4.54.1)\n",
            "Requirement already satisfied: kiwisolver>=1.0.1 in /usr/local/lib/python3.10/dist-packages (from matplotlib->LanusStats) (1.4.7)\n",
            "Requirement already satisfied: packaging>=20.0 in /usr/local/lib/python3.10/dist-packages (from matplotlib->LanusStats) (24.1)\n",
            "Requirement already satisfied: pyparsing>=2.3.1 in /usr/local/lib/python3.10/dist-packages (from matplotlib->LanusStats) (3.1.4)\n",
            "Requirement already satisfied: python-dateutil>=2.7 in /usr/local/lib/python3.10/dist-packages (from matplotlib->LanusStats) (2.8.2)\n",
            "Requirement already satisfied: scipy in /usr/local/lib/python3.10/dist-packages (from mplsoccer->LanusStats) (1.13.1)\n",
            "Requirement already satisfied: seaborn in /usr/local/lib/python3.10/dist-packages (from mplsoccer->LanusStats) (0.13.2)\n",
            "Requirement already satisfied: pytz>=2020.1 in /usr/local/lib/python3.10/dist-packages (from pandas->LanusStats) (2024.2)\n",
            "Requirement already satisfied: tzdata>=2022.7 in /usr/local/lib/python3.10/dist-packages (from pandas->LanusStats) (2024.2)\n",
            "Requirement already satisfied: charset-normalizer<4,>=2 in /usr/local/lib/python3.10/dist-packages (from requests->LanusStats) (3.3.2)\n",
            "Requirement already satisfied: idna<4,>=2.5 in /usr/local/lib/python3.10/dist-packages (from requests->LanusStats) (3.10)\n",
            "Requirement already satisfied: urllib3<3,>=1.21.1 in /usr/local/lib/python3.10/dist-packages (from requests->LanusStats) (2.2.3)\n",
            "Requirement already satisfied: certifi>=2017.4.17 in /usr/local/lib/python3.10/dist-packages (from requests->LanusStats) (2024.8.30)\n",
            "Requirement already satisfied: six>=1.5 in /usr/local/lib/python3.10/dist-packages (from python-dateutil>=2.7->matplotlib->LanusStats) (1.16.0)\n",
            "Requirement already satisfied: soupsieve>1.2 in /usr/local/lib/python3.10/dist-packages (from beautifulsoup4->bs4->LanusStats) (2.6)\n"
          ]
        }
      ]
    },
    {
      "cell_type": "code",
      "source": [
        "import LanusStats as ls\n",
        "transfermarkt = ls.Transfermarkt()"
      ],
      "metadata": {
        "colab": {
          "base_uri": "https://localhost:8080/",
          "height": 332
        },
        "id": "deNdswtxhPYI",
        "outputId": "428340f2-1dd6-4e5f-e05b-2ba52c189e0b"
      },
      "execution_count": null,
      "outputs": [
        {
          "output_type": "error",
          "ename": "ModuleNotFoundError",
          "evalue": "No module named 'LanusStats'",
          "traceback": [
            "\u001b[0;31m---------------------------------------------------------------------------\u001b[0m",
            "\u001b[0;31mModuleNotFoundError\u001b[0m                       Traceback (most recent call last)",
            "\u001b[0;32m<ipython-input-2-549fe4901a3c>\u001b[0m in \u001b[0;36m<cell line: 1>\u001b[0;34m()\u001b[0m\n\u001b[0;32m----> 1\u001b[0;31m \u001b[0;32mimport\u001b[0m \u001b[0mLanusStats\u001b[0m \u001b[0;32mas\u001b[0m \u001b[0mls\u001b[0m\u001b[0;34m\u001b[0m\u001b[0;34m\u001b[0m\u001b[0m\n\u001b[0m\u001b[1;32m      2\u001b[0m \u001b[0mtransfermarkt\u001b[0m \u001b[0;34m=\u001b[0m \u001b[0mls\u001b[0m\u001b[0;34m.\u001b[0m\u001b[0mTransfermarkt\u001b[0m\u001b[0;34m(\u001b[0m\u001b[0;34m)\u001b[0m\u001b[0;34m\u001b[0m\u001b[0;34m\u001b[0m\u001b[0m\n",
            "\u001b[0;31mModuleNotFoundError\u001b[0m: No module named 'LanusStats'",
            "",
            "\u001b[0;31m---------------------------------------------------------------------------\u001b[0;32m\nNOTE: If your import is failing due to a missing package, you can\nmanually install dependencies using either !pip or !apt.\n\nTo view examples of installing some common dependencies, click the\n\"Open Examples\" button below.\n\u001b[0;31m---------------------------------------------------------------------------\u001b[0m\n"
          ],
          "errorDetails": {
            "actions": [
              {
                "action": "open_url",
                "actionText": "Open Examples",
                "url": "/notebooks/snippets/importing_libraries.ipynb"
              }
            ]
          }
        }
      ]
    },
    {
      "cell_type": "code",
      "source": [
        "transfermarkt = ls.Transfermarkt()\n",
        "Audax = transfermarkt.scrape_players_for_teams(team_name=\"Audax Italiano\", team_id=\"6363\", season=\"2023\")"
      ],
      "metadata": {
        "colab": {
          "base_uri": "https://localhost:8080/",
          "height": 158
        },
        "id": "XnQG5HFnhT6E",
        "outputId": "025d2d81-6bea-436e-db09-5d4558ce1ed0"
      },
      "execution_count": null,
      "outputs": [
        {
          "output_type": "error",
          "ename": "NameError",
          "evalue": "name 'ls' is not defined",
          "traceback": [
            "\u001b[0;31m---------------------------------------------------------------------------\u001b[0m",
            "\u001b[0;31mNameError\u001b[0m                                 Traceback (most recent call last)",
            "\u001b[0;32m<ipython-input-1-3f989fa9f5cf>\u001b[0m in \u001b[0;36m<cell line: 1>\u001b[0;34m()\u001b[0m\n\u001b[0;32m----> 1\u001b[0;31m \u001b[0mtransfermarkt\u001b[0m \u001b[0;34m=\u001b[0m \u001b[0mls\u001b[0m\u001b[0;34m.\u001b[0m\u001b[0mTransfermarkt\u001b[0m\u001b[0;34m(\u001b[0m\u001b[0;34m)\u001b[0m\u001b[0;34m\u001b[0m\u001b[0;34m\u001b[0m\u001b[0m\n\u001b[0m\u001b[1;32m      2\u001b[0m \u001b[0mAudax\u001b[0m \u001b[0;34m=\u001b[0m \u001b[0mtransfermarkt\u001b[0m\u001b[0;34m.\u001b[0m\u001b[0mscrape_players_for_teams\u001b[0m\u001b[0;34m(\u001b[0m\u001b[0mteam_name\u001b[0m\u001b[0;34m=\u001b[0m\u001b[0;34m\"Audax Italiano\"\u001b[0m\u001b[0;34m,\u001b[0m \u001b[0mteam_id\u001b[0m\u001b[0;34m=\u001b[0m\u001b[0;34m\"6363\"\u001b[0m\u001b[0;34m,\u001b[0m \u001b[0mseason\u001b[0m\u001b[0;34m=\u001b[0m\u001b[0;34m\"2023\"\u001b[0m\u001b[0;34m)\u001b[0m\u001b[0;34m\u001b[0m\u001b[0;34m\u001b[0m\u001b[0m\n",
            "\u001b[0;31mNameError\u001b[0m: name 'ls' is not defined"
          ]
        }
      ]
    },
    {
      "cell_type": "code",
      "source": [
        "Audax.to_csv(\"Audax.csv\", encoding=\"utf-8\")"
      ],
      "metadata": {
        "id": "jmPApXX9heC6"
      },
      "execution_count": null,
      "outputs": []
    },
    {
      "cell_type": "code",
      "source": [
        "type(Audax)"
      ],
      "metadata": {
        "colab": {
          "base_uri": "https://localhost:8080/",
          "height": 203
        },
        "id": "L87yz1ZmhjX5",
        "outputId": "bb31ee55-dc0a-4b20-8c64-f8be5cbbaf44"
      },
      "execution_count": null,
      "outputs": [
        {
          "output_type": "execute_result",
          "data": {
            "text/plain": [
              "pandas.core.frame.DataFrame"
            ],
            "text/html": [
              "<div style=\"max-width:800px; border: 1px solid var(--colab-border-color);\"><style>\n",
              "      pre.function-repr-contents {\n",
              "        overflow-x: auto;\n",
              "        padding: 8px 12px;\n",
              "        max-height: 500px;\n",
              "      }\n",
              "\n",
              "      pre.function-repr-contents.function-repr-contents-collapsed {\n",
              "        cursor: pointer;\n",
              "        max-height: 100px;\n",
              "      }\n",
              "    </style>\n",
              "    <pre style=\"white-space: initial; background:\n",
              "         var(--colab-secondary-surface-color); padding: 8px 12px;\n",
              "         border-bottom: 1px solid var(--colab-border-color);\"><b>pandas.core.frame.DataFrame</b><br/>def __init__(data=None, index: Axes | None=None, columns: Axes | None=None, dtype: Dtype | None=None, copy: bool | None=None) -&gt; None</pre><pre class=\"function-repr-contents function-repr-contents-collapsed\" style=\"\"><a class=\"filepath\" style=\"display:none\" href=\"#\">/usr/local/lib/python3.10/dist-packages/pandas/core/frame.py</a>Two-dimensional, size-mutable, potentially heterogeneous tabular data.\n",
              "\n",
              "Data structure also contains labeled axes (rows and columns).\n",
              "Arithmetic operations align on both row and column labels. Can be\n",
              "thought of as a dict-like container for Series objects. The primary\n",
              "pandas data structure.\n",
              "\n",
              "Parameters\n",
              "----------\n",
              "data : ndarray (structured or homogeneous), Iterable, dict, or DataFrame\n",
              "    Dict can contain Series, arrays, constants, dataclass or list-like objects. If\n",
              "    data is a dict, column order follows insertion-order. If a dict contains Series\n",
              "    which have an index defined, it is aligned by its index. This alignment also\n",
              "    occurs if data is a Series or a DataFrame itself. Alignment is done on\n",
              "    Series/DataFrame inputs.\n",
              "\n",
              "    If data is a list of dicts, column order follows insertion-order.\n",
              "\n",
              "index : Index or array-like\n",
              "    Index to use for resulting frame. Will default to RangeIndex if\n",
              "    no indexing information part of input data and no index provided.\n",
              "columns : Index or array-like\n",
              "    Column labels to use for resulting frame when data does not have them,\n",
              "    defaulting to RangeIndex(0, 1, 2, ..., n). If data contains column labels,\n",
              "    will perform column selection instead.\n",
              "dtype : dtype, default None\n",
              "    Data type to force. Only a single dtype is allowed. If None, infer.\n",
              "copy : bool or None, default None\n",
              "    Copy data from inputs.\n",
              "    For dict data, the default of None behaves like ``copy=True``.  For DataFrame\n",
              "    or 2d ndarray input, the default of None behaves like ``copy=False``.\n",
              "    If data is a dict containing one or more Series (possibly of different dtypes),\n",
              "    ``copy=False`` will ensure that these inputs are not copied.\n",
              "\n",
              "    .. versionchanged:: 1.3.0\n",
              "\n",
              "See Also\n",
              "--------\n",
              "DataFrame.from_records : Constructor from tuples, also record arrays.\n",
              "DataFrame.from_dict : From dicts of Series, arrays, or dicts.\n",
              "read_csv : Read a comma-separated values (csv) file into DataFrame.\n",
              "read_table : Read general delimited file into DataFrame.\n",
              "read_clipboard : Read text from clipboard into DataFrame.\n",
              "\n",
              "Notes\n",
              "-----\n",
              "Please reference the :ref:`User Guide &lt;basics.dataframe&gt;` for more information.\n",
              "\n",
              "Examples\n",
              "--------\n",
              "Constructing DataFrame from a dictionary.\n",
              "\n",
              "&gt;&gt;&gt; d = {&#x27;col1&#x27;: [1, 2], &#x27;col2&#x27;: [3, 4]}\n",
              "&gt;&gt;&gt; df = pd.DataFrame(data=d)\n",
              "&gt;&gt;&gt; df\n",
              "   col1  col2\n",
              "0     1     3\n",
              "1     2     4\n",
              "\n",
              "Notice that the inferred dtype is int64.\n",
              "\n",
              "&gt;&gt;&gt; df.dtypes\n",
              "col1    int64\n",
              "col2    int64\n",
              "dtype: object\n",
              "\n",
              "To enforce a single dtype:\n",
              "\n",
              "&gt;&gt;&gt; df = pd.DataFrame(data=d, dtype=np.int8)\n",
              "&gt;&gt;&gt; df.dtypes\n",
              "col1    int8\n",
              "col2    int8\n",
              "dtype: object\n",
              "\n",
              "Constructing DataFrame from a dictionary including Series:\n",
              "\n",
              "&gt;&gt;&gt; d = {&#x27;col1&#x27;: [0, 1, 2, 3], &#x27;col2&#x27;: pd.Series([2, 3], index=[2, 3])}\n",
              "&gt;&gt;&gt; pd.DataFrame(data=d, index=[0, 1, 2, 3])\n",
              "   col1  col2\n",
              "0     0   NaN\n",
              "1     1   NaN\n",
              "2     2   2.0\n",
              "3     3   3.0\n",
              "\n",
              "Constructing DataFrame from numpy ndarray:\n",
              "\n",
              "&gt;&gt;&gt; df2 = pd.DataFrame(np.array([[1, 2, 3], [4, 5, 6], [7, 8, 9]]),\n",
              "...                    columns=[&#x27;a&#x27;, &#x27;b&#x27;, &#x27;c&#x27;])\n",
              "&gt;&gt;&gt; df2\n",
              "   a  b  c\n",
              "0  1  2  3\n",
              "1  4  5  6\n",
              "2  7  8  9\n",
              "\n",
              "Constructing DataFrame from a numpy ndarray that has labeled columns:\n",
              "\n",
              "&gt;&gt;&gt; data = np.array([(1, 2, 3), (4, 5, 6), (7, 8, 9)],\n",
              "...                 dtype=[(&quot;a&quot;, &quot;i4&quot;), (&quot;b&quot;, &quot;i4&quot;), (&quot;c&quot;, &quot;i4&quot;)])\n",
              "&gt;&gt;&gt; df3 = pd.DataFrame(data, columns=[&#x27;c&#x27;, &#x27;a&#x27;])\n",
              "...\n",
              "&gt;&gt;&gt; df3\n",
              "   c  a\n",
              "0  3  1\n",
              "1  6  4\n",
              "2  9  7\n",
              "\n",
              "Constructing DataFrame from dataclass:\n",
              "\n",
              "&gt;&gt;&gt; from dataclasses import make_dataclass\n",
              "&gt;&gt;&gt; Point = make_dataclass(&quot;Point&quot;, [(&quot;x&quot;, int), (&quot;y&quot;, int)])\n",
              "&gt;&gt;&gt; pd.DataFrame([Point(0, 0), Point(0, 3), Point(2, 3)])\n",
              "   x  y\n",
              "0  0  0\n",
              "1  0  3\n",
              "2  2  3\n",
              "\n",
              "Constructing DataFrame from Series/DataFrame:\n",
              "\n",
              "&gt;&gt;&gt; ser = pd.Series([1, 2, 3], index=[&quot;a&quot;, &quot;b&quot;, &quot;c&quot;])\n",
              "&gt;&gt;&gt; df = pd.DataFrame(data=ser, index=[&quot;a&quot;, &quot;c&quot;])\n",
              "&gt;&gt;&gt; df\n",
              "   0\n",
              "a  1\n",
              "c  3\n",
              "\n",
              "&gt;&gt;&gt; df1 = pd.DataFrame([1, 2, 3], index=[&quot;a&quot;, &quot;b&quot;, &quot;c&quot;], columns=[&quot;x&quot;])\n",
              "&gt;&gt;&gt; df2 = pd.DataFrame(data=df1, index=[&quot;a&quot;, &quot;c&quot;])\n",
              "&gt;&gt;&gt; df2\n",
              "   x\n",
              "a  1\n",
              "c  3</pre>\n",
              "      <script>\n",
              "      if (google.colab.kernel.accessAllowed && google.colab.files && google.colab.files.view) {\n",
              "        for (const element of document.querySelectorAll('.filepath')) {\n",
              "          element.style.display = 'block'\n",
              "          element.onclick = (event) => {\n",
              "            event.preventDefault();\n",
              "            event.stopPropagation();\n",
              "            google.colab.files.view(element.textContent, 509);\n",
              "          };\n",
              "        }\n",
              "      }\n",
              "      for (const element of document.querySelectorAll('.function-repr-contents')) {\n",
              "        element.onclick = (event) => {\n",
              "          event.preventDefault();\n",
              "          event.stopPropagation();\n",
              "          element.classList.toggle('function-repr-contents-collapsed');\n",
              "        };\n",
              "      }\n",
              "      </script>\n",
              "      </div>"
            ]
          },
          "metadata": {},
          "execution_count": 15
        }
      ]
    },
    {
      "cell_type": "code",
      "source": [
        "transfermarkt = ls.Transfermarkt()\n",
        "Cobresal = transfermarkt.scrape_players_for_teams(team_name=\"Cobresal\", team_id=\"17482\", season=\"2023\")"
      ],
      "metadata": {
        "colab": {
          "base_uri": "https://localhost:8080/"
        },
        "id": "2XN9q2jsh_9F",
        "outputId": "a9223c64-6356-45b4-aac6-ade9f9ed9e93"
      },
      "execution_count": null,
      "outputs": [
        {
          "output_type": "stream",
          "name": "stdout",
          "text": [
            "['#', 'Jugadores', 'F. Nacim./Edad', 'Nac.', 'Club actual', 'Altura', 'Pie', 'Fichado', 'antes', 'Valor de mercado', 'Pais', 'Seg nacionalidad']\n"
          ]
        }
      ]
    },
    {
      "cell_type": "code",
      "source": [
        "Cobresal.to_csv(\"Cobresal.csv\", encoding=\"utf-8\")"
      ],
      "metadata": {
        "id": "vMUdBGd-iL7c"
      },
      "execution_count": null,
      "outputs": []
    },
    {
      "cell_type": "code",
      "source": [
        "type(Cobresal)"
      ],
      "metadata": {
        "colab": {
          "base_uri": "https://localhost:8080/",
          "height": 203
        },
        "id": "L7D5J_jyiQj6",
        "outputId": "5f59bc99-6f92-4669-9d12-29ef474e03a9"
      },
      "execution_count": null,
      "outputs": [
        {
          "output_type": "execute_result",
          "data": {
            "text/plain": [
              "pandas.core.frame.DataFrame"
            ],
            "text/html": [
              "<div style=\"max-width:800px; border: 1px solid var(--colab-border-color);\"><style>\n",
              "      pre.function-repr-contents {\n",
              "        overflow-x: auto;\n",
              "        padding: 8px 12px;\n",
              "        max-height: 500px;\n",
              "      }\n",
              "\n",
              "      pre.function-repr-contents.function-repr-contents-collapsed {\n",
              "        cursor: pointer;\n",
              "        max-height: 100px;\n",
              "      }\n",
              "    </style>\n",
              "    <pre style=\"white-space: initial; background:\n",
              "         var(--colab-secondary-surface-color); padding: 8px 12px;\n",
              "         border-bottom: 1px solid var(--colab-border-color);\"><b>pandas.core.frame.DataFrame</b><br/>def __init__(data=None, index: Axes | None=None, columns: Axes | None=None, dtype: Dtype | None=None, copy: bool | None=None) -&gt; None</pre><pre class=\"function-repr-contents function-repr-contents-collapsed\" style=\"\"><a class=\"filepath\" style=\"display:none\" href=\"#\">/usr/local/lib/python3.10/dist-packages/pandas/core/frame.py</a>Two-dimensional, size-mutable, potentially heterogeneous tabular data.\n",
              "\n",
              "Data structure also contains labeled axes (rows and columns).\n",
              "Arithmetic operations align on both row and column labels. Can be\n",
              "thought of as a dict-like container for Series objects. The primary\n",
              "pandas data structure.\n",
              "\n",
              "Parameters\n",
              "----------\n",
              "data : ndarray (structured or homogeneous), Iterable, dict, or DataFrame\n",
              "    Dict can contain Series, arrays, constants, dataclass or list-like objects. If\n",
              "    data is a dict, column order follows insertion-order. If a dict contains Series\n",
              "    which have an index defined, it is aligned by its index. This alignment also\n",
              "    occurs if data is a Series or a DataFrame itself. Alignment is done on\n",
              "    Series/DataFrame inputs.\n",
              "\n",
              "    If data is a list of dicts, column order follows insertion-order.\n",
              "\n",
              "index : Index or array-like\n",
              "    Index to use for resulting frame. Will default to RangeIndex if\n",
              "    no indexing information part of input data and no index provided.\n",
              "columns : Index or array-like\n",
              "    Column labels to use for resulting frame when data does not have them,\n",
              "    defaulting to RangeIndex(0, 1, 2, ..., n). If data contains column labels,\n",
              "    will perform column selection instead.\n",
              "dtype : dtype, default None\n",
              "    Data type to force. Only a single dtype is allowed. If None, infer.\n",
              "copy : bool or None, default None\n",
              "    Copy data from inputs.\n",
              "    For dict data, the default of None behaves like ``copy=True``.  For DataFrame\n",
              "    or 2d ndarray input, the default of None behaves like ``copy=False``.\n",
              "    If data is a dict containing one or more Series (possibly of different dtypes),\n",
              "    ``copy=False`` will ensure that these inputs are not copied.\n",
              "\n",
              "    .. versionchanged:: 1.3.0\n",
              "\n",
              "See Also\n",
              "--------\n",
              "DataFrame.from_records : Constructor from tuples, also record arrays.\n",
              "DataFrame.from_dict : From dicts of Series, arrays, or dicts.\n",
              "read_csv : Read a comma-separated values (csv) file into DataFrame.\n",
              "read_table : Read general delimited file into DataFrame.\n",
              "read_clipboard : Read text from clipboard into DataFrame.\n",
              "\n",
              "Notes\n",
              "-----\n",
              "Please reference the :ref:`User Guide &lt;basics.dataframe&gt;` for more information.\n",
              "\n",
              "Examples\n",
              "--------\n",
              "Constructing DataFrame from a dictionary.\n",
              "\n",
              "&gt;&gt;&gt; d = {&#x27;col1&#x27;: [1, 2], &#x27;col2&#x27;: [3, 4]}\n",
              "&gt;&gt;&gt; df = pd.DataFrame(data=d)\n",
              "&gt;&gt;&gt; df\n",
              "   col1  col2\n",
              "0     1     3\n",
              "1     2     4\n",
              "\n",
              "Notice that the inferred dtype is int64.\n",
              "\n",
              "&gt;&gt;&gt; df.dtypes\n",
              "col1    int64\n",
              "col2    int64\n",
              "dtype: object\n",
              "\n",
              "To enforce a single dtype:\n",
              "\n",
              "&gt;&gt;&gt; df = pd.DataFrame(data=d, dtype=np.int8)\n",
              "&gt;&gt;&gt; df.dtypes\n",
              "col1    int8\n",
              "col2    int8\n",
              "dtype: object\n",
              "\n",
              "Constructing DataFrame from a dictionary including Series:\n",
              "\n",
              "&gt;&gt;&gt; d = {&#x27;col1&#x27;: [0, 1, 2, 3], &#x27;col2&#x27;: pd.Series([2, 3], index=[2, 3])}\n",
              "&gt;&gt;&gt; pd.DataFrame(data=d, index=[0, 1, 2, 3])\n",
              "   col1  col2\n",
              "0     0   NaN\n",
              "1     1   NaN\n",
              "2     2   2.0\n",
              "3     3   3.0\n",
              "\n",
              "Constructing DataFrame from numpy ndarray:\n",
              "\n",
              "&gt;&gt;&gt; df2 = pd.DataFrame(np.array([[1, 2, 3], [4, 5, 6], [7, 8, 9]]),\n",
              "...                    columns=[&#x27;a&#x27;, &#x27;b&#x27;, &#x27;c&#x27;])\n",
              "&gt;&gt;&gt; df2\n",
              "   a  b  c\n",
              "0  1  2  3\n",
              "1  4  5  6\n",
              "2  7  8  9\n",
              "\n",
              "Constructing DataFrame from a numpy ndarray that has labeled columns:\n",
              "\n",
              "&gt;&gt;&gt; data = np.array([(1, 2, 3), (4, 5, 6), (7, 8, 9)],\n",
              "...                 dtype=[(&quot;a&quot;, &quot;i4&quot;), (&quot;b&quot;, &quot;i4&quot;), (&quot;c&quot;, &quot;i4&quot;)])\n",
              "&gt;&gt;&gt; df3 = pd.DataFrame(data, columns=[&#x27;c&#x27;, &#x27;a&#x27;])\n",
              "...\n",
              "&gt;&gt;&gt; df3\n",
              "   c  a\n",
              "0  3  1\n",
              "1  6  4\n",
              "2  9  7\n",
              "\n",
              "Constructing DataFrame from dataclass:\n",
              "\n",
              "&gt;&gt;&gt; from dataclasses import make_dataclass\n",
              "&gt;&gt;&gt; Point = make_dataclass(&quot;Point&quot;, [(&quot;x&quot;, int), (&quot;y&quot;, int)])\n",
              "&gt;&gt;&gt; pd.DataFrame([Point(0, 0), Point(0, 3), Point(2, 3)])\n",
              "   x  y\n",
              "0  0  0\n",
              "1  0  3\n",
              "2  2  3\n",
              "\n",
              "Constructing DataFrame from Series/DataFrame:\n",
              "\n",
              "&gt;&gt;&gt; ser = pd.Series([1, 2, 3], index=[&quot;a&quot;, &quot;b&quot;, &quot;c&quot;])\n",
              "&gt;&gt;&gt; df = pd.DataFrame(data=ser, index=[&quot;a&quot;, &quot;c&quot;])\n",
              "&gt;&gt;&gt; df\n",
              "   0\n",
              "a  1\n",
              "c  3\n",
              "\n",
              "&gt;&gt;&gt; df1 = pd.DataFrame([1, 2, 3], index=[&quot;a&quot;, &quot;b&quot;, &quot;c&quot;], columns=[&quot;x&quot;])\n",
              "&gt;&gt;&gt; df2 = pd.DataFrame(data=df1, index=[&quot;a&quot;, &quot;c&quot;])\n",
              "&gt;&gt;&gt; df2\n",
              "   x\n",
              "a  1\n",
              "c  3</pre>\n",
              "      <script>\n",
              "      if (google.colab.kernel.accessAllowed && google.colab.files && google.colab.files.view) {\n",
              "        for (const element of document.querySelectorAll('.filepath')) {\n",
              "          element.style.display = 'block'\n",
              "          element.onclick = (event) => {\n",
              "            event.preventDefault();\n",
              "            event.stopPropagation();\n",
              "            google.colab.files.view(element.textContent, 509);\n",
              "          };\n",
              "        }\n",
              "      }\n",
              "      for (const element of document.querySelectorAll('.function-repr-contents')) {\n",
              "        element.onclick = (event) => {\n",
              "          event.preventDefault();\n",
              "          event.stopPropagation();\n",
              "          element.classList.toggle('function-repr-contents-collapsed');\n",
              "        };\n",
              "      }\n",
              "      </script>\n",
              "      </div>"
            ]
          },
          "metadata": {},
          "execution_count": 18
        }
      ]
    },
    {
      "cell_type": "code",
      "source": [
        "transfermarkt = ls.Transfermarkt()\n",
        "Colo = transfermarkt.scrape_players_for_teams(team_name=\"Colo Colo\", team_id=\"2433\", season=\"2023\")"
      ],
      "metadata": {
        "colab": {
          "base_uri": "https://localhost:8080/"
        },
        "id": "dI84CqWLiw_U",
        "outputId": "8d6a8762-3d54-43da-b1e2-9e702689f7c9"
      },
      "execution_count": null,
      "outputs": [
        {
          "output_type": "stream",
          "name": "stdout",
          "text": [
            "['#', 'Jugadores', 'F. Nacim./Edad', 'Nac.', 'Club actual', 'Altura', 'Pie', 'Fichado', 'antes', 'Valor de mercado', 'Pais', 'Seg nacionalidad']\n"
          ]
        }
      ]
    },
    {
      "cell_type": "code",
      "source": [
        "Colo.to_csv(\"Colo.csv\", encoding=\"utf-8\")"
      ],
      "metadata": {
        "id": "ySRHsOkLjFSC"
      },
      "execution_count": null,
      "outputs": []
    },
    {
      "cell_type": "code",
      "source": [
        "type(Colo)"
      ],
      "metadata": {
        "colab": {
          "base_uri": "https://localhost:8080/",
          "height": 203
        },
        "id": "ol-1QQstjK_k",
        "outputId": "50616219-40b6-453b-badf-1cee48810e75"
      },
      "execution_count": null,
      "outputs": [
        {
          "output_type": "execute_result",
          "data": {
            "text/plain": [
              "pandas.core.frame.DataFrame"
            ],
            "text/html": [
              "<div style=\"max-width:800px; border: 1px solid var(--colab-border-color);\"><style>\n",
              "      pre.function-repr-contents {\n",
              "        overflow-x: auto;\n",
              "        padding: 8px 12px;\n",
              "        max-height: 500px;\n",
              "      }\n",
              "\n",
              "      pre.function-repr-contents.function-repr-contents-collapsed {\n",
              "        cursor: pointer;\n",
              "        max-height: 100px;\n",
              "      }\n",
              "    </style>\n",
              "    <pre style=\"white-space: initial; background:\n",
              "         var(--colab-secondary-surface-color); padding: 8px 12px;\n",
              "         border-bottom: 1px solid var(--colab-border-color);\"><b>pandas.core.frame.DataFrame</b><br/>def __init__(data=None, index: Axes | None=None, columns: Axes | None=None, dtype: Dtype | None=None, copy: bool | None=None) -&gt; None</pre><pre class=\"function-repr-contents function-repr-contents-collapsed\" style=\"\"><a class=\"filepath\" style=\"display:none\" href=\"#\">/usr/local/lib/python3.10/dist-packages/pandas/core/frame.py</a>Two-dimensional, size-mutable, potentially heterogeneous tabular data.\n",
              "\n",
              "Data structure also contains labeled axes (rows and columns).\n",
              "Arithmetic operations align on both row and column labels. Can be\n",
              "thought of as a dict-like container for Series objects. The primary\n",
              "pandas data structure.\n",
              "\n",
              "Parameters\n",
              "----------\n",
              "data : ndarray (structured or homogeneous), Iterable, dict, or DataFrame\n",
              "    Dict can contain Series, arrays, constants, dataclass or list-like objects. If\n",
              "    data is a dict, column order follows insertion-order. If a dict contains Series\n",
              "    which have an index defined, it is aligned by its index. This alignment also\n",
              "    occurs if data is a Series or a DataFrame itself. Alignment is done on\n",
              "    Series/DataFrame inputs.\n",
              "\n",
              "    If data is a list of dicts, column order follows insertion-order.\n",
              "\n",
              "index : Index or array-like\n",
              "    Index to use for resulting frame. Will default to RangeIndex if\n",
              "    no indexing information part of input data and no index provided.\n",
              "columns : Index or array-like\n",
              "    Column labels to use for resulting frame when data does not have them,\n",
              "    defaulting to RangeIndex(0, 1, 2, ..., n). If data contains column labels,\n",
              "    will perform column selection instead.\n",
              "dtype : dtype, default None\n",
              "    Data type to force. Only a single dtype is allowed. If None, infer.\n",
              "copy : bool or None, default None\n",
              "    Copy data from inputs.\n",
              "    For dict data, the default of None behaves like ``copy=True``.  For DataFrame\n",
              "    or 2d ndarray input, the default of None behaves like ``copy=False``.\n",
              "    If data is a dict containing one or more Series (possibly of different dtypes),\n",
              "    ``copy=False`` will ensure that these inputs are not copied.\n",
              "\n",
              "    .. versionchanged:: 1.3.0\n",
              "\n",
              "See Also\n",
              "--------\n",
              "DataFrame.from_records : Constructor from tuples, also record arrays.\n",
              "DataFrame.from_dict : From dicts of Series, arrays, or dicts.\n",
              "read_csv : Read a comma-separated values (csv) file into DataFrame.\n",
              "read_table : Read general delimited file into DataFrame.\n",
              "read_clipboard : Read text from clipboard into DataFrame.\n",
              "\n",
              "Notes\n",
              "-----\n",
              "Please reference the :ref:`User Guide &lt;basics.dataframe&gt;` for more information.\n",
              "\n",
              "Examples\n",
              "--------\n",
              "Constructing DataFrame from a dictionary.\n",
              "\n",
              "&gt;&gt;&gt; d = {&#x27;col1&#x27;: [1, 2], &#x27;col2&#x27;: [3, 4]}\n",
              "&gt;&gt;&gt; df = pd.DataFrame(data=d)\n",
              "&gt;&gt;&gt; df\n",
              "   col1  col2\n",
              "0     1     3\n",
              "1     2     4\n",
              "\n",
              "Notice that the inferred dtype is int64.\n",
              "\n",
              "&gt;&gt;&gt; df.dtypes\n",
              "col1    int64\n",
              "col2    int64\n",
              "dtype: object\n",
              "\n",
              "To enforce a single dtype:\n",
              "\n",
              "&gt;&gt;&gt; df = pd.DataFrame(data=d, dtype=np.int8)\n",
              "&gt;&gt;&gt; df.dtypes\n",
              "col1    int8\n",
              "col2    int8\n",
              "dtype: object\n",
              "\n",
              "Constructing DataFrame from a dictionary including Series:\n",
              "\n",
              "&gt;&gt;&gt; d = {&#x27;col1&#x27;: [0, 1, 2, 3], &#x27;col2&#x27;: pd.Series([2, 3], index=[2, 3])}\n",
              "&gt;&gt;&gt; pd.DataFrame(data=d, index=[0, 1, 2, 3])\n",
              "   col1  col2\n",
              "0     0   NaN\n",
              "1     1   NaN\n",
              "2     2   2.0\n",
              "3     3   3.0\n",
              "\n",
              "Constructing DataFrame from numpy ndarray:\n",
              "\n",
              "&gt;&gt;&gt; df2 = pd.DataFrame(np.array([[1, 2, 3], [4, 5, 6], [7, 8, 9]]),\n",
              "...                    columns=[&#x27;a&#x27;, &#x27;b&#x27;, &#x27;c&#x27;])\n",
              "&gt;&gt;&gt; df2\n",
              "   a  b  c\n",
              "0  1  2  3\n",
              "1  4  5  6\n",
              "2  7  8  9\n",
              "\n",
              "Constructing DataFrame from a numpy ndarray that has labeled columns:\n",
              "\n",
              "&gt;&gt;&gt; data = np.array([(1, 2, 3), (4, 5, 6), (7, 8, 9)],\n",
              "...                 dtype=[(&quot;a&quot;, &quot;i4&quot;), (&quot;b&quot;, &quot;i4&quot;), (&quot;c&quot;, &quot;i4&quot;)])\n",
              "&gt;&gt;&gt; df3 = pd.DataFrame(data, columns=[&#x27;c&#x27;, &#x27;a&#x27;])\n",
              "...\n",
              "&gt;&gt;&gt; df3\n",
              "   c  a\n",
              "0  3  1\n",
              "1  6  4\n",
              "2  9  7\n",
              "\n",
              "Constructing DataFrame from dataclass:\n",
              "\n",
              "&gt;&gt;&gt; from dataclasses import make_dataclass\n",
              "&gt;&gt;&gt; Point = make_dataclass(&quot;Point&quot;, [(&quot;x&quot;, int), (&quot;y&quot;, int)])\n",
              "&gt;&gt;&gt; pd.DataFrame([Point(0, 0), Point(0, 3), Point(2, 3)])\n",
              "   x  y\n",
              "0  0  0\n",
              "1  0  3\n",
              "2  2  3\n",
              "\n",
              "Constructing DataFrame from Series/DataFrame:\n",
              "\n",
              "&gt;&gt;&gt; ser = pd.Series([1, 2, 3], index=[&quot;a&quot;, &quot;b&quot;, &quot;c&quot;])\n",
              "&gt;&gt;&gt; df = pd.DataFrame(data=ser, index=[&quot;a&quot;, &quot;c&quot;])\n",
              "&gt;&gt;&gt; df\n",
              "   0\n",
              "a  1\n",
              "c  3\n",
              "\n",
              "&gt;&gt;&gt; df1 = pd.DataFrame([1, 2, 3], index=[&quot;a&quot;, &quot;b&quot;, &quot;c&quot;], columns=[&quot;x&quot;])\n",
              "&gt;&gt;&gt; df2 = pd.DataFrame(data=df1, index=[&quot;a&quot;, &quot;c&quot;])\n",
              "&gt;&gt;&gt; df2\n",
              "   x\n",
              "a  1\n",
              "c  3</pre>\n",
              "      <script>\n",
              "      if (google.colab.kernel.accessAllowed && google.colab.files && google.colab.files.view) {\n",
              "        for (const element of document.querySelectorAll('.filepath')) {\n",
              "          element.style.display = 'block'\n",
              "          element.onclick = (event) => {\n",
              "            event.preventDefault();\n",
              "            event.stopPropagation();\n",
              "            google.colab.files.view(element.textContent, 509);\n",
              "          };\n",
              "        }\n",
              "      }\n",
              "      for (const element of document.querySelectorAll('.function-repr-contents')) {\n",
              "        element.onclick = (event) => {\n",
              "          event.preventDefault();\n",
              "          event.stopPropagation();\n",
              "          element.classList.toggle('function-repr-contents-collapsed');\n",
              "        };\n",
              "      }\n",
              "      </script>\n",
              "      </div>"
            ]
          },
          "metadata": {},
          "execution_count": 22
        }
      ]
    },
    {
      "cell_type": "code",
      "source": [
        "transfermarkt = ls.Transfermarkt()\n",
        "Coquimbo = transfermarkt.scrape_players_for_teams(team_name=\"Coquimbo Unido\", team_id=\"11004\", season=\"2023\")"
      ],
      "metadata": {
        "colab": {
          "base_uri": "https://localhost:8080/"
        },
        "id": "PueChkqvjwC5",
        "outputId": "cad00f95-0aca-4c4d-db44-9b2791ae3dd9"
      },
      "execution_count": null,
      "outputs": [
        {
          "output_type": "stream",
          "name": "stdout",
          "text": [
            "['#', 'Jugadores', 'F. Nacim./Edad', 'Nac.', 'Club actual', 'Altura', 'Pie', 'Fichado', 'antes', 'Valor de mercado', 'Pais', 'Seg nacionalidad']\n"
          ]
        }
      ]
    },
    {
      "cell_type": "code",
      "source": [
        "Coquimbo.to_csv(\"Coquimbo.csv\", encoding=\"utf-8\")"
      ],
      "metadata": {
        "id": "cgBhT3Tuj7Pz"
      },
      "execution_count": null,
      "outputs": []
    },
    {
      "cell_type": "code",
      "source": [
        "type(Coquimbo)"
      ],
      "metadata": {
        "colab": {
          "base_uri": "https://localhost:8080/",
          "height": 203
        },
        "id": "C8pv_rqlj_nC",
        "outputId": "b12994a0-37e8-45c7-b335-a297261cb044"
      },
      "execution_count": null,
      "outputs": [
        {
          "output_type": "execute_result",
          "data": {
            "text/plain": [
              "pandas.core.frame.DataFrame"
            ],
            "text/html": [
              "<div style=\"max-width:800px; border: 1px solid var(--colab-border-color);\"><style>\n",
              "      pre.function-repr-contents {\n",
              "        overflow-x: auto;\n",
              "        padding: 8px 12px;\n",
              "        max-height: 500px;\n",
              "      }\n",
              "\n",
              "      pre.function-repr-contents.function-repr-contents-collapsed {\n",
              "        cursor: pointer;\n",
              "        max-height: 100px;\n",
              "      }\n",
              "    </style>\n",
              "    <pre style=\"white-space: initial; background:\n",
              "         var(--colab-secondary-surface-color); padding: 8px 12px;\n",
              "         border-bottom: 1px solid var(--colab-border-color);\"><b>pandas.core.frame.DataFrame</b><br/>def __init__(data=None, index: Axes | None=None, columns: Axes | None=None, dtype: Dtype | None=None, copy: bool | None=None) -&gt; None</pre><pre class=\"function-repr-contents function-repr-contents-collapsed\" style=\"\"><a class=\"filepath\" style=\"display:none\" href=\"#\">/usr/local/lib/python3.10/dist-packages/pandas/core/frame.py</a>Two-dimensional, size-mutable, potentially heterogeneous tabular data.\n",
              "\n",
              "Data structure also contains labeled axes (rows and columns).\n",
              "Arithmetic operations align on both row and column labels. Can be\n",
              "thought of as a dict-like container for Series objects. The primary\n",
              "pandas data structure.\n",
              "\n",
              "Parameters\n",
              "----------\n",
              "data : ndarray (structured or homogeneous), Iterable, dict, or DataFrame\n",
              "    Dict can contain Series, arrays, constants, dataclass or list-like objects. If\n",
              "    data is a dict, column order follows insertion-order. If a dict contains Series\n",
              "    which have an index defined, it is aligned by its index. This alignment also\n",
              "    occurs if data is a Series or a DataFrame itself. Alignment is done on\n",
              "    Series/DataFrame inputs.\n",
              "\n",
              "    If data is a list of dicts, column order follows insertion-order.\n",
              "\n",
              "index : Index or array-like\n",
              "    Index to use for resulting frame. Will default to RangeIndex if\n",
              "    no indexing information part of input data and no index provided.\n",
              "columns : Index or array-like\n",
              "    Column labels to use for resulting frame when data does not have them,\n",
              "    defaulting to RangeIndex(0, 1, 2, ..., n). If data contains column labels,\n",
              "    will perform column selection instead.\n",
              "dtype : dtype, default None\n",
              "    Data type to force. Only a single dtype is allowed. If None, infer.\n",
              "copy : bool or None, default None\n",
              "    Copy data from inputs.\n",
              "    For dict data, the default of None behaves like ``copy=True``.  For DataFrame\n",
              "    or 2d ndarray input, the default of None behaves like ``copy=False``.\n",
              "    If data is a dict containing one or more Series (possibly of different dtypes),\n",
              "    ``copy=False`` will ensure that these inputs are not copied.\n",
              "\n",
              "    .. versionchanged:: 1.3.0\n",
              "\n",
              "See Also\n",
              "--------\n",
              "DataFrame.from_records : Constructor from tuples, also record arrays.\n",
              "DataFrame.from_dict : From dicts of Series, arrays, or dicts.\n",
              "read_csv : Read a comma-separated values (csv) file into DataFrame.\n",
              "read_table : Read general delimited file into DataFrame.\n",
              "read_clipboard : Read text from clipboard into DataFrame.\n",
              "\n",
              "Notes\n",
              "-----\n",
              "Please reference the :ref:`User Guide &lt;basics.dataframe&gt;` for more information.\n",
              "\n",
              "Examples\n",
              "--------\n",
              "Constructing DataFrame from a dictionary.\n",
              "\n",
              "&gt;&gt;&gt; d = {&#x27;col1&#x27;: [1, 2], &#x27;col2&#x27;: [3, 4]}\n",
              "&gt;&gt;&gt; df = pd.DataFrame(data=d)\n",
              "&gt;&gt;&gt; df\n",
              "   col1  col2\n",
              "0     1     3\n",
              "1     2     4\n",
              "\n",
              "Notice that the inferred dtype is int64.\n",
              "\n",
              "&gt;&gt;&gt; df.dtypes\n",
              "col1    int64\n",
              "col2    int64\n",
              "dtype: object\n",
              "\n",
              "To enforce a single dtype:\n",
              "\n",
              "&gt;&gt;&gt; df = pd.DataFrame(data=d, dtype=np.int8)\n",
              "&gt;&gt;&gt; df.dtypes\n",
              "col1    int8\n",
              "col2    int8\n",
              "dtype: object\n",
              "\n",
              "Constructing DataFrame from a dictionary including Series:\n",
              "\n",
              "&gt;&gt;&gt; d = {&#x27;col1&#x27;: [0, 1, 2, 3], &#x27;col2&#x27;: pd.Series([2, 3], index=[2, 3])}\n",
              "&gt;&gt;&gt; pd.DataFrame(data=d, index=[0, 1, 2, 3])\n",
              "   col1  col2\n",
              "0     0   NaN\n",
              "1     1   NaN\n",
              "2     2   2.0\n",
              "3     3   3.0\n",
              "\n",
              "Constructing DataFrame from numpy ndarray:\n",
              "\n",
              "&gt;&gt;&gt; df2 = pd.DataFrame(np.array([[1, 2, 3], [4, 5, 6], [7, 8, 9]]),\n",
              "...                    columns=[&#x27;a&#x27;, &#x27;b&#x27;, &#x27;c&#x27;])\n",
              "&gt;&gt;&gt; df2\n",
              "   a  b  c\n",
              "0  1  2  3\n",
              "1  4  5  6\n",
              "2  7  8  9\n",
              "\n",
              "Constructing DataFrame from a numpy ndarray that has labeled columns:\n",
              "\n",
              "&gt;&gt;&gt; data = np.array([(1, 2, 3), (4, 5, 6), (7, 8, 9)],\n",
              "...                 dtype=[(&quot;a&quot;, &quot;i4&quot;), (&quot;b&quot;, &quot;i4&quot;), (&quot;c&quot;, &quot;i4&quot;)])\n",
              "&gt;&gt;&gt; df3 = pd.DataFrame(data, columns=[&#x27;c&#x27;, &#x27;a&#x27;])\n",
              "...\n",
              "&gt;&gt;&gt; df3\n",
              "   c  a\n",
              "0  3  1\n",
              "1  6  4\n",
              "2  9  7\n",
              "\n",
              "Constructing DataFrame from dataclass:\n",
              "\n",
              "&gt;&gt;&gt; from dataclasses import make_dataclass\n",
              "&gt;&gt;&gt; Point = make_dataclass(&quot;Point&quot;, [(&quot;x&quot;, int), (&quot;y&quot;, int)])\n",
              "&gt;&gt;&gt; pd.DataFrame([Point(0, 0), Point(0, 3), Point(2, 3)])\n",
              "   x  y\n",
              "0  0  0\n",
              "1  0  3\n",
              "2  2  3\n",
              "\n",
              "Constructing DataFrame from Series/DataFrame:\n",
              "\n",
              "&gt;&gt;&gt; ser = pd.Series([1, 2, 3], index=[&quot;a&quot;, &quot;b&quot;, &quot;c&quot;])\n",
              "&gt;&gt;&gt; df = pd.DataFrame(data=ser, index=[&quot;a&quot;, &quot;c&quot;])\n",
              "&gt;&gt;&gt; df\n",
              "   0\n",
              "a  1\n",
              "c  3\n",
              "\n",
              "&gt;&gt;&gt; df1 = pd.DataFrame([1, 2, 3], index=[&quot;a&quot;, &quot;b&quot;, &quot;c&quot;], columns=[&quot;x&quot;])\n",
              "&gt;&gt;&gt; df2 = pd.DataFrame(data=df1, index=[&quot;a&quot;, &quot;c&quot;])\n",
              "&gt;&gt;&gt; df2\n",
              "   x\n",
              "a  1\n",
              "c  3</pre>\n",
              "      <script>\n",
              "      if (google.colab.kernel.accessAllowed && google.colab.files && google.colab.files.view) {\n",
              "        for (const element of document.querySelectorAll('.filepath')) {\n",
              "          element.style.display = 'block'\n",
              "          element.onclick = (event) => {\n",
              "            event.preventDefault();\n",
              "            event.stopPropagation();\n",
              "            google.colab.files.view(element.textContent, 509);\n",
              "          };\n",
              "        }\n",
              "      }\n",
              "      for (const element of document.querySelectorAll('.function-repr-contents')) {\n",
              "        element.onclick = (event) => {\n",
              "          event.preventDefault();\n",
              "          event.stopPropagation();\n",
              "          element.classList.toggle('function-repr-contents-collapsed');\n",
              "        };\n",
              "      }\n",
              "      </script>\n",
              "      </div>"
            ]
          },
          "metadata": {},
          "execution_count": 25
        }
      ]
    },
    {
      "cell_type": "code",
      "source": [
        "transfermarkt = ls.Transfermarkt()\n",
        "Curico = transfermarkt.scrape_players_for_teams(team_name=\"Curico Unido\", team_id=\"19027\", season=\"2023\")"
      ],
      "metadata": {
        "colab": {
          "base_uri": "https://localhost:8080/"
        },
        "id": "8cMQxhstkHNs",
        "outputId": "9562b2f4-3360-4d80-f544-b95b80199543"
      },
      "execution_count": null,
      "outputs": [
        {
          "output_type": "stream",
          "name": "stdout",
          "text": [
            "['#', 'Jugadores', 'F. Nacim./Edad', 'Nac.', 'Club actual', 'Altura', 'Pie', 'Fichado', 'antes', 'Valor de mercado', 'Pais', 'Seg nacionalidad']\n"
          ]
        }
      ]
    },
    {
      "cell_type": "code",
      "source": [
        "Curico.to_csv(\"Curico.csv\", encoding=\"utf-8\")"
      ],
      "metadata": {
        "id": "gSdTxzoPke-l"
      },
      "execution_count": null,
      "outputs": []
    },
    {
      "cell_type": "code",
      "source": [
        "type(Curico)"
      ],
      "metadata": {
        "colab": {
          "base_uri": "https://localhost:8080/",
          "height": 203
        },
        "id": "OpZXGyqRkj9M",
        "outputId": "45dd2cd4-2f7b-4c83-9c9f-e61aad4464b4"
      },
      "execution_count": null,
      "outputs": [
        {
          "output_type": "execute_result",
          "data": {
            "text/plain": [
              "pandas.core.frame.DataFrame"
            ],
            "text/html": [
              "<div style=\"max-width:800px; border: 1px solid var(--colab-border-color);\"><style>\n",
              "      pre.function-repr-contents {\n",
              "        overflow-x: auto;\n",
              "        padding: 8px 12px;\n",
              "        max-height: 500px;\n",
              "      }\n",
              "\n",
              "      pre.function-repr-contents.function-repr-contents-collapsed {\n",
              "        cursor: pointer;\n",
              "        max-height: 100px;\n",
              "      }\n",
              "    </style>\n",
              "    <pre style=\"white-space: initial; background:\n",
              "         var(--colab-secondary-surface-color); padding: 8px 12px;\n",
              "         border-bottom: 1px solid var(--colab-border-color);\"><b>pandas.core.frame.DataFrame</b><br/>def __init__(data=None, index: Axes | None=None, columns: Axes | None=None, dtype: Dtype | None=None, copy: bool | None=None) -&gt; None</pre><pre class=\"function-repr-contents function-repr-contents-collapsed\" style=\"\"><a class=\"filepath\" style=\"display:none\" href=\"#\">/usr/local/lib/python3.10/dist-packages/pandas/core/frame.py</a>Two-dimensional, size-mutable, potentially heterogeneous tabular data.\n",
              "\n",
              "Data structure also contains labeled axes (rows and columns).\n",
              "Arithmetic operations align on both row and column labels. Can be\n",
              "thought of as a dict-like container for Series objects. The primary\n",
              "pandas data structure.\n",
              "\n",
              "Parameters\n",
              "----------\n",
              "data : ndarray (structured or homogeneous), Iterable, dict, or DataFrame\n",
              "    Dict can contain Series, arrays, constants, dataclass or list-like objects. If\n",
              "    data is a dict, column order follows insertion-order. If a dict contains Series\n",
              "    which have an index defined, it is aligned by its index. This alignment also\n",
              "    occurs if data is a Series or a DataFrame itself. Alignment is done on\n",
              "    Series/DataFrame inputs.\n",
              "\n",
              "    If data is a list of dicts, column order follows insertion-order.\n",
              "\n",
              "index : Index or array-like\n",
              "    Index to use for resulting frame. Will default to RangeIndex if\n",
              "    no indexing information part of input data and no index provided.\n",
              "columns : Index or array-like\n",
              "    Column labels to use for resulting frame when data does not have them,\n",
              "    defaulting to RangeIndex(0, 1, 2, ..., n). If data contains column labels,\n",
              "    will perform column selection instead.\n",
              "dtype : dtype, default None\n",
              "    Data type to force. Only a single dtype is allowed. If None, infer.\n",
              "copy : bool or None, default None\n",
              "    Copy data from inputs.\n",
              "    For dict data, the default of None behaves like ``copy=True``.  For DataFrame\n",
              "    or 2d ndarray input, the default of None behaves like ``copy=False``.\n",
              "    If data is a dict containing one or more Series (possibly of different dtypes),\n",
              "    ``copy=False`` will ensure that these inputs are not copied.\n",
              "\n",
              "    .. versionchanged:: 1.3.0\n",
              "\n",
              "See Also\n",
              "--------\n",
              "DataFrame.from_records : Constructor from tuples, also record arrays.\n",
              "DataFrame.from_dict : From dicts of Series, arrays, or dicts.\n",
              "read_csv : Read a comma-separated values (csv) file into DataFrame.\n",
              "read_table : Read general delimited file into DataFrame.\n",
              "read_clipboard : Read text from clipboard into DataFrame.\n",
              "\n",
              "Notes\n",
              "-----\n",
              "Please reference the :ref:`User Guide &lt;basics.dataframe&gt;` for more information.\n",
              "\n",
              "Examples\n",
              "--------\n",
              "Constructing DataFrame from a dictionary.\n",
              "\n",
              "&gt;&gt;&gt; d = {&#x27;col1&#x27;: [1, 2], &#x27;col2&#x27;: [3, 4]}\n",
              "&gt;&gt;&gt; df = pd.DataFrame(data=d)\n",
              "&gt;&gt;&gt; df\n",
              "   col1  col2\n",
              "0     1     3\n",
              "1     2     4\n",
              "\n",
              "Notice that the inferred dtype is int64.\n",
              "\n",
              "&gt;&gt;&gt; df.dtypes\n",
              "col1    int64\n",
              "col2    int64\n",
              "dtype: object\n",
              "\n",
              "To enforce a single dtype:\n",
              "\n",
              "&gt;&gt;&gt; df = pd.DataFrame(data=d, dtype=np.int8)\n",
              "&gt;&gt;&gt; df.dtypes\n",
              "col1    int8\n",
              "col2    int8\n",
              "dtype: object\n",
              "\n",
              "Constructing DataFrame from a dictionary including Series:\n",
              "\n",
              "&gt;&gt;&gt; d = {&#x27;col1&#x27;: [0, 1, 2, 3], &#x27;col2&#x27;: pd.Series([2, 3], index=[2, 3])}\n",
              "&gt;&gt;&gt; pd.DataFrame(data=d, index=[0, 1, 2, 3])\n",
              "   col1  col2\n",
              "0     0   NaN\n",
              "1     1   NaN\n",
              "2     2   2.0\n",
              "3     3   3.0\n",
              "\n",
              "Constructing DataFrame from numpy ndarray:\n",
              "\n",
              "&gt;&gt;&gt; df2 = pd.DataFrame(np.array([[1, 2, 3], [4, 5, 6], [7, 8, 9]]),\n",
              "...                    columns=[&#x27;a&#x27;, &#x27;b&#x27;, &#x27;c&#x27;])\n",
              "&gt;&gt;&gt; df2\n",
              "   a  b  c\n",
              "0  1  2  3\n",
              "1  4  5  6\n",
              "2  7  8  9\n",
              "\n",
              "Constructing DataFrame from a numpy ndarray that has labeled columns:\n",
              "\n",
              "&gt;&gt;&gt; data = np.array([(1, 2, 3), (4, 5, 6), (7, 8, 9)],\n",
              "...                 dtype=[(&quot;a&quot;, &quot;i4&quot;), (&quot;b&quot;, &quot;i4&quot;), (&quot;c&quot;, &quot;i4&quot;)])\n",
              "&gt;&gt;&gt; df3 = pd.DataFrame(data, columns=[&#x27;c&#x27;, &#x27;a&#x27;])\n",
              "...\n",
              "&gt;&gt;&gt; df3\n",
              "   c  a\n",
              "0  3  1\n",
              "1  6  4\n",
              "2  9  7\n",
              "\n",
              "Constructing DataFrame from dataclass:\n",
              "\n",
              "&gt;&gt;&gt; from dataclasses import make_dataclass\n",
              "&gt;&gt;&gt; Point = make_dataclass(&quot;Point&quot;, [(&quot;x&quot;, int), (&quot;y&quot;, int)])\n",
              "&gt;&gt;&gt; pd.DataFrame([Point(0, 0), Point(0, 3), Point(2, 3)])\n",
              "   x  y\n",
              "0  0  0\n",
              "1  0  3\n",
              "2  2  3\n",
              "\n",
              "Constructing DataFrame from Series/DataFrame:\n",
              "\n",
              "&gt;&gt;&gt; ser = pd.Series([1, 2, 3], index=[&quot;a&quot;, &quot;b&quot;, &quot;c&quot;])\n",
              "&gt;&gt;&gt; df = pd.DataFrame(data=ser, index=[&quot;a&quot;, &quot;c&quot;])\n",
              "&gt;&gt;&gt; df\n",
              "   0\n",
              "a  1\n",
              "c  3\n",
              "\n",
              "&gt;&gt;&gt; df1 = pd.DataFrame([1, 2, 3], index=[&quot;a&quot;, &quot;b&quot;, &quot;c&quot;], columns=[&quot;x&quot;])\n",
              "&gt;&gt;&gt; df2 = pd.DataFrame(data=df1, index=[&quot;a&quot;, &quot;c&quot;])\n",
              "&gt;&gt;&gt; df2\n",
              "   x\n",
              "a  1\n",
              "c  3</pre>\n",
              "      <script>\n",
              "      if (google.colab.kernel.accessAllowed && google.colab.files && google.colab.files.view) {\n",
              "        for (const element of document.querySelectorAll('.filepath')) {\n",
              "          element.style.display = 'block'\n",
              "          element.onclick = (event) => {\n",
              "            event.preventDefault();\n",
              "            event.stopPropagation();\n",
              "            google.colab.files.view(element.textContent, 509);\n",
              "          };\n",
              "        }\n",
              "      }\n",
              "      for (const element of document.querySelectorAll('.function-repr-contents')) {\n",
              "        element.onclick = (event) => {\n",
              "          event.preventDefault();\n",
              "          event.stopPropagation();\n",
              "          element.classList.toggle('function-repr-contents-collapsed');\n",
              "        };\n",
              "      }\n",
              "      </script>\n",
              "      </div>"
            ]
          },
          "metadata": {},
          "execution_count": 28
        }
      ]
    },
    {
      "cell_type": "code",
      "source": [
        "transfermarkt = ls.Transfermarkt()\n",
        "Copiapo = transfermarkt.scrape_players_for_teams(team_name=\"Deportes Copiapo\", team_id=\"20694\", season=\"2023\")"
      ],
      "metadata": {
        "colab": {
          "base_uri": "https://localhost:8080/"
        },
        "id": "tX9Mo0kbrkLI",
        "outputId": "b2f86997-294e-411f-aa12-a08499bd90c5"
      },
      "execution_count": null,
      "outputs": [
        {
          "output_type": "stream",
          "name": "stdout",
          "text": [
            "['#', 'Jugadores', 'F. Nacim./Edad', 'Nac.', 'Club actual', 'Altura', 'Pie', 'Fichado', 'antes', 'Valor de mercado', 'Pais', 'Seg nacionalidad']\n"
          ]
        }
      ]
    },
    {
      "cell_type": "code",
      "source": [
        "Copiapo.to_csv(\"Copiapo.csv\", encoding=\"utf-8\")"
      ],
      "metadata": {
        "id": "9dqtJZ-vtdc-"
      },
      "execution_count": null,
      "outputs": []
    },
    {
      "cell_type": "code",
      "source": [
        "transfermarkt = ls.Transfermarkt()\n",
        "Magallanes = transfermarkt.scrape_players_for_teams(team_name=\"Deportes Magallanes\", team_id=\"13394\", season=\"2023\")"
      ],
      "metadata": {
        "colab": {
          "base_uri": "https://localhost:8080/"
        },
        "id": "hK6uEspTtjux",
        "outputId": "eef9b14e-033d-4b9a-e5ae-21ffed59ad38"
      },
      "execution_count": null,
      "outputs": [
        {
          "output_type": "stream",
          "name": "stdout",
          "text": [
            "['#', 'Jugadores', 'F. Nacim./Edad', 'Nac.', 'Club actual', 'Altura', 'Pie', 'Fichado', 'antes', 'Valor de mercado', 'Pais', 'Seg nacionalidad']\n"
          ]
        }
      ]
    },
    {
      "cell_type": "code",
      "source": [
        "Magallanes.to_csv(\"Magallanes.csv\", encoding=\"utf-8\")"
      ],
      "metadata": {
        "id": "Mus_MXv1uC5l"
      },
      "execution_count": null,
      "outputs": []
    },
    {
      "cell_type": "code",
      "source": [
        "type"
      ],
      "metadata": {
        "id": "R8XTWntmuGvn"
      },
      "execution_count": null,
      "outputs": []
    },
    {
      "cell_type": "code",
      "source": [
        "transfermarkt = ls.Transfermarkt()\n",
        "Everton = transfermarkt.scrape_players_for_teams(team_name=\"Everton de Viña del Mar\", team_id=\"7020\", season=\"2023\")"
      ],
      "metadata": {
        "colab": {
          "base_uri": "https://localhost:8080/"
        },
        "id": "2czya5U5uN9D",
        "outputId": "92eaf543-e48f-4e78-ad55-eaf76f64caeb"
      },
      "execution_count": null,
      "outputs": [
        {
          "output_type": "stream",
          "name": "stdout",
          "text": [
            "['#', 'Jugadores', 'F. Nacim./Edad', 'Nac.', 'Club actual', 'Altura', 'Pie', 'Fichado', 'antes', 'Valor de mercado', 'Pais', 'Seg nacionalidad']\n"
          ]
        }
      ]
    },
    {
      "cell_type": "code",
      "source": [
        "Everton.to_csv(\"Everton.csv\", encoding=\"utf-8\")"
      ],
      "metadata": {
        "id": "UuWljC2Mux6E"
      },
      "execution_count": null,
      "outputs": []
    },
    {
      "cell_type": "code",
      "source": [
        "transfermarkt = ls.Transfermarkt()\n",
        "Huachipato = transfermarkt.scrape_players_for_teams(team_name=\"Huachipato\", team_id=\"6368\", season=\"2023\")"
      ],
      "metadata": {
        "colab": {
          "base_uri": "https://localhost:8080/"
        },
        "id": "uOX-sHKwu_PI",
        "outputId": "0d799466-52ec-440c-fa30-5ef0147d0a75"
      },
      "execution_count": null,
      "outputs": [
        {
          "output_type": "stream",
          "name": "stdout",
          "text": [
            "['#', 'Jugadores', 'F. Nacim./Edad', 'Nac.', 'Club actual', 'Altura', 'Pie', 'Fichado', 'antes', 'Valor de mercado', 'Pais', 'Seg nacionalidad']\n"
          ]
        }
      ]
    },
    {
      "cell_type": "code",
      "source": [
        "Huachipato.to_csv(\"Huachipato.csv\", encoding=\"utf-8\")"
      ],
      "metadata": {
        "id": "2geOo_iPvLg4"
      },
      "execution_count": null,
      "outputs": []
    },
    {
      "cell_type": "code",
      "source": [
        "type (Huachipato)"
      ],
      "metadata": {
        "id": "bmoV-bnpvRO9"
      },
      "execution_count": null,
      "outputs": []
    },
    {
      "cell_type": "code",
      "source": [
        "transfermarkt = ls.Transfermarkt()\n",
        "Ñublense = transfermarkt.scrape_players_for_teams(team_name=\"Ñublense\", team_id=\"14723\", season=\"2023\")"
      ],
      "metadata": {
        "colab": {
          "base_uri": "https://localhost:8080/"
        },
        "id": "E4NSv53ivYcw",
        "outputId": "33078cde-4f55-432d-900a-254815441fea"
      },
      "execution_count": null,
      "outputs": [
        {
          "output_type": "stream",
          "name": "stdout",
          "text": [
            "['#', 'Jugadores', 'F. Nacim./Edad', 'Nac.', 'Club actual', 'Altura', 'Pie', 'Fichado', 'antes', 'Valor de mercado', 'Pais', 'Seg nacionalidad']\n"
          ]
        }
      ]
    },
    {
      "cell_type": "code",
      "source": [
        "Ñublense.to_csv(\"Ñublense.csv\", encoding=\"utf-8\")"
      ],
      "metadata": {
        "id": "jM3lIn-KvsLi"
      },
      "execution_count": null,
      "outputs": []
    },
    {
      "cell_type": "code",
      "source": [
        "type"
      ],
      "metadata": {
        "id": "3-MxxAFZvvqC"
      },
      "execution_count": null,
      "outputs": []
    },
    {
      "cell_type": "code",
      "source": [
        "transfermarkt = ls.Transfermarkt()\n",
        "OHiggins = transfermarkt.scrape_players_for_teams(team_name=\"OHiggins\", team_id=\"11470\", season=\"2023\")"
      ],
      "metadata": {
        "colab": {
          "base_uri": "https://localhost:8080/"
        },
        "id": "uzql9mxCv6Ok",
        "outputId": "156c625f-ce10-4efa-bc9a-4e0e9da001e7"
      },
      "execution_count": null,
      "outputs": [
        {
          "output_type": "stream",
          "name": "stdout",
          "text": [
            "['#', 'Jugadores', 'F. Nacim./Edad', 'Nac.', 'Club actual', 'Altura', 'Pie', 'Fichado', 'antes', 'Valor de mercado', 'Pais', 'Seg nacionalidad']\n"
          ]
        }
      ]
    },
    {
      "cell_type": "code",
      "source": [
        "OHiggins.to_csv(\"OHiggins.csv\", encoding=\"utf-8\")"
      ],
      "metadata": {
        "id": "cfwZEVTjwNjR"
      },
      "execution_count": null,
      "outputs": []
    },
    {
      "cell_type": "code",
      "source": [
        "transfermarkt = ls.Transfermarkt()\n",
        "Palestino = transfermarkt.scrape_players_for_teams(team_name=\"Palestino\", team_id=\"6536\", season=\"2023\")"
      ],
      "metadata": {
        "colab": {
          "base_uri": "https://localhost:8080/"
        },
        "id": "HEYY1j1_we00",
        "outputId": "ec1b72d3-eeab-4cf3-88a3-4f1d8016d749"
      },
      "execution_count": null,
      "outputs": [
        {
          "output_type": "stream",
          "name": "stdout",
          "text": [
            "['#', 'Jugadores', 'F. Nacim./Edad', 'Nac.', 'Club actual', 'Altura', 'Pie', 'Fichado', 'antes', 'Valor de mercado', 'Pais', 'Seg nacionalidad']\n"
          ]
        }
      ]
    },
    {
      "cell_type": "code",
      "source": [
        "Palestino.to_csv(\"Palestino.csv\", encoding=\"utf-8\")"
      ],
      "metadata": {
        "id": "Xg4nVL5mwoKx"
      },
      "execution_count": null,
      "outputs": []
    },
    {
      "cell_type": "code",
      "source": [
        "transfermarkt = ls.Transfermarkt()\n",
        "Española = transfermarkt.scrape_players_for_teams(team_name=\"Union Española\", team_id=\"4321\", season=\"2023\")"
      ],
      "metadata": {
        "colab": {
          "base_uri": "https://localhost:8080/"
        },
        "id": "hggSLUMMwuhU",
        "outputId": "4880acaf-7ff6-4b34-ad0a-3c39c0c0f194"
      },
      "execution_count": null,
      "outputs": [
        {
          "output_type": "stream",
          "name": "stdout",
          "text": [
            "['#', 'Jugadores', 'F. Nacim./Edad', 'Nac.', 'Club actual', 'Altura', 'Pie', 'Fichado', 'antes', 'Valor de mercado', 'Pais', 'Seg nacionalidad']\n"
          ]
        }
      ]
    },
    {
      "cell_type": "code",
      "source": [
        "Calera.to_csv(\"Cncoding=\"utf-8\")\n"
      ],
      "metadata": {
        "id": "CAdg_Visw-gG"
      },
      "execution_count": null,
      "outputs": []
    },
    {
      "cell_type": "code",
      "source": [
        "tpye"
      ],
      "metadata": {
        "id": "33sSo6AlxDxZ"
      },
      "execution_count": null,
      "outputs": []
    },
    {
      "cell_type": "code",
      "source": [
        "transfermarkt = ls.Transfermarkt()\n",
        "Calera = transfermarkt.scrape_players_for_teams(team_name=\"Union La Calera\", team_id=\"20514\", season=\"2023\")"
      ],
      "metadata": {
        "colab": {
          "base_uri": "https://localhost:8080/"
        },
        "id": "ZLJrw3Q9xY1j",
        "outputId": "8d593b15-449c-4d47-8f66-9373ebd879f0"
      },
      "execution_count": null,
      "outputs": [
        {
          "output_type": "stream",
          "name": "stdout",
          "text": [
            "['#', 'Jugadores', 'F. Nacim./Edad', 'Nac.', 'Club actual', 'Altura', 'Pie', 'Fichado', 'antes', 'Valor de mercado', 'Pais', 'Seg nacionalidad']\n"
          ]
        }
      ]
    },
    {
      "cell_type": "code",
      "source": [
        "Calera.to_csv(\"Calera.csv\", encoding=\"utf-8\")"
      ],
      "metadata": {
        "id": "X8SmMuy7xjfd"
      },
      "execution_count": null,
      "outputs": []
    },
    {
      "cell_type": "code",
      "source": [
        "type"
      ],
      "metadata": {
        "id": "H8bNrQMHxuzn"
      },
      "execution_count": null,
      "outputs": []
    },
    {
      "cell_type": "code",
      "source": [
        "transfermarkt = ls.Transfermarkt()\n",
        "Catolica = transfermarkt.scrape_players_for_teams(team_name=\"Universidad Catolica\", team_id=\"3277\", season=\"2023\")"
      ],
      "metadata": {
        "colab": {
          "base_uri": "https://localhost:8080/"
        },
        "id": "cha1ovj0x3Eb",
        "outputId": "b08b60af-b0e9-4cb5-b979-070a42363e04"
      },
      "execution_count": null,
      "outputs": [
        {
          "output_type": "stream",
          "name": "stdout",
          "text": [
            "['#', 'Jugadores', 'F. Nacim./Edad', 'Nac.', 'Club actual', 'Altura', 'Pie', 'Fichado', 'antes', 'Valor de mercado', 'Pais', 'Seg nacionalidad']\n"
          ]
        }
      ]
    },
    {
      "cell_type": "code",
      "source": [
        "Catolica.to_csv(\"Catolica.csv\", encoding=\"utf-8\")"
      ],
      "metadata": {
        "id": "4WxVwrTuyL-h"
      },
      "execution_count": null,
      "outputs": []
    },
    {
      "cell_type": "code",
      "source": [
        "pip install LanusStats\n"
      ],
      "metadata": {
        "colab": {
          "base_uri": "https://localhost:8080/"
        },
        "id": "zySLaDTC-lZ_",
        "outputId": "2a2e01fa-c426-460b-d55d-2c7e942fc1c8"
      },
      "execution_count": null,
      "outputs": [
        {
          "output_type": "stream",
          "name": "stdout",
          "text": [
            "Collecting LanusStats\n",
            "  Downloading LanusStats-1.7.1-py3-none-any.whl.metadata (14 kB)\n",
            "Requirement already satisfied: pandas in /usr/local/lib/python3.10/dist-packages (from LanusStats) (2.2.2)\n",
            "Collecting mplsoccer (from LanusStats)\n",
            "  Downloading mplsoccer-1.4.0-py3-none-any.whl.metadata (4.8 kB)\n",
            "Requirement already satisfied: requests in /usr/local/lib/python3.10/dist-packages (from LanusStats) (2.32.3)\n",
            "Requirement already satisfied: matplotlib in /usr/local/lib/python3.10/dist-packages (from LanusStats) (3.7.1)\n",
            "Requirement already satisfied: numpy in /usr/local/lib/python3.10/dist-packages (from LanusStats) (1.26.4)\n",
            "Collecting bs4 (from LanusStats)\n",
            "  Downloading bs4-0.0.2-py2.py3-none-any.whl.metadata (411 bytes)\n",
            "Requirement already satisfied: Pillow in /usr/local/lib/python3.10/dist-packages (from LanusStats) (10.4.0)\n",
            "Requirement already satisfied: beautifulsoup4 in /usr/local/lib/python3.10/dist-packages (from bs4->LanusStats) (4.12.3)\n",
            "Requirement already satisfied: contourpy>=1.0.1 in /usr/local/lib/python3.10/dist-packages (from matplotlib->LanusStats) (1.3.0)\n",
            "Requirement already satisfied: cycler>=0.10 in /usr/local/lib/python3.10/dist-packages (from matplotlib->LanusStats) (0.12.1)\n",
            "Requirement already satisfied: fonttools>=4.22.0 in /usr/local/lib/python3.10/dist-packages (from matplotlib->LanusStats) (4.54.1)\n",
            "Requirement already satisfied: kiwisolver>=1.0.1 in /usr/local/lib/python3.10/dist-packages (from matplotlib->LanusStats) (1.4.7)\n",
            "Requirement already satisfied: packaging>=20.0 in /usr/local/lib/python3.10/dist-packages (from matplotlib->LanusStats) (24.1)\n",
            "Requirement already satisfied: pyparsing>=2.3.1 in /usr/local/lib/python3.10/dist-packages (from matplotlib->LanusStats) (3.1.4)\n",
            "Requirement already satisfied: python-dateutil>=2.7 in /usr/local/lib/python3.10/dist-packages (from matplotlib->LanusStats) (2.8.2)\n",
            "Requirement already satisfied: scipy in /usr/local/lib/python3.10/dist-packages (from mplsoccer->LanusStats) (1.13.1)\n",
            "Requirement already satisfied: seaborn in /usr/local/lib/python3.10/dist-packages (from mplsoccer->LanusStats) (0.13.2)\n",
            "Requirement already satisfied: pytz>=2020.1 in /usr/local/lib/python3.10/dist-packages (from pandas->LanusStats) (2024.2)\n",
            "Requirement already satisfied: tzdata>=2022.7 in /usr/local/lib/python3.10/dist-packages (from pandas->LanusStats) (2024.2)\n",
            "Requirement already satisfied: charset-normalizer<4,>=2 in /usr/local/lib/python3.10/dist-packages (from requests->LanusStats) (3.4.0)\n",
            "Requirement already satisfied: idna<4,>=2.5 in /usr/local/lib/python3.10/dist-packages (from requests->LanusStats) (3.10)\n",
            "Requirement already satisfied: urllib3<3,>=1.21.1 in /usr/local/lib/python3.10/dist-packages (from requests->LanusStats) (2.2.3)\n",
            "Requirement already satisfied: certifi>=2017.4.17 in /usr/local/lib/python3.10/dist-packages (from requests->LanusStats) (2024.8.30)\n",
            "Requirement already satisfied: six>=1.5 in /usr/local/lib/python3.10/dist-packages (from python-dateutil>=2.7->matplotlib->LanusStats) (1.16.0)\n",
            "Requirement already satisfied: soupsieve>1.2 in /usr/local/lib/python3.10/dist-packages (from beautifulsoup4->bs4->LanusStats) (2.6)\n",
            "Downloading LanusStats-1.7.1-py3-none-any.whl (35 kB)\n",
            "Downloading bs4-0.0.2-py2.py3-none-any.whl (1.2 kB)\n",
            "Downloading mplsoccer-1.4.0-py3-none-any.whl (85 kB)\n",
            "\u001b[2K   \u001b[90m━━━━━━━━━━━━━━━━━━━━━━━━━━━━━━━━━━━━━━━━\u001b[0m \u001b[32m85.8/85.8 kB\u001b[0m \u001b[31m6.3 MB/s\u001b[0m eta \u001b[36m0:00:00\u001b[0m\n",
            "\u001b[?25hInstalling collected packages: bs4, mplsoccer, LanusStats\n",
            "Successfully installed LanusStats-1.7.1 bs4-0.0.2 mplsoccer-1.4.0\n"
          ]
        }
      ]
    },
    {
      "cell_type": "code",
      "source": [
        "pip install --upgrade LanusStats"
      ],
      "metadata": {
        "colab": {
          "base_uri": "https://localhost:8080/"
        },
        "id": "YSaSyQ_c-2jD",
        "outputId": "9a7d36ba-7526-4eb9-813a-9f58bc12437d"
      },
      "execution_count": null,
      "outputs": [
        {
          "output_type": "stream",
          "name": "stdout",
          "text": [
            "Requirement already satisfied: LanusStats in /usr/local/lib/python3.10/dist-packages (1.7.1)\n",
            "Requirement already satisfied: pandas in /usr/local/lib/python3.10/dist-packages (from LanusStats) (2.2.2)\n",
            "Requirement already satisfied: mplsoccer in /usr/local/lib/python3.10/dist-packages (from LanusStats) (1.4.0)\n",
            "Requirement already satisfied: requests in /usr/local/lib/python3.10/dist-packages (from LanusStats) (2.32.3)\n",
            "Requirement already satisfied: matplotlib in /usr/local/lib/python3.10/dist-packages (from LanusStats) (3.7.1)\n",
            "Requirement already satisfied: numpy in /usr/local/lib/python3.10/dist-packages (from LanusStats) (1.26.4)\n",
            "Requirement already satisfied: bs4 in /usr/local/lib/python3.10/dist-packages (from LanusStats) (0.0.2)\n",
            "Requirement already satisfied: Pillow in /usr/local/lib/python3.10/dist-packages (from LanusStats) (10.4.0)\n",
            "Requirement already satisfied: beautifulsoup4 in /usr/local/lib/python3.10/dist-packages (from bs4->LanusStats) (4.12.3)\n",
            "Requirement already satisfied: contourpy>=1.0.1 in /usr/local/lib/python3.10/dist-packages (from matplotlib->LanusStats) (1.3.0)\n",
            "Requirement already satisfied: cycler>=0.10 in /usr/local/lib/python3.10/dist-packages (from matplotlib->LanusStats) (0.12.1)\n",
            "Requirement already satisfied: fonttools>=4.22.0 in /usr/local/lib/python3.10/dist-packages (from matplotlib->LanusStats) (4.54.1)\n",
            "Requirement already satisfied: kiwisolver>=1.0.1 in /usr/local/lib/python3.10/dist-packages (from matplotlib->LanusStats) (1.4.7)\n",
            "Requirement already satisfied: packaging>=20.0 in /usr/local/lib/python3.10/dist-packages (from matplotlib->LanusStats) (24.1)\n",
            "Requirement already satisfied: pyparsing>=2.3.1 in /usr/local/lib/python3.10/dist-packages (from matplotlib->LanusStats) (3.1.4)\n",
            "Requirement already satisfied: python-dateutil>=2.7 in /usr/local/lib/python3.10/dist-packages (from matplotlib->LanusStats) (2.8.2)\n",
            "Requirement already satisfied: scipy in /usr/local/lib/python3.10/dist-packages (from mplsoccer->LanusStats) (1.13.1)\n",
            "Requirement already satisfied: seaborn in /usr/local/lib/python3.10/dist-packages (from mplsoccer->LanusStats) (0.13.2)\n",
            "Requirement already satisfied: pytz>=2020.1 in /usr/local/lib/python3.10/dist-packages (from pandas->LanusStats) (2024.2)\n",
            "Requirement already satisfied: tzdata>=2022.7 in /usr/local/lib/python3.10/dist-packages (from pandas->LanusStats) (2024.2)\n",
            "Requirement already satisfied: charset-normalizer<4,>=2 in /usr/local/lib/python3.10/dist-packages (from requests->LanusStats) (3.4.0)\n",
            "Requirement already satisfied: idna<4,>=2.5 in /usr/local/lib/python3.10/dist-packages (from requests->LanusStats) (3.10)\n",
            "Requirement already satisfied: urllib3<3,>=1.21.1 in /usr/local/lib/python3.10/dist-packages (from requests->LanusStats) (2.2.3)\n",
            "Requirement already satisfied: certifi>=2017.4.17 in /usr/local/lib/python3.10/dist-packages (from requests->LanusStats) (2024.8.30)\n",
            "Requirement already satisfied: six>=1.5 in /usr/local/lib/python3.10/dist-packages (from python-dateutil>=2.7->matplotlib->LanusStats) (1.16.0)\n",
            "Requirement already satisfied: soupsieve>1.2 in /usr/local/lib/python3.10/dist-packages (from beautifulsoup4->bs4->LanusStats) (2.6)\n"
          ]
        }
      ]
    },
    {
      "cell_type": "code",
      "source": [
        "import LanusStats as ls\n",
        "fotmob = ls.FotMob()"
      ],
      "metadata": {
        "id": "89cdeenNARyD"
      },
      "execution_count": null,
      "outputs": []
    },
    {
      "cell_type": "code",
      "source": [
        "import LanusStats as ls\n",
        "fbref = ls.Fbref()"
      ],
      "metadata": {
        "id": "bWvpiIuYA_N9"
      },
      "execution_count": null,
      "outputs": []
    },
    {
      "cell_type": "code",
      "source": [
        "fbref = ls.Fbref()\n",
        "fbref.get_teams_season_stats('Uninversidad de Chile', 'Primera Division Chile', season='2023', save_csv=False, stats_vs=False, change_columns_names=False, add_page_name=False)"
      ],
      "metadata": {
        "colab": {
          "base_uri": "https://localhost:8080/",
          "height": 477
        },
        "id": "aEevw7AdBaHs",
        "outputId": "7882de17-673d-46da-deaf-f3b804a6aab6"
      },
      "execution_count": null,
      "outputs": [
        {
          "output_type": "stream",
          "name": "stdout",
          "text": [
            "Starting to scrape teams data from Fbref...\n"
          ]
        },
        {
          "output_type": "error",
          "ename": "InvalidStat",
          "evalue": "Value 'Uninversidad de Chile' for param 'stat' is invalid. Possible values are ['stats', 'keepers', 'keepersadv', 'shooting', 'passing', 'passing_types', 'gca', 'defense', 'possession', 'playingtime', 'misc'].\nEl valor 'Uninversidad de Chile' para el parámetro 'stat' no es válido. Los valores válidos son: ['stats', 'keepers', 'keepersadv', 'shooting', 'passing', 'passing_types', 'gca', 'defense', 'possession', 'playingtime', 'misc']",
          "traceback": [
            "\u001b[0;31m---------------------------------------------------------------------------\u001b[0m",
            "\u001b[0;31mInvalidStat\u001b[0m                               Traceback (most recent call last)",
            "\u001b[0;32m<ipython-input-8-ae07595e50c1>\u001b[0m in \u001b[0;36m<cell line: 2>\u001b[0;34m()\u001b[0m\n\u001b[1;32m      1\u001b[0m \u001b[0mfbref\u001b[0m \u001b[0;34m=\u001b[0m \u001b[0mls\u001b[0m\u001b[0;34m.\u001b[0m\u001b[0mFbref\u001b[0m\u001b[0;34m(\u001b[0m\u001b[0;34m)\u001b[0m\u001b[0;34m\u001b[0m\u001b[0;34m\u001b[0m\u001b[0m\n\u001b[0;32m----> 2\u001b[0;31m \u001b[0mfbref\u001b[0m\u001b[0;34m.\u001b[0m\u001b[0mget_teams_season_stats\u001b[0m\u001b[0;34m(\u001b[0m\u001b[0;34m'Uninversidad de Chile'\u001b[0m\u001b[0;34m,\u001b[0m \u001b[0;34m'Primera Division Chile'\u001b[0m\u001b[0;34m,\u001b[0m \u001b[0mseason\u001b[0m\u001b[0;34m=\u001b[0m\u001b[0;34m'2023'\u001b[0m\u001b[0;34m,\u001b[0m \u001b[0msave_csv\u001b[0m\u001b[0;34m=\u001b[0m\u001b[0;32mFalse\u001b[0m\u001b[0;34m,\u001b[0m \u001b[0mstats_vs\u001b[0m\u001b[0;34m=\u001b[0m\u001b[0;32mFalse\u001b[0m\u001b[0;34m,\u001b[0m \u001b[0mchange_columns_names\u001b[0m\u001b[0;34m=\u001b[0m\u001b[0;32mFalse\u001b[0m\u001b[0;34m,\u001b[0m \u001b[0madd_page_name\u001b[0m\u001b[0;34m=\u001b[0m\u001b[0;32mFalse\u001b[0m\u001b[0;34m)\u001b[0m\u001b[0;34m\u001b[0m\u001b[0;34m\u001b[0m\u001b[0m\n\u001b[0m",
            "\u001b[0;32m/usr/local/lib/python3.10/dist-packages/LanusStats/fbref.py\u001b[0m in \u001b[0;36mget_teams_season_stats\u001b[0;34m(self, stat, league, season, save_csv, stats_vs, change_columns_names, add_page_name)\u001b[0m\n\u001b[1;32m     60\u001b[0m \u001b[0;34m\u001b[0m\u001b[0m\n\u001b[1;32m     61\u001b[0m         \u001b[0mprint\u001b[0m\u001b[0;34m(\u001b[0m\u001b[0;34m\"Starting to scrape teams data from Fbref...\"\u001b[0m\u001b[0;34m)\u001b[0m\u001b[0;34m\u001b[0m\u001b[0;34m\u001b[0m\u001b[0m\n\u001b[0;32m---> 62\u001b[0;31m         \u001b[0mpossible_stats_exception\u001b[0m\u001b[0;34m(\u001b[0m\u001b[0mself\u001b[0m\u001b[0;34m.\u001b[0m\u001b[0mpossible_stats\u001b[0m\u001b[0;34m,\u001b[0m \u001b[0mstat\u001b[0m\u001b[0;34m)\u001b[0m\u001b[0;34m\u001b[0m\u001b[0;34m\u001b[0m\u001b[0m\n\u001b[0m\u001b[1;32m     63\u001b[0m         \u001b[0mleagues\u001b[0m \u001b[0;34m=\u001b[0m \u001b[0mget_possible_leagues_for_page\u001b[0m\u001b[0;34m(\u001b[0m\u001b[0mleague\u001b[0m\u001b[0;34m,\u001b[0m \u001b[0mseason\u001b[0m\u001b[0;34m,\u001b[0m \u001b[0;34m'Fbref'\u001b[0m\u001b[0;34m)\u001b[0m\u001b[0;34m\u001b[0m\u001b[0;34m\u001b[0m\u001b[0m\n\u001b[1;32m     64\u001b[0m \u001b[0;34m\u001b[0m\u001b[0m\n",
            "\u001b[0;32m/usr/local/lib/python3.10/dist-packages/LanusStats/functions.py\u001b[0m in \u001b[0;36mpossible_stats_exception\u001b[0;34m(possible_stats, stat)\u001b[0m\n\u001b[1;32m    799\u001b[0m \u001b[0;32mdef\u001b[0m \u001b[0mpossible_stats_exception\u001b[0m\u001b[0;34m(\u001b[0m\u001b[0mpossible_stats\u001b[0m\u001b[0;34m,\u001b[0m \u001b[0mstat\u001b[0m\u001b[0;34m)\u001b[0m\u001b[0;34m:\u001b[0m\u001b[0;34m\u001b[0m\u001b[0;34m\u001b[0m\u001b[0m\n\u001b[1;32m    800\u001b[0m     \u001b[0;32mif\u001b[0m \u001b[0mstat\u001b[0m \u001b[0;32mnot\u001b[0m \u001b[0;32min\u001b[0m \u001b[0mpossible_stats\u001b[0m\u001b[0;34m:\u001b[0m\u001b[0;34m\u001b[0m\u001b[0;34m\u001b[0m\u001b[0m\n\u001b[0;32m--> 801\u001b[0;31m         \u001b[0;32mraise\u001b[0m \u001b[0mInvalidStat\u001b[0m\u001b[0;34m(\u001b[0m\u001b[0;34m'stat'\u001b[0m\u001b[0;34m,\u001b[0m \u001b[0mstat\u001b[0m\u001b[0;34m,\u001b[0m \u001b[0mpossible_stats\u001b[0m\u001b[0;34m)\u001b[0m\u001b[0;34m\u001b[0m\u001b[0;34m\u001b[0m\u001b[0m\n\u001b[0m\u001b[1;32m    802\u001b[0m \u001b[0;34m\u001b[0m\u001b[0m\n\u001b[1;32m    803\u001b[0m \u001b[0;32mdef\u001b[0m \u001b[0minvalid_type_str_exception\u001b[0m\u001b[0;34m(\u001b[0m\u001b[0mparams\u001b[0m\u001b[0;34m)\u001b[0m\u001b[0;34m:\u001b[0m\u001b[0;34m\u001b[0m\u001b[0;34m\u001b[0m\u001b[0m\n",
            "\u001b[0;31mInvalidStat\u001b[0m: Value 'Uninversidad de Chile' for param 'stat' is invalid. Possible values are ['stats', 'keepers', 'keepersadv', 'shooting', 'passing', 'passing_types', 'gca', 'defense', 'possession', 'playingtime', 'misc'].\nEl valor 'Uninversidad de Chile' para el parámetro 'stat' no es válido. Los valores válidos son: ['stats', 'keepers', 'keepersadv', 'shooting', 'passing', 'passing_types', 'gca', 'defense', 'possession', 'playingtime', 'misc']"
          ]
        }
      ]
    },
    {
      "cell_type": "code",
      "source": [
        "fbref = ls.Fbref()\n",
        "fbref.get_all_teams_season_stats('Primera Division Chile', '2023', save_csv=False, stats_vs=False, change_columns_names=False, add_page_name=False)"
      ],
      "metadata": {
        "colab": {
          "base_uri": "https://localhost:8080/",
          "height": 938
        },
        "id": "6NcIHiX3CrdB",
        "outputId": "96106302-1f4e-4d90-9c68-21ff84c45a91"
      },
      "execution_count": null,
      "outputs": [
        {
          "output_type": "stream",
          "name": "stdout",
          "text": [
            "Starting to scrape teams data from Fbref...\n",
            "Starting to scrape teams data from Fbref...\n",
            "Starting to scrape teams data from Fbref...\n",
            "Starting to scrape teams data from Fbref...\n",
            "Starting to scrape teams data from Fbref...\n",
            "Starting to scrape teams data from Fbref...\n",
            "Starting to scrape teams data from Fbref...\n",
            "Starting to scrape teams data from Fbref...\n",
            "Starting to scrape teams data from Fbref...\n",
            "Starting to scrape teams data from Fbref...\n",
            "Starting to scrape teams data from Fbref...\n"
          ]
        },
        {
          "output_type": "execute_result",
          "data": {
            "text/plain": [
              "                  Squad  # Pl   Age  Poss  MP  Starts   Min   90s  Gls  Ast  \\\n",
              "0        Audax Italiano    28  27.0  47.2  30     330  2700  30.0   35   24   \n",
              "1              Cobresal    26  29.8  46.6  30     330  2700  30.0   54   34   \n",
              "2             Colo-Colo    30  27.0  53.9  30     330  2700  30.0   43   31   \n",
              "3        Coquimbo Unido    31  27.9  42.3  30     330  2700  30.0   44   30   \n",
              "4          Curico Unido    35  28.3  48.4  30     330  2700  30.0   28   17   \n",
              "5      Deportes Copiapó    26  29.3  45.7  30     330  2700  30.0   31   21   \n",
              "6   Deportes Magallanes    29  29.6  53.7  30     330  2700  30.0   34   24   \n",
              "7               Everton    26  29.0  52.5  30     330  2700  30.0   42   30   \n",
              "8            Huachipato    24  25.7  56.6  30     330  2700  30.0   47   32   \n",
              "9             La Calera    28  26.0  47.1  30     330  2700  30.0   42   27   \n",
              "10             Ñublense    24  29.5  50.8  30     330  2700  30.0   33   21   \n",
              "11            O'Higgins    29  26.3  51.8  30     330  2700  30.0   36   32   \n",
              "12            Palestino    27  29.4  50.2  30     330  2700  30.0   45   26   \n",
              "13           U de Chile    29  27.2  48.4  30     330  2700  30.0   38   25   \n",
              "14       Unión Española    30  26.3  50.7  30     330  2700  30.0   40   35   \n",
              "15        Univ Católica    26  29.2  54.3  30     330  2700  30.0   47   37   \n",
              "\n",
              "    ...  2CrdY  Fls  Fld  Off  Crs  Int  TklW  PKwon  PKcon  OG  \n",
              "0   ...      3  332  311   54  575  284   338    NaN    NaN   0  \n",
              "1   ...      2  275  293   53  497  302   332    NaN    NaN   2  \n",
              "2   ...      2  338  295   53  471  286   350    NaN    NaN   0  \n",
              "3   ...      0  308  310   54  675  305   331    NaN    NaN   2  \n",
              "4   ...      1  263  297   59  569  281   327    NaN    NaN   1  \n",
              "5   ...      5  324  259   55  505  312   354    NaN    NaN   0  \n",
              "6   ...      2  313  304   51  546  230   292    NaN    NaN   1  \n",
              "7   ...      1  341  289   35  594  293   368    NaN    NaN   0  \n",
              "8   ...      5  326  309   31  641  344   333    NaN    NaN   1  \n",
              "9   ...      2  323  258   52  466  352   305    NaN    NaN   1  \n",
              "10  ...      4  336  327   70  479  342   363    NaN    NaN   1  \n",
              "11  ...      0  355  334   40  582  283   334    NaN    NaN   0  \n",
              "12  ...      1  307  296   52  563  264   348    NaN    NaN   1  \n",
              "13  ...      3  360  296   72  600  305   368    NaN    NaN   2  \n",
              "14  ...      5  296  224   51  602  271   350    NaN    NaN   2  \n",
              "15  ...      3  345  371   42  524  313   295    NaN    NaN   1  \n",
              "\n",
              "[16 rows x 221 columns]"
            ],
            "text/html": [
              "\n",
              "  <div id=\"df-296e4321-5405-40cf-be6c-eec60c973736\" class=\"colab-df-container\">\n",
              "    <div>\n",
              "<style scoped>\n",
              "    .dataframe tbody tr th:only-of-type {\n",
              "        vertical-align: middle;\n",
              "    }\n",
              "\n",
              "    .dataframe tbody tr th {\n",
              "        vertical-align: top;\n",
              "    }\n",
              "\n",
              "    .dataframe thead th {\n",
              "        text-align: right;\n",
              "    }\n",
              "</style>\n",
              "<table border=\"1\" class=\"dataframe\">\n",
              "  <thead>\n",
              "    <tr style=\"text-align: right;\">\n",
              "      <th></th>\n",
              "      <th>Squad</th>\n",
              "      <th># Pl</th>\n",
              "      <th>Age</th>\n",
              "      <th>Poss</th>\n",
              "      <th>MP</th>\n",
              "      <th>Starts</th>\n",
              "      <th>Min</th>\n",
              "      <th>90s</th>\n",
              "      <th>Gls</th>\n",
              "      <th>Ast</th>\n",
              "      <th>...</th>\n",
              "      <th>2CrdY</th>\n",
              "      <th>Fls</th>\n",
              "      <th>Fld</th>\n",
              "      <th>Off</th>\n",
              "      <th>Crs</th>\n",
              "      <th>Int</th>\n",
              "      <th>TklW</th>\n",
              "      <th>PKwon</th>\n",
              "      <th>PKcon</th>\n",
              "      <th>OG</th>\n",
              "    </tr>\n",
              "  </thead>\n",
              "  <tbody>\n",
              "    <tr>\n",
              "      <th>0</th>\n",
              "      <td>Audax Italiano</td>\n",
              "      <td>28</td>\n",
              "      <td>27.0</td>\n",
              "      <td>47.2</td>\n",
              "      <td>30</td>\n",
              "      <td>330</td>\n",
              "      <td>2700</td>\n",
              "      <td>30.0</td>\n",
              "      <td>35</td>\n",
              "      <td>24</td>\n",
              "      <td>...</td>\n",
              "      <td>3</td>\n",
              "      <td>332</td>\n",
              "      <td>311</td>\n",
              "      <td>54</td>\n",
              "      <td>575</td>\n",
              "      <td>284</td>\n",
              "      <td>338</td>\n",
              "      <td>NaN</td>\n",
              "      <td>NaN</td>\n",
              "      <td>0</td>\n",
              "    </tr>\n",
              "    <tr>\n",
              "      <th>1</th>\n",
              "      <td>Cobresal</td>\n",
              "      <td>26</td>\n",
              "      <td>29.8</td>\n",
              "      <td>46.6</td>\n",
              "      <td>30</td>\n",
              "      <td>330</td>\n",
              "      <td>2700</td>\n",
              "      <td>30.0</td>\n",
              "      <td>54</td>\n",
              "      <td>34</td>\n",
              "      <td>...</td>\n",
              "      <td>2</td>\n",
              "      <td>275</td>\n",
              "      <td>293</td>\n",
              "      <td>53</td>\n",
              "      <td>497</td>\n",
              "      <td>302</td>\n",
              "      <td>332</td>\n",
              "      <td>NaN</td>\n",
              "      <td>NaN</td>\n",
              "      <td>2</td>\n",
              "    </tr>\n",
              "    <tr>\n",
              "      <th>2</th>\n",
              "      <td>Colo-Colo</td>\n",
              "      <td>30</td>\n",
              "      <td>27.0</td>\n",
              "      <td>53.9</td>\n",
              "      <td>30</td>\n",
              "      <td>330</td>\n",
              "      <td>2700</td>\n",
              "      <td>30.0</td>\n",
              "      <td>43</td>\n",
              "      <td>31</td>\n",
              "      <td>...</td>\n",
              "      <td>2</td>\n",
              "      <td>338</td>\n",
              "      <td>295</td>\n",
              "      <td>53</td>\n",
              "      <td>471</td>\n",
              "      <td>286</td>\n",
              "      <td>350</td>\n",
              "      <td>NaN</td>\n",
              "      <td>NaN</td>\n",
              "      <td>0</td>\n",
              "    </tr>\n",
              "    <tr>\n",
              "      <th>3</th>\n",
              "      <td>Coquimbo Unido</td>\n",
              "      <td>31</td>\n",
              "      <td>27.9</td>\n",
              "      <td>42.3</td>\n",
              "      <td>30</td>\n",
              "      <td>330</td>\n",
              "      <td>2700</td>\n",
              "      <td>30.0</td>\n",
              "      <td>44</td>\n",
              "      <td>30</td>\n",
              "      <td>...</td>\n",
              "      <td>0</td>\n",
              "      <td>308</td>\n",
              "      <td>310</td>\n",
              "      <td>54</td>\n",
              "      <td>675</td>\n",
              "      <td>305</td>\n",
              "      <td>331</td>\n",
              "      <td>NaN</td>\n",
              "      <td>NaN</td>\n",
              "      <td>2</td>\n",
              "    </tr>\n",
              "    <tr>\n",
              "      <th>4</th>\n",
              "      <td>Curico Unido</td>\n",
              "      <td>35</td>\n",
              "      <td>28.3</td>\n",
              "      <td>48.4</td>\n",
              "      <td>30</td>\n",
              "      <td>330</td>\n",
              "      <td>2700</td>\n",
              "      <td>30.0</td>\n",
              "      <td>28</td>\n",
              "      <td>17</td>\n",
              "      <td>...</td>\n",
              "      <td>1</td>\n",
              "      <td>263</td>\n",
              "      <td>297</td>\n",
              "      <td>59</td>\n",
              "      <td>569</td>\n",
              "      <td>281</td>\n",
              "      <td>327</td>\n",
              "      <td>NaN</td>\n",
              "      <td>NaN</td>\n",
              "      <td>1</td>\n",
              "    </tr>\n",
              "    <tr>\n",
              "      <th>5</th>\n",
              "      <td>Deportes Copiapó</td>\n",
              "      <td>26</td>\n",
              "      <td>29.3</td>\n",
              "      <td>45.7</td>\n",
              "      <td>30</td>\n",
              "      <td>330</td>\n",
              "      <td>2700</td>\n",
              "      <td>30.0</td>\n",
              "      <td>31</td>\n",
              "      <td>21</td>\n",
              "      <td>...</td>\n",
              "      <td>5</td>\n",
              "      <td>324</td>\n",
              "      <td>259</td>\n",
              "      <td>55</td>\n",
              "      <td>505</td>\n",
              "      <td>312</td>\n",
              "      <td>354</td>\n",
              "      <td>NaN</td>\n",
              "      <td>NaN</td>\n",
              "      <td>0</td>\n",
              "    </tr>\n",
              "    <tr>\n",
              "      <th>6</th>\n",
              "      <td>Deportes Magallanes</td>\n",
              "      <td>29</td>\n",
              "      <td>29.6</td>\n",
              "      <td>53.7</td>\n",
              "      <td>30</td>\n",
              "      <td>330</td>\n",
              "      <td>2700</td>\n",
              "      <td>30.0</td>\n",
              "      <td>34</td>\n",
              "      <td>24</td>\n",
              "      <td>...</td>\n",
              "      <td>2</td>\n",
              "      <td>313</td>\n",
              "      <td>304</td>\n",
              "      <td>51</td>\n",
              "      <td>546</td>\n",
              "      <td>230</td>\n",
              "      <td>292</td>\n",
              "      <td>NaN</td>\n",
              "      <td>NaN</td>\n",
              "      <td>1</td>\n",
              "    </tr>\n",
              "    <tr>\n",
              "      <th>7</th>\n",
              "      <td>Everton</td>\n",
              "      <td>26</td>\n",
              "      <td>29.0</td>\n",
              "      <td>52.5</td>\n",
              "      <td>30</td>\n",
              "      <td>330</td>\n",
              "      <td>2700</td>\n",
              "      <td>30.0</td>\n",
              "      <td>42</td>\n",
              "      <td>30</td>\n",
              "      <td>...</td>\n",
              "      <td>1</td>\n",
              "      <td>341</td>\n",
              "      <td>289</td>\n",
              "      <td>35</td>\n",
              "      <td>594</td>\n",
              "      <td>293</td>\n",
              "      <td>368</td>\n",
              "      <td>NaN</td>\n",
              "      <td>NaN</td>\n",
              "      <td>0</td>\n",
              "    </tr>\n",
              "    <tr>\n",
              "      <th>8</th>\n",
              "      <td>Huachipato</td>\n",
              "      <td>24</td>\n",
              "      <td>25.7</td>\n",
              "      <td>56.6</td>\n",
              "      <td>30</td>\n",
              "      <td>330</td>\n",
              "      <td>2700</td>\n",
              "      <td>30.0</td>\n",
              "      <td>47</td>\n",
              "      <td>32</td>\n",
              "      <td>...</td>\n",
              "      <td>5</td>\n",
              "      <td>326</td>\n",
              "      <td>309</td>\n",
              "      <td>31</td>\n",
              "      <td>641</td>\n",
              "      <td>344</td>\n",
              "      <td>333</td>\n",
              "      <td>NaN</td>\n",
              "      <td>NaN</td>\n",
              "      <td>1</td>\n",
              "    </tr>\n",
              "    <tr>\n",
              "      <th>9</th>\n",
              "      <td>La Calera</td>\n",
              "      <td>28</td>\n",
              "      <td>26.0</td>\n",
              "      <td>47.1</td>\n",
              "      <td>30</td>\n",
              "      <td>330</td>\n",
              "      <td>2700</td>\n",
              "      <td>30.0</td>\n",
              "      <td>42</td>\n",
              "      <td>27</td>\n",
              "      <td>...</td>\n",
              "      <td>2</td>\n",
              "      <td>323</td>\n",
              "      <td>258</td>\n",
              "      <td>52</td>\n",
              "      <td>466</td>\n",
              "      <td>352</td>\n",
              "      <td>305</td>\n",
              "      <td>NaN</td>\n",
              "      <td>NaN</td>\n",
              "      <td>1</td>\n",
              "    </tr>\n",
              "    <tr>\n",
              "      <th>10</th>\n",
              "      <td>Ñublense</td>\n",
              "      <td>24</td>\n",
              "      <td>29.5</td>\n",
              "      <td>50.8</td>\n",
              "      <td>30</td>\n",
              "      <td>330</td>\n",
              "      <td>2700</td>\n",
              "      <td>30.0</td>\n",
              "      <td>33</td>\n",
              "      <td>21</td>\n",
              "      <td>...</td>\n",
              "      <td>4</td>\n",
              "      <td>336</td>\n",
              "      <td>327</td>\n",
              "      <td>70</td>\n",
              "      <td>479</td>\n",
              "      <td>342</td>\n",
              "      <td>363</td>\n",
              "      <td>NaN</td>\n",
              "      <td>NaN</td>\n",
              "      <td>1</td>\n",
              "    </tr>\n",
              "    <tr>\n",
              "      <th>11</th>\n",
              "      <td>O'Higgins</td>\n",
              "      <td>29</td>\n",
              "      <td>26.3</td>\n",
              "      <td>51.8</td>\n",
              "      <td>30</td>\n",
              "      <td>330</td>\n",
              "      <td>2700</td>\n",
              "      <td>30.0</td>\n",
              "      <td>36</td>\n",
              "      <td>32</td>\n",
              "      <td>...</td>\n",
              "      <td>0</td>\n",
              "      <td>355</td>\n",
              "      <td>334</td>\n",
              "      <td>40</td>\n",
              "      <td>582</td>\n",
              "      <td>283</td>\n",
              "      <td>334</td>\n",
              "      <td>NaN</td>\n",
              "      <td>NaN</td>\n",
              "      <td>0</td>\n",
              "    </tr>\n",
              "    <tr>\n",
              "      <th>12</th>\n",
              "      <td>Palestino</td>\n",
              "      <td>27</td>\n",
              "      <td>29.4</td>\n",
              "      <td>50.2</td>\n",
              "      <td>30</td>\n",
              "      <td>330</td>\n",
              "      <td>2700</td>\n",
              "      <td>30.0</td>\n",
              "      <td>45</td>\n",
              "      <td>26</td>\n",
              "      <td>...</td>\n",
              "      <td>1</td>\n",
              "      <td>307</td>\n",
              "      <td>296</td>\n",
              "      <td>52</td>\n",
              "      <td>563</td>\n",
              "      <td>264</td>\n",
              "      <td>348</td>\n",
              "      <td>NaN</td>\n",
              "      <td>NaN</td>\n",
              "      <td>1</td>\n",
              "    </tr>\n",
              "    <tr>\n",
              "      <th>13</th>\n",
              "      <td>U de Chile</td>\n",
              "      <td>29</td>\n",
              "      <td>27.2</td>\n",
              "      <td>48.4</td>\n",
              "      <td>30</td>\n",
              "      <td>330</td>\n",
              "      <td>2700</td>\n",
              "      <td>30.0</td>\n",
              "      <td>38</td>\n",
              "      <td>25</td>\n",
              "      <td>...</td>\n",
              "      <td>3</td>\n",
              "      <td>360</td>\n",
              "      <td>296</td>\n",
              "      <td>72</td>\n",
              "      <td>600</td>\n",
              "      <td>305</td>\n",
              "      <td>368</td>\n",
              "      <td>NaN</td>\n",
              "      <td>NaN</td>\n",
              "      <td>2</td>\n",
              "    </tr>\n",
              "    <tr>\n",
              "      <th>14</th>\n",
              "      <td>Unión Española</td>\n",
              "      <td>30</td>\n",
              "      <td>26.3</td>\n",
              "      <td>50.7</td>\n",
              "      <td>30</td>\n",
              "      <td>330</td>\n",
              "      <td>2700</td>\n",
              "      <td>30.0</td>\n",
              "      <td>40</td>\n",
              "      <td>35</td>\n",
              "      <td>...</td>\n",
              "      <td>5</td>\n",
              "      <td>296</td>\n",
              "      <td>224</td>\n",
              "      <td>51</td>\n",
              "      <td>602</td>\n",
              "      <td>271</td>\n",
              "      <td>350</td>\n",
              "      <td>NaN</td>\n",
              "      <td>NaN</td>\n",
              "      <td>2</td>\n",
              "    </tr>\n",
              "    <tr>\n",
              "      <th>15</th>\n",
              "      <td>Univ Católica</td>\n",
              "      <td>26</td>\n",
              "      <td>29.2</td>\n",
              "      <td>54.3</td>\n",
              "      <td>30</td>\n",
              "      <td>330</td>\n",
              "      <td>2700</td>\n",
              "      <td>30.0</td>\n",
              "      <td>47</td>\n",
              "      <td>37</td>\n",
              "      <td>...</td>\n",
              "      <td>3</td>\n",
              "      <td>345</td>\n",
              "      <td>371</td>\n",
              "      <td>42</td>\n",
              "      <td>524</td>\n",
              "      <td>313</td>\n",
              "      <td>295</td>\n",
              "      <td>NaN</td>\n",
              "      <td>NaN</td>\n",
              "      <td>1</td>\n",
              "    </tr>\n",
              "  </tbody>\n",
              "</table>\n",
              "<p>16 rows × 221 columns</p>\n",
              "</div>\n",
              "    <div class=\"colab-df-buttons\">\n",
              "\n",
              "  <div class=\"colab-df-container\">\n",
              "    <button class=\"colab-df-convert\" onclick=\"convertToInteractive('df-296e4321-5405-40cf-be6c-eec60c973736')\"\n",
              "            title=\"Convert this dataframe to an interactive table.\"\n",
              "            style=\"display:none;\">\n",
              "\n",
              "  <svg xmlns=\"http://www.w3.org/2000/svg\" height=\"24px\" viewBox=\"0 -960 960 960\">\n",
              "    <path d=\"M120-120v-720h720v720H120Zm60-500h600v-160H180v160Zm220 220h160v-160H400v160Zm0 220h160v-160H400v160ZM180-400h160v-160H180v160Zm440 0h160v-160H620v160ZM180-180h160v-160H180v160Zm440 0h160v-160H620v160Z\"/>\n",
              "  </svg>\n",
              "    </button>\n",
              "\n",
              "  <style>\n",
              "    .colab-df-container {\n",
              "      display:flex;\n",
              "      gap: 12px;\n",
              "    }\n",
              "\n",
              "    .colab-df-convert {\n",
              "      background-color: #E8F0FE;\n",
              "      border: none;\n",
              "      border-radius: 50%;\n",
              "      cursor: pointer;\n",
              "      display: none;\n",
              "      fill: #1967D2;\n",
              "      height: 32px;\n",
              "      padding: 0 0 0 0;\n",
              "      width: 32px;\n",
              "    }\n",
              "\n",
              "    .colab-df-convert:hover {\n",
              "      background-color: #E2EBFA;\n",
              "      box-shadow: 0px 1px 2px rgba(60, 64, 67, 0.3), 0px 1px 3px 1px rgba(60, 64, 67, 0.15);\n",
              "      fill: #174EA6;\n",
              "    }\n",
              "\n",
              "    .colab-df-buttons div {\n",
              "      margin-bottom: 4px;\n",
              "    }\n",
              "\n",
              "    [theme=dark] .colab-df-convert {\n",
              "      background-color: #3B4455;\n",
              "      fill: #D2E3FC;\n",
              "    }\n",
              "\n",
              "    [theme=dark] .colab-df-convert:hover {\n",
              "      background-color: #434B5C;\n",
              "      box-shadow: 0px 1px 3px 1px rgba(0, 0, 0, 0.15);\n",
              "      filter: drop-shadow(0px 1px 2px rgba(0, 0, 0, 0.3));\n",
              "      fill: #FFFFFF;\n",
              "    }\n",
              "  </style>\n",
              "\n",
              "    <script>\n",
              "      const buttonEl =\n",
              "        document.querySelector('#df-296e4321-5405-40cf-be6c-eec60c973736 button.colab-df-convert');\n",
              "      buttonEl.style.display =\n",
              "        google.colab.kernel.accessAllowed ? 'block' : 'none';\n",
              "\n",
              "      async function convertToInteractive(key) {\n",
              "        const element = document.querySelector('#df-296e4321-5405-40cf-be6c-eec60c973736');\n",
              "        const dataTable =\n",
              "          await google.colab.kernel.invokeFunction('convertToInteractive',\n",
              "                                                    [key], {});\n",
              "        if (!dataTable) return;\n",
              "\n",
              "        const docLinkHtml = 'Like what you see? Visit the ' +\n",
              "          '<a target=\"_blank\" href=https://colab.research.google.com/notebooks/data_table.ipynb>data table notebook</a>'\n",
              "          + ' to learn more about interactive tables.';\n",
              "        element.innerHTML = '';\n",
              "        dataTable['output_type'] = 'display_data';\n",
              "        await google.colab.output.renderOutput(dataTable, element);\n",
              "        const docLink = document.createElement('div');\n",
              "        docLink.innerHTML = docLinkHtml;\n",
              "        element.appendChild(docLink);\n",
              "      }\n",
              "    </script>\n",
              "  </div>\n",
              "\n",
              "\n",
              "<div id=\"df-34c6ef64-461c-4bc6-991c-7dcd1bb679ca\">\n",
              "  <button class=\"colab-df-quickchart\" onclick=\"quickchart('df-34c6ef64-461c-4bc6-991c-7dcd1bb679ca')\"\n",
              "            title=\"Suggest charts\"\n",
              "            style=\"display:none;\">\n",
              "\n",
              "<svg xmlns=\"http://www.w3.org/2000/svg\" height=\"24px\"viewBox=\"0 0 24 24\"\n",
              "     width=\"24px\">\n",
              "    <g>\n",
              "        <path d=\"M19 3H5c-1.1 0-2 .9-2 2v14c0 1.1.9 2 2 2h14c1.1 0 2-.9 2-2V5c0-1.1-.9-2-2-2zM9 17H7v-7h2v7zm4 0h-2V7h2v10zm4 0h-2v-4h2v4z\"/>\n",
              "    </g>\n",
              "</svg>\n",
              "  </button>\n",
              "\n",
              "<style>\n",
              "  .colab-df-quickchart {\n",
              "      --bg-color: #E8F0FE;\n",
              "      --fill-color: #1967D2;\n",
              "      --hover-bg-color: #E2EBFA;\n",
              "      --hover-fill-color: #174EA6;\n",
              "      --disabled-fill-color: #AAA;\n",
              "      --disabled-bg-color: #DDD;\n",
              "  }\n",
              "\n",
              "  [theme=dark] .colab-df-quickchart {\n",
              "      --bg-color: #3B4455;\n",
              "      --fill-color: #D2E3FC;\n",
              "      --hover-bg-color: #434B5C;\n",
              "      --hover-fill-color: #FFFFFF;\n",
              "      --disabled-bg-color: #3B4455;\n",
              "      --disabled-fill-color: #666;\n",
              "  }\n",
              "\n",
              "  .colab-df-quickchart {\n",
              "    background-color: var(--bg-color);\n",
              "    border: none;\n",
              "    border-radius: 50%;\n",
              "    cursor: pointer;\n",
              "    display: none;\n",
              "    fill: var(--fill-color);\n",
              "    height: 32px;\n",
              "    padding: 0;\n",
              "    width: 32px;\n",
              "  }\n",
              "\n",
              "  .colab-df-quickchart:hover {\n",
              "    background-color: var(--hover-bg-color);\n",
              "    box-shadow: 0 1px 2px rgba(60, 64, 67, 0.3), 0 1px 3px 1px rgba(60, 64, 67, 0.15);\n",
              "    fill: var(--button-hover-fill-color);\n",
              "  }\n",
              "\n",
              "  .colab-df-quickchart-complete:disabled,\n",
              "  .colab-df-quickchart-complete:disabled:hover {\n",
              "    background-color: var(--disabled-bg-color);\n",
              "    fill: var(--disabled-fill-color);\n",
              "    box-shadow: none;\n",
              "  }\n",
              "\n",
              "  .colab-df-spinner {\n",
              "    border: 2px solid var(--fill-color);\n",
              "    border-color: transparent;\n",
              "    border-bottom-color: var(--fill-color);\n",
              "    animation:\n",
              "      spin 1s steps(1) infinite;\n",
              "  }\n",
              "\n",
              "  @keyframes spin {\n",
              "    0% {\n",
              "      border-color: transparent;\n",
              "      border-bottom-color: var(--fill-color);\n",
              "      border-left-color: var(--fill-color);\n",
              "    }\n",
              "    20% {\n",
              "      border-color: transparent;\n",
              "      border-left-color: var(--fill-color);\n",
              "      border-top-color: var(--fill-color);\n",
              "    }\n",
              "    30% {\n",
              "      border-color: transparent;\n",
              "      border-left-color: var(--fill-color);\n",
              "      border-top-color: var(--fill-color);\n",
              "      border-right-color: var(--fill-color);\n",
              "    }\n",
              "    40% {\n",
              "      border-color: transparent;\n",
              "      border-right-color: var(--fill-color);\n",
              "      border-top-color: var(--fill-color);\n",
              "    }\n",
              "    60% {\n",
              "      border-color: transparent;\n",
              "      border-right-color: var(--fill-color);\n",
              "    }\n",
              "    80% {\n",
              "      border-color: transparent;\n",
              "      border-right-color: var(--fill-color);\n",
              "      border-bottom-color: var(--fill-color);\n",
              "    }\n",
              "    90% {\n",
              "      border-color: transparent;\n",
              "      border-bottom-color: var(--fill-color);\n",
              "    }\n",
              "  }\n",
              "</style>\n",
              "\n",
              "  <script>\n",
              "    async function quickchart(key) {\n",
              "      const quickchartButtonEl =\n",
              "        document.querySelector('#' + key + ' button');\n",
              "      quickchartButtonEl.disabled = true;  // To prevent multiple clicks.\n",
              "      quickchartButtonEl.classList.add('colab-df-spinner');\n",
              "      try {\n",
              "        const charts = await google.colab.kernel.invokeFunction(\n",
              "            'suggestCharts', [key], {});\n",
              "      } catch (error) {\n",
              "        console.error('Error during call to suggestCharts:', error);\n",
              "      }\n",
              "      quickchartButtonEl.classList.remove('colab-df-spinner');\n",
              "      quickchartButtonEl.classList.add('colab-df-quickchart-complete');\n",
              "    }\n",
              "    (() => {\n",
              "      let quickchartButtonEl =\n",
              "        document.querySelector('#df-34c6ef64-461c-4bc6-991c-7dcd1bb679ca button');\n",
              "      quickchartButtonEl.style.display =\n",
              "        google.colab.kernel.accessAllowed ? 'block' : 'none';\n",
              "    })();\n",
              "  </script>\n",
              "</div>\n",
              "\n",
              "    </div>\n",
              "  </div>\n"
            ],
            "application/vnd.google.colaboratory.intrinsic+json": {
              "type": "dataframe"
            }
          },
          "metadata": {},
          "execution_count": 10
        }
      ]
    },
    {
      "cell_type": "code",
      "source": [
        "fbref = ls.Fbref()\n",
        "chilena = fbref.get_all_teams_season_stats('Primera Division Chile', '2023', save_csv=False, stats_vs=False, change_columns_names=False, add_page_name=False)"
      ],
      "metadata": {
        "colab": {
          "base_uri": "https://localhost:8080/"
        },
        "id": "W1WsxFGrDm8z",
        "outputId": "24b91a6e-29ef-4bb5-936b-84b41a15245a"
      },
      "execution_count": null,
      "outputs": [
        {
          "output_type": "stream",
          "name": "stdout",
          "text": [
            "Starting to scrape teams data from Fbref...\n",
            "Starting to scrape teams data from Fbref...\n",
            "Starting to scrape teams data from Fbref...\n",
            "Starting to scrape teams data from Fbref...\n",
            "Starting to scrape teams data from Fbref...\n",
            "Starting to scrape teams data from Fbref...\n",
            "Starting to scrape teams data from Fbref...\n",
            "Starting to scrape teams data from Fbref...\n",
            "Starting to scrape teams data from Fbref...\n",
            "Starting to scrape teams data from Fbref...\n",
            "Starting to scrape teams data from Fbref...\n"
          ]
        }
      ]
    },
    {
      "cell_type": "code",
      "source": [
        "chilena.to_csv(\"chilena.csv\", encoding=\"utf-8\")"
      ],
      "metadata": {
        "id": "BZWSXlGlD9jh"
      },
      "execution_count": null,
      "outputs": []
    },
    {
      "cell_type": "code",
      "source": [
        "fbref = ls.Fbref()\n",
        "fbref.get_all_player_season_stats(\"Primera Division Chile\", \"2023\", save_csv=False, add_page_name=False)"
      ],
      "metadata": {
        "colab": {
          "base_uri": "https://localhost:8080/",
          "height": 200
        },
        "id": "gKSqfnxnEx-4",
        "outputId": "ab37c0a0-9abc-4ae7-c60e-18ee74d3d8d0"
      },
      "execution_count": null,
      "outputs": [
        {
          "output_type": "error",
          "ename": "TypeError",
          "evalue": "Fbref.get_all_player_season_stats() got an unexpected keyword argument 'add_page_name'",
          "traceback": [
            "\u001b[0;31m---------------------------------------------------------------------------\u001b[0m",
            "\u001b[0;31mTypeError\u001b[0m                                 Traceback (most recent call last)",
            "\u001b[0;32m<ipython-input-19-4828c1dccfdf>\u001b[0m in \u001b[0;36m<cell line: 2>\u001b[0;34m()\u001b[0m\n\u001b[1;32m      1\u001b[0m \u001b[0mfbref\u001b[0m \u001b[0;34m=\u001b[0m \u001b[0mls\u001b[0m\u001b[0;34m.\u001b[0m\u001b[0mFbref\u001b[0m\u001b[0;34m(\u001b[0m\u001b[0;34m)\u001b[0m\u001b[0;34m\u001b[0m\u001b[0;34m\u001b[0m\u001b[0m\n\u001b[0;32m----> 2\u001b[0;31m \u001b[0mfbref\u001b[0m\u001b[0;34m.\u001b[0m\u001b[0mget_all_player_season_stats\u001b[0m\u001b[0;34m(\u001b[0m\u001b[0;34m\"Primera Division Chile\"\u001b[0m\u001b[0;34m,\u001b[0m \u001b[0;34m\"2023\"\u001b[0m\u001b[0;34m,\u001b[0m \u001b[0msave_csv\u001b[0m\u001b[0;34m=\u001b[0m\u001b[0;32mFalse\u001b[0m\u001b[0;34m,\u001b[0m \u001b[0madd_page_name\u001b[0m\u001b[0;34m=\u001b[0m\u001b[0;32mFalse\u001b[0m\u001b[0;34m)\u001b[0m\u001b[0;34m\u001b[0m\u001b[0;34m\u001b[0m\u001b[0m\n\u001b[0m",
            "\u001b[0;31mTypeError\u001b[0m: Fbref.get_all_player_season_stats() got an unexpected keyword argument 'add_page_name'"
          ]
        }
      ]
    },
    {
      "cell_type": "code",
      "source": [
        "fbref = ls.Fbref()\n",
        "# Remove the 'add_page_name' argument\n",
        "fbref.get_all_player_season_stats(\"Primera Division Chile\", \"2023\", save_csv=False)"
      ],
      "metadata": {
        "colab": {
          "base_uri": "https://localhost:8080/"
        },
        "id": "x96FJDIrFYJg",
        "outputId": "2db699fb-31b8-4dec-c057-c858371984e3"
      },
      "execution_count": null,
      "outputs": [
        {
          "output_type": "stream",
          "name": "stdout",
          "text": [
            "stats\n",
            "Starting to scrape player data from Fbref...\n",
            "keepers\n",
            "Starting to scrape player data from Fbref...\n",
            "keepersadv\n",
            "Starting to scrape player data from Fbref...\n",
            "shooting\n",
            "Starting to scrape player data from Fbref...\n",
            "passing\n",
            "Starting to scrape player data from Fbref...\n",
            "passing_types\n",
            "Starting to scrape player data from Fbref...\n",
            "gca\n",
            "Starting to scrape player data from Fbref...\n",
            "defense\n",
            "Starting to scrape player data from Fbref...\n",
            "possession\n",
            "Starting to scrape player data from Fbref...\n",
            "playingtime\n",
            "Starting to scrape player data from Fbref...\n",
            "misc\n",
            "Starting to scrape player data from Fbref...\n"
          ]
        },
        {
          "output_type": "execute_result",
          "data": {
            "text/plain": [
              "(                Player stats_Nation stats_Pos          stats_Squad  \\\n",
              " 0        Lucas Abascia       ar ARG        DF             Ñublense   \n",
              " 1           Joe Abrigo       cl CHI        MF       Coquimbo Unido   \n",
              " 2           Joe Abrigo       cl CHI        MF            Palestino   \n",
              " 3       Albert Acevedo       cl CHI        DF  Deportes Magallanes   \n",
              " 4        Diego Acevedo       cl CHI        MF       Unión Española   \n",
              " ..                 ...          ...       ...                  ...   \n",
              " 443    Matías Zaldivia       cl CHI        DF           U de Chile   \n",
              " 444  Fernando Zampedri       ar ARG        FW        Univ Católica   \n",
              " 445      Yorman Zapata       co COL     FW,MF  Deportes Magallanes   \n",
              " 446    Cristián Zavala       cl CHI     MF,FW         Curico Unido   \n",
              " 447       Dilan Zúñiga       cl CHI        DF            Palestino   \n",
              " \n",
              "                  stats_Comp stats_Age stats_Born stats_MP stats_Starts  \\\n",
              " 0    Primera Division Chile        27       1995       17           12   \n",
              " 1    Primera Division Chile        27       1995        7            1   \n",
              " 2    Primera Division Chile        27       1995       14           11   \n",
              " 3    Primera Division Chile        39       1983       10            6   \n",
              " 4    Primera Division Chile        21       2001       10            2   \n",
              " ..                      ...       ...        ...      ...          ...   \n",
              " 443  Primera Division Chile        32       1991       23           23   \n",
              " 444  Primera Division Chile        34       1988       28           27   \n",
              " 445  Primera Division Chile        22       2000       26           23   \n",
              " 446  Primera Division Chile        23       1999       26           20   \n",
              " 447  Primera Division Chile        26       1996       23           21   \n",
              " \n",
              "     stats_Min  ... misc_2CrdY misc_Fls misc_Fld misc_Off misc_Crs misc_Int  \\\n",
              " 0       1,150  ...          0       11        6        0        0       30   \n",
              " 1         195  ...          0        3        8        0        7        1   \n",
              " 2         839  ...          0        3        8        0        7        1   \n",
              " 3         555  ...          0        7        4        0        0        9   \n",
              " 4         204  ...          0        3        0        0       10        1   \n",
              " ..        ...  ...        ...      ...      ...      ...      ...      ...   \n",
              " 443     1,959  ...          0       26       13        1        7       33   \n",
              " 444     2,395  ...          0       39       56       11        4        4   \n",
              " 445     2,078  ...          0       28       31       20       51        6   \n",
              " 446     1,801  ...          0       13       30        4      129       17   \n",
              " 447     1,936  ...          0       15       13        0       60       23   \n",
              " \n",
              "     misc_TklW misc_PKwon misc_PKcon misc_OG  \n",
              " 0          23        0.0        0.0       0  \n",
              " 1           1        0.0        0.0       0  \n",
              " 2           1        0.0        0.0       0  \n",
              " 3          10        0.0        0.0       0  \n",
              " 4           5        0.0        0.0       0  \n",
              " ..        ...        ...        ...     ...  \n",
              " 443        27        0.0        0.0       0  \n",
              " 444        12        0.0        0.0       0  \n",
              " 445        21        0.0        0.0       0  \n",
              " 446        20        0.0        0.0       0  \n",
              " 447        43        0.0        0.0       0  \n",
              " \n",
              " [448 rows x 206 columns],\n",
              "                     Player keepers_Nation keepers_Pos        keepers_Squad  \\\n",
              " 0            Tomás Ahumada         cl CHI          GK       Audax Italiano   \n",
              " 1         Cristóbal Campos         cl CHI          GK           U de Chile   \n",
              " 2            Omar Carabalí         cl CHI          GK            La Calera   \n",
              " 3            Diego Carreño         cl CHI          GK            O'Higgins   \n",
              " 4        Gabriel Castellón         cl CHI          GK           Huachipato   \n",
              " 5             Fabián Cerda         cl CHI          GK         Curico Unido   \n",
              " 6           Gonzalo Collao         cl CHI          GK            Palestino   \n",
              " 7            Brayan Cortés         cl CHI          GK            Colo-Colo   \n",
              " 8            Matías Dituro         ar ARG          GK        Univ Católica   \n",
              " 9          Nelson Espinoza         cl CHI          GK     Deportes Copiapó   \n",
              " 10        Claudio González         cl CHI          GK              Everton   \n",
              " 11          Nicolás Guirin         uy URU          GK       Unión Española   \n",
              " 12   José Ignacio González         cl CHI          GK            O'Higgins   \n",
              " 13        Juan José Echave         cl CHI          GK       Unión Española   \n",
              " 14          Richard Leyton         cl CHI          GK     Deportes Copiapó   \n",
              " 15       Alonso Montecinos         cl CHI          GK       Unión Española   \n",
              " 16            Hernán Muñoz         cl CHI          GK             Ñublense   \n",
              " 17           Joaquín Muñoz         cl CHI          GK       Audax Italiano   \n",
              " 18        Fernando Otarola         ar ARG          GK            La Calera   \n",
              " 19            Martín Parra         cl CHI          GK           Huachipato   \n",
              " 20        Fernando de Paul         cl CHI          GK            Colo-Colo   \n",
              " 21         Nicolás Peranic         ar ARG          GK        Univ Católica   \n",
              " 22   Sebastián Pérez Kirby         cl CHI          GK       Unión Española   \n",
              " 23            Nicola Pérez         uy URU          GK             Ñublense   \n",
              " 24            Miguel Pinto         cl CHI          GK       Coquimbo Unido   \n",
              " 25         Leandro Requena         ar ARG          GK             Cobresal   \n",
              " 26         César Rigamonti         ar ARG          GK            Palestino   \n",
              " 27        Matías Rodríguez         uy URU          GK  Deportes Magallanes   \n",
              " 28  Diego Sánchez Carvajal         cl CHI          GK       Coquimbo Unido   \n",
              " 29     Alejandro Santander         cl CHI          GK             Cobresal   \n",
              " 30         Luis Santelices         cl CHI          GK         Curico Unido   \n",
              " 31             Diego Tapia         cl CHI          GK  Deportes Magallanes   \n",
              " 32     Franco Torgnascioli         uy URU          GK              Everton   \n",
              " 33      Cristopher Toselli         cl CHI          GK           U de Chile   \n",
              " 34              Luis Ureta         cl CHI          GK            O'Higgins   \n",
              " \n",
              "               keepers_Comp keepers_Age keepers_Born keepers_MP keepers_Starts  \\\n",
              " 0   Primera Division Chile          21         2001         25             25   \n",
              " 1   Primera Division Chile          23         1999         21             21   \n",
              " 2   Primera Division Chile          25         1997         26             26   \n",
              " 3   Primera Division Chile          20         2002          2              2   \n",
              " 4   Primera Division Chile          29         1993         29             29   \n",
              " 5   Primera Division Chile          33         1989         25             25   \n",
              " 6   Primera Division Chile          25         1997          4              3   \n",
              " 7   Primera Division Chile          27         1995         21             21   \n",
              " 8   Primera Division Chile          35         1987         15             15   \n",
              " 9   Primera Division Chile          27         1995         22             22   \n",
              " 10  Primera Division Chile          32         1990          1              1   \n",
              " 11  Primera Division Chile          27         1995          4              4   \n",
              " 12  Primera Division Chile          33         1989         24             24   \n",
              " 13  Primera Division Chile          22         2001          3              3   \n",
              " 14  Primera Division Chile          36         1987          9              8   \n",
              " 15  Primera Division Chile          23         1999          1              0   \n",
              " 16  Primera Division Chile          34         1988          2              2   \n",
              " 17  Primera Division Chile          32         1990          5              5   \n",
              " 18  Primera Division Chile          36         1986          4              4   \n",
              " 19  Primera Division Chile          22         2000          2              1   \n",
              " 20  Primera Division Chile          31         1991         10              9   \n",
              " 21  Primera Division Chile          37         1985         15             15   \n",
              " 22  Primera Division Chile          32         1990         23             23   \n",
              " 23  Primera Division Chile          32         1990         28             28   \n",
              " 24  Primera Division Chile          39         1983          1              1   \n",
              " 25  Primera Division Chile          35         1987         25             25   \n",
              " 26  Primera Division Chile          35         1987         27             27   \n",
              " 27  Primera Division Chile          28         1994         20             20   \n",
              " 28  Primera Division Chile          35         1987         29             29   \n",
              " 29  Primera Division Chile          20         2002          5              5   \n",
              " 30  Primera Division Chile          37         1985          6              5   \n",
              " 31  Primera Division Chile          27         1995         11             10   \n",
              " 32  Primera Division Chile          32         1990         29             29   \n",
              " 33  Primera Division Chile          34         1988         10              9   \n",
              " 34  Primera Division Chile          23         1999          4              4   \n",
              " \n",
              "    keepers_Min  ... keepersadv_AvgLen keepersadv_Att keepersadv_Launch%  \\\n",
              " 0        2,250  ...               0.0            0.0                0.0   \n",
              " 1        1,845  ...               0.0            0.0                0.0   \n",
              " 2        2,340  ...               0.0            0.0                0.0   \n",
              " 3          180  ...               0.0            0.0                0.0   \n",
              " 4        2,585  ...               0.0            0.0                0.0   \n",
              " 5        2,201  ...               0.0            0.0                0.0   \n",
              " 6          316  ...               0.0            0.0                0.0   \n",
              " 7        1,815  ...               0.0            0.0                0.0   \n",
              " 8        1,350  ...               0.0            0.0                0.0   \n",
              " 9        1,906  ...               0.0            0.0                0.0   \n",
              " 10          90  ...               0.0            0.0                0.0   \n",
              " 11         360  ...               0.0            0.0                0.0   \n",
              " 12       2,160  ...               0.0            0.0                0.0   \n",
              " 13         270  ...               0.0            0.0                0.0   \n",
              " 14         794  ...               0.0            0.0                0.0   \n",
              " 15          55  ...               0.0            0.0                0.0   \n",
              " 16         180  ...               0.0            0.0                0.0   \n",
              " 17         450  ...               0.0            0.0                0.0   \n",
              " 18         360  ...               0.0            0.0                0.0   \n",
              " 19         113  ...               0.0            0.0                0.0   \n",
              " 20         881  ...               0.0            0.0                0.0   \n",
              " 21       1,350  ...               0.0            0.0                0.0   \n",
              " 22       2,012  ...               0.0            0.0                0.0   \n",
              " 23       2,520  ...               0.0            0.0                0.0   \n",
              " 24          90  ...               0.0            0.0                0.0   \n",
              " 25       2,250  ...               0.0            0.0                0.0   \n",
              " 26       2,384  ...               0.0            0.0                0.0   \n",
              " 27       1,764  ...               0.0            0.0                0.0   \n",
              " 28       2,610  ...               0.0            0.0                0.0   \n",
              " 29         450  ...               0.0            0.0                0.0   \n",
              " 30         499  ...               0.0            0.0                0.0   \n",
              " 31         936  ...               0.0            0.0                0.0   \n",
              " 32       2,610  ...               0.0            0.0                0.0   \n",
              " 33         855  ...               0.0            0.0                0.0   \n",
              " 34         360  ...               0.0            0.0                0.0   \n",
              " \n",
              "    keepersadv_AvgLen keepersadv_Opp keepersadv_Stp keepersadv_Stp%  \\\n",
              " 0                0.0            0.0            0.0             0.0   \n",
              " 1                0.0            0.0            0.0             0.0   \n",
              " 2                0.0            0.0            0.0             0.0   \n",
              " 3                0.0            0.0            0.0             0.0   \n",
              " 4                0.0            0.0            0.0             0.0   \n",
              " 5                0.0            0.0            0.0             0.0   \n",
              " 6                0.0            0.0            0.0             0.0   \n",
              " 7                0.0            0.0            0.0             0.0   \n",
              " 8                0.0            0.0            0.0             0.0   \n",
              " 9                0.0            0.0            0.0             0.0   \n",
              " 10               0.0            0.0            0.0             0.0   \n",
              " 11               0.0            0.0            0.0             0.0   \n",
              " 12               0.0            0.0            0.0             0.0   \n",
              " 13               0.0            0.0            0.0             0.0   \n",
              " 14               0.0            0.0            0.0             0.0   \n",
              " 15               0.0            0.0            0.0             0.0   \n",
              " 16               0.0            0.0            0.0             0.0   \n",
              " 17               0.0            0.0            0.0             0.0   \n",
              " 18               0.0            0.0            0.0             0.0   \n",
              " 19               0.0            0.0            0.0             0.0   \n",
              " 20               0.0            0.0            0.0             0.0   \n",
              " 21               0.0            0.0            0.0             0.0   \n",
              " 22               0.0            0.0            0.0             0.0   \n",
              " 23               0.0            0.0            0.0             0.0   \n",
              " 24               0.0            0.0            0.0             0.0   \n",
              " 25               0.0            0.0            0.0             0.0   \n",
              " 26               0.0            0.0            0.0             0.0   \n",
              " 27               0.0            0.0            0.0             0.0   \n",
              " 28               0.0            0.0            0.0             0.0   \n",
              " 29               0.0            0.0            0.0             0.0   \n",
              " 30               0.0            0.0            0.0             0.0   \n",
              " 31               0.0            0.0            0.0             0.0   \n",
              " 32               0.0            0.0            0.0             0.0   \n",
              " 33               0.0            0.0            0.0             0.0   \n",
              " 34               0.0            0.0            0.0             0.0   \n",
              " \n",
              "    keepersadv_#OPA keepersadv_#OPA/90 keepersadv_AvgDist  \n",
              " 0              0.0                0.0                0.0  \n",
              " 1              0.0                0.0                0.0  \n",
              " 2              0.0                0.0                0.0  \n",
              " 3              0.0                0.0                0.0  \n",
              " 4              0.0                0.0                0.0  \n",
              " 5              0.0                0.0                0.0  \n",
              " 6              0.0                0.0                0.0  \n",
              " 7              0.0                0.0                0.0  \n",
              " 8              0.0                0.0                0.0  \n",
              " 9              0.0                0.0                0.0  \n",
              " 10             0.0                0.0                0.0  \n",
              " 11             0.0                0.0                0.0  \n",
              " 12             0.0                0.0                0.0  \n",
              " 13             0.0                0.0                0.0  \n",
              " 14             0.0                0.0                0.0  \n",
              " 15             0.0                0.0                0.0  \n",
              " 16             0.0                0.0                0.0  \n",
              " 17             0.0                0.0                0.0  \n",
              " 18             0.0                0.0                0.0  \n",
              " 19             0.0                0.0                0.0  \n",
              " 20             0.0                0.0                0.0  \n",
              " 21             0.0                0.0                0.0  \n",
              " 22             0.0                0.0                0.0  \n",
              " 23             0.0                0.0                0.0  \n",
              " 24             0.0                0.0                0.0  \n",
              " 25             0.0                0.0                0.0  \n",
              " 26             0.0                0.0                0.0  \n",
              " 27             0.0                0.0                0.0  \n",
              " 28             0.0                0.0                0.0  \n",
              " 29             0.0                0.0                0.0  \n",
              " 30             0.0                0.0                0.0  \n",
              " 31             0.0                0.0                0.0  \n",
              " 32             0.0                0.0                0.0  \n",
              " 33             0.0                0.0                0.0  \n",
              " 34             0.0                0.0                0.0  \n",
              " \n",
              " [35 rows x 58 columns])"
            ]
          },
          "metadata": {},
          "execution_count": 20
        }
      ]
    },
    {
      "cell_type": "code",
      "source": [
        "fbref = ls.Fbref()\n",
        "equipos = fbref.get_all_player_season_stats(\"Primera Division Chile\", \"2023\", save_csv=False)"
      ],
      "metadata": {
        "colab": {
          "base_uri": "https://localhost:8080/"
        },
        "id": "WdG30yDLFfeF",
        "outputId": "c386f4dc-dd15-42d4-9f18-200afce4f23f"
      },
      "execution_count": null,
      "outputs": [
        {
          "output_type": "stream",
          "name": "stdout",
          "text": [
            "stats\n",
            "Starting to scrape player data from Fbref...\n",
            "keepers\n",
            "Starting to scrape player data from Fbref...\n",
            "keepersadv\n",
            "Starting to scrape player data from Fbref...\n",
            "shooting\n",
            "Starting to scrape player data from Fbref...\n",
            "passing\n",
            "Starting to scrape player data from Fbref...\n",
            "passing_types\n",
            "Starting to scrape player data from Fbref...\n",
            "gca\n",
            "Starting to scrape player data from Fbref...\n",
            "defense\n",
            "Starting to scrape player data from Fbref...\n",
            "possession\n",
            "Starting to scrape player data from Fbref...\n",
            "playingtime\n",
            "Starting to scrape player data from Fbref...\n",
            "misc\n",
            "Starting to scrape player data from Fbref...\n"
          ]
        }
      ]
    },
    {
      "cell_type": "code",
      "source": [
        "equipos.to_csv(\"equipos_chilenos.csv\", encoding=\"utf-8\", index=False)"
      ],
      "metadata": {
        "colab": {
          "base_uri": "https://localhost:8080/",
          "height": 146
        },
        "id": "JnhzDCraHr3U",
        "outputId": "b40fccce-700a-478f-eee4-d82eb6e2768f"
      },
      "execution_count": null,
      "outputs": [
        {
          "output_type": "error",
          "ename": "AttributeError",
          "evalue": "'tuple' object has no attribute 'to_csv'",
          "traceback": [
            "\u001b[0;31m---------------------------------------------------------------------------\u001b[0m",
            "\u001b[0;31mAttributeError\u001b[0m                            Traceback (most recent call last)",
            "\u001b[0;32m<ipython-input-31-b7f3469624af>\u001b[0m in \u001b[0;36m<cell line: 1>\u001b[0;34m()\u001b[0m\n\u001b[0;32m----> 1\u001b[0;31m \u001b[0mequipos\u001b[0m\u001b[0;34m.\u001b[0m\u001b[0mto_csv\u001b[0m\u001b[0;34m(\u001b[0m\u001b[0;34m\"equipos_chilenos.csv\"\u001b[0m\u001b[0;34m,\u001b[0m \u001b[0mencoding\u001b[0m\u001b[0;34m=\u001b[0m\u001b[0;34m\"utf-8\"\u001b[0m\u001b[0;34m,\u001b[0m \u001b[0mindex\u001b[0m\u001b[0;34m=\u001b[0m\u001b[0;32mFalse\u001b[0m\u001b[0;34m)\u001b[0m\u001b[0;34m\u001b[0m\u001b[0;34m\u001b[0m\u001b[0m\n\u001b[0m",
            "\u001b[0;31mAttributeError\u001b[0m: 'tuple' object has no attribute 'to_csv'"
          ]
        }
      ]
    },
    {
      "cell_type": "code",
      "source": [
        "import pandas as pd\n",
        "# Assuming the desired DataFrame is the first element of the tuple\n",
        "equipos_df = equipos[0]  # or equipos[1], depending on which DataFrame you want to save\n",
        "# Now you can save the DataFrame to a CSV file\n",
        "equipos_df.to_csv(\"equipos_chilenos.csv\", encoding=\"utf-8\", index=False)"
      ],
      "metadata": {
        "id": "gcvhA6vbH85D"
      },
      "execution_count": null,
      "outputs": []
    },
    {
      "cell_type": "code",
      "source": [
        "fbref = ls.Fbref()\n",
        "italia = fbref.get_all_player_season_stats(\"Serie A\", \"2023\", save_csv=False)"
      ],
      "metadata": {
        "colab": {
          "base_uri": "https://localhost:8080/",
          "height": 182
        },
        "id": "am3Ia3ATlh8Z",
        "outputId": "f2115ba9-933a-436b-9158-4b1c5707218e"
      },
      "execution_count": null,
      "outputs": [
        {
          "output_type": "error",
          "ename": "NameError",
          "evalue": "name 'ls' is not defined",
          "traceback": [
            "\u001b[0;31m---------------------------------------------------------------------------\u001b[0m",
            "\u001b[0;31mNameError\u001b[0m                                 Traceback (most recent call last)",
            "\u001b[0;32m<ipython-input-1-3f70db8e34d3>\u001b[0m in \u001b[0;36m<cell line: 1>\u001b[0;34m()\u001b[0m\n\u001b[0;32m----> 1\u001b[0;31m \u001b[0mfbref\u001b[0m \u001b[0;34m=\u001b[0m \u001b[0mls\u001b[0m\u001b[0;34m.\u001b[0m\u001b[0mFbref\u001b[0m\u001b[0;34m(\u001b[0m\u001b[0;34m)\u001b[0m\u001b[0;34m\u001b[0m\u001b[0;34m\u001b[0m\u001b[0m\n\u001b[0m\u001b[1;32m      2\u001b[0m \u001b[0mitalia\u001b[0m \u001b[0;34m=\u001b[0m \u001b[0mfbref\u001b[0m\u001b[0;34m.\u001b[0m\u001b[0mget_all_player_season_stats\u001b[0m\u001b[0;34m(\u001b[0m\u001b[0;34m\"Serie A\"\u001b[0m\u001b[0;34m,\u001b[0m \u001b[0;34m\"2023\"\u001b[0m\u001b[0;34m,\u001b[0m \u001b[0msave_csv\u001b[0m\u001b[0;34m=\u001b[0m\u001b[0;32mFalse\u001b[0m\u001b[0;34m)\u001b[0m\u001b[0;34m\u001b[0m\u001b[0;34m\u001b[0m\u001b[0m\n",
            "\u001b[0;31mNameError\u001b[0m: name 'ls' is not defined"
          ]
        }
      ]
    },
    {
      "cell_type": "code",
      "source": [
        "pip install LanusStats\n"
      ],
      "metadata": {
        "colab": {
          "base_uri": "https://localhost:8080/"
        },
        "id": "n-2c4g_ZlxJi",
        "outputId": "3345be1c-12f0-4fef-eea7-75b759749cad"
      },
      "execution_count": null,
      "outputs": [
        {
          "output_type": "stream",
          "name": "stdout",
          "text": [
            "Collecting LanusStats\n",
            "  Downloading LanusStats-1.7.1-py3-none-any.whl.metadata (14 kB)\n",
            "Requirement already satisfied: pandas in /usr/local/lib/python3.10/dist-packages (from LanusStats) (2.2.2)\n",
            "Collecting mplsoccer (from LanusStats)\n",
            "  Downloading mplsoccer-1.4.0-py3-none-any.whl.metadata (4.8 kB)\n",
            "Requirement already satisfied: requests in /usr/local/lib/python3.10/dist-packages (from LanusStats) (2.32.3)\n",
            "Requirement already satisfied: matplotlib in /usr/local/lib/python3.10/dist-packages (from LanusStats) (3.7.1)\n",
            "Requirement already satisfied: numpy in /usr/local/lib/python3.10/dist-packages (from LanusStats) (1.26.4)\n",
            "Collecting bs4 (from LanusStats)\n",
            "  Downloading bs4-0.0.2-py2.py3-none-any.whl.metadata (411 bytes)\n",
            "Requirement already satisfied: Pillow in /usr/local/lib/python3.10/dist-packages (from LanusStats) (10.4.0)\n",
            "Requirement already satisfied: beautifulsoup4 in /usr/local/lib/python3.10/dist-packages (from bs4->LanusStats) (4.12.3)\n",
            "Requirement already satisfied: contourpy>=1.0.1 in /usr/local/lib/python3.10/dist-packages (from matplotlib->LanusStats) (1.3.0)\n",
            "Requirement already satisfied: cycler>=0.10 in /usr/local/lib/python3.10/dist-packages (from matplotlib->LanusStats) (0.12.1)\n",
            "Requirement already satisfied: fonttools>=4.22.0 in /usr/local/lib/python3.10/dist-packages (from matplotlib->LanusStats) (4.54.1)\n",
            "Requirement already satisfied: kiwisolver>=1.0.1 in /usr/local/lib/python3.10/dist-packages (from matplotlib->LanusStats) (1.4.7)\n",
            "Requirement already satisfied: packaging>=20.0 in /usr/local/lib/python3.10/dist-packages (from matplotlib->LanusStats) (24.1)\n",
            "Requirement already satisfied: pyparsing>=2.3.1 in /usr/local/lib/python3.10/dist-packages (from matplotlib->LanusStats) (3.1.4)\n",
            "Requirement already satisfied: python-dateutil>=2.7 in /usr/local/lib/python3.10/dist-packages (from matplotlib->LanusStats) (2.8.2)\n",
            "Requirement already satisfied: scipy in /usr/local/lib/python3.10/dist-packages (from mplsoccer->LanusStats) (1.13.1)\n",
            "Requirement already satisfied: seaborn in /usr/local/lib/python3.10/dist-packages (from mplsoccer->LanusStats) (0.13.2)\n",
            "Requirement already satisfied: pytz>=2020.1 in /usr/local/lib/python3.10/dist-packages (from pandas->LanusStats) (2024.2)\n",
            "Requirement already satisfied: tzdata>=2022.7 in /usr/local/lib/python3.10/dist-packages (from pandas->LanusStats) (2024.2)\n",
            "Requirement already satisfied: charset-normalizer<4,>=2 in /usr/local/lib/python3.10/dist-packages (from requests->LanusStats) (3.4.0)\n",
            "Requirement already satisfied: idna<4,>=2.5 in /usr/local/lib/python3.10/dist-packages (from requests->LanusStats) (3.10)\n",
            "Requirement already satisfied: urllib3<3,>=1.21.1 in /usr/local/lib/python3.10/dist-packages (from requests->LanusStats) (2.2.3)\n",
            "Requirement already satisfied: certifi>=2017.4.17 in /usr/local/lib/python3.10/dist-packages (from requests->LanusStats) (2024.8.30)\n",
            "Requirement already satisfied: six>=1.5 in /usr/local/lib/python3.10/dist-packages (from python-dateutil>=2.7->matplotlib->LanusStats) (1.16.0)\n",
            "Requirement already satisfied: soupsieve>1.2 in /usr/local/lib/python3.10/dist-packages (from beautifulsoup4->bs4->LanusStats) (2.6)\n",
            "Downloading LanusStats-1.7.1-py3-none-any.whl (35 kB)\n",
            "Downloading bs4-0.0.2-py2.py3-none-any.whl (1.2 kB)\n",
            "Downloading mplsoccer-1.4.0-py3-none-any.whl (85 kB)\n",
            "\u001b[2K   \u001b[90m━━━━━━━━━━━━━━━━━━━━━━━━━━━━━━━━━━━━━━━━\u001b[0m \u001b[32m85.8/85.8 kB\u001b[0m \u001b[31m3.7 MB/s\u001b[0m eta \u001b[36m0:00:00\u001b[0m\n",
            "\u001b[?25hInstalling collected packages: bs4, mplsoccer, LanusStats\n",
            "Successfully installed LanusStats-1.7.1 bs4-0.0.2 mplsoccer-1.4.0\n"
          ]
        }
      ]
    },
    {
      "cell_type": "code",
      "source": [
        "pip install --upgrade LanusStats"
      ],
      "metadata": {
        "colab": {
          "base_uri": "https://localhost:8080/"
        },
        "id": "9-3QJUjbl0L9",
        "outputId": "04377fe9-b8f9-4337-f498-3aeff1404e7d"
      },
      "execution_count": null,
      "outputs": [
        {
          "output_type": "stream",
          "name": "stdout",
          "text": [
            "Requirement already satisfied: LanusStats in /usr/local/lib/python3.10/dist-packages (1.7.1)\n",
            "Requirement already satisfied: pandas in /usr/local/lib/python3.10/dist-packages (from LanusStats) (2.2.2)\n",
            "Requirement already satisfied: mplsoccer in /usr/local/lib/python3.10/dist-packages (from LanusStats) (1.4.0)\n",
            "Requirement already satisfied: requests in /usr/local/lib/python3.10/dist-packages (from LanusStats) (2.32.3)\n",
            "Requirement already satisfied: matplotlib in /usr/local/lib/python3.10/dist-packages (from LanusStats) (3.7.1)\n",
            "Requirement already satisfied: numpy in /usr/local/lib/python3.10/dist-packages (from LanusStats) (1.26.4)\n",
            "Requirement already satisfied: bs4 in /usr/local/lib/python3.10/dist-packages (from LanusStats) (0.0.2)\n",
            "Requirement already satisfied: Pillow in /usr/local/lib/python3.10/dist-packages (from LanusStats) (10.4.0)\n",
            "Requirement already satisfied: beautifulsoup4 in /usr/local/lib/python3.10/dist-packages (from bs4->LanusStats) (4.12.3)\n",
            "Requirement already satisfied: contourpy>=1.0.1 in /usr/local/lib/python3.10/dist-packages (from matplotlib->LanusStats) (1.3.0)\n",
            "Requirement already satisfied: cycler>=0.10 in /usr/local/lib/python3.10/dist-packages (from matplotlib->LanusStats) (0.12.1)\n",
            "Requirement already satisfied: fonttools>=4.22.0 in /usr/local/lib/python3.10/dist-packages (from matplotlib->LanusStats) (4.54.1)\n",
            "Requirement already satisfied: kiwisolver>=1.0.1 in /usr/local/lib/python3.10/dist-packages (from matplotlib->LanusStats) (1.4.7)\n",
            "Requirement already satisfied: packaging>=20.0 in /usr/local/lib/python3.10/dist-packages (from matplotlib->LanusStats) (24.1)\n",
            "Requirement already satisfied: pyparsing>=2.3.1 in /usr/local/lib/python3.10/dist-packages (from matplotlib->LanusStats) (3.1.4)\n",
            "Requirement already satisfied: python-dateutil>=2.7 in /usr/local/lib/python3.10/dist-packages (from matplotlib->LanusStats) (2.8.2)\n",
            "Requirement already satisfied: scipy in /usr/local/lib/python3.10/dist-packages (from mplsoccer->LanusStats) (1.13.1)\n",
            "Requirement already satisfied: seaborn in /usr/local/lib/python3.10/dist-packages (from mplsoccer->LanusStats) (0.13.2)\n",
            "Requirement already satisfied: pytz>=2020.1 in /usr/local/lib/python3.10/dist-packages (from pandas->LanusStats) (2024.2)\n",
            "Requirement already satisfied: tzdata>=2022.7 in /usr/local/lib/python3.10/dist-packages (from pandas->LanusStats) (2024.2)\n",
            "Requirement already satisfied: charset-normalizer<4,>=2 in /usr/local/lib/python3.10/dist-packages (from requests->LanusStats) (3.4.0)\n",
            "Requirement already satisfied: idna<4,>=2.5 in /usr/local/lib/python3.10/dist-packages (from requests->LanusStats) (3.10)\n",
            "Requirement already satisfied: urllib3<3,>=1.21.1 in /usr/local/lib/python3.10/dist-packages (from requests->LanusStats) (2.2.3)\n",
            "Requirement already satisfied: certifi>=2017.4.17 in /usr/local/lib/python3.10/dist-packages (from requests->LanusStats) (2024.8.30)\n",
            "Requirement already satisfied: six>=1.5 in /usr/local/lib/python3.10/dist-packages (from python-dateutil>=2.7->matplotlib->LanusStats) (1.16.0)\n",
            "Requirement already satisfied: soupsieve>1.2 in /usr/local/lib/python3.10/dist-packages (from beautifulsoup4->bs4->LanusStats) (2.6)\n"
          ]
        }
      ]
    },
    {
      "cell_type": "code",
      "source": [
        "import LanusStats as ls\n",
        "fbref = ls.Fbref()"
      ],
      "metadata": {
        "id": "7Pm0syKKl3U7"
      },
      "execution_count": null,
      "outputs": []
    },
    {
      "cell_type": "code",
      "source": [
        "fbref = ls.Fbref()\n",
        "italia = fbref.get_all_player_season_stats(\"Serie A\", \"2023-2024\", save_csv=False)"
      ],
      "metadata": {
        "colab": {
          "base_uri": "https://localhost:8080/"
        },
        "id": "_SXytliWl67x",
        "outputId": "36eedaa0-77a6-406a-cfd2-1b495c743f70"
      },
      "execution_count": null,
      "outputs": [
        {
          "output_type": "stream",
          "name": "stdout",
          "text": [
            "stats\n",
            "Starting to scrape player data from Fbref...\n",
            "keepers\n",
            "Starting to scrape player data from Fbref...\n",
            "keepersadv\n",
            "Starting to scrape player data from Fbref...\n",
            "shooting\n",
            "Starting to scrape player data from Fbref...\n",
            "passing\n",
            "Starting to scrape player data from Fbref...\n",
            "passing_types\n",
            "Starting to scrape player data from Fbref...\n",
            "gca\n",
            "Starting to scrape player data from Fbref...\n",
            "defense\n",
            "Starting to scrape player data from Fbref...\n",
            "possession\n",
            "Starting to scrape player data from Fbref...\n",
            "playingtime\n",
            "Starting to scrape player data from Fbref...\n",
            "misc\n",
            "Starting to scrape player data from Fbref...\n"
          ]
        }
      ]
    },
    {
      "cell_type": "code",
      "source": [
        "import pandas as pd\n",
        "# Assuming the desired DataFrame is the first element of the tuple\n",
        "italia_df = italia[0]  # or equipos[1], depending on which DataFrame you want to save\n",
        "# Now you can save the DataFrame to a CSV file\n",
        "italia_df.to_csv(\"italia.csv\", encoding=\"utf-8\", index=False)"
      ],
      "metadata": {
        "id": "3t0n3ysFmTeQ"
      },
      "execution_count": null,
      "outputs": []
    },
    {
      "cell_type": "code",
      "source": [
        "fbref = ls.Fbref()\n",
        "inglaterra = fbref.get_all_player_season_stats(\"Premier League\", \"2023-2024\", save_csv=False)"
      ],
      "metadata": {
        "colab": {
          "base_uri": "https://localhost:8080/"
        },
        "id": "diQBYhOHnI-l",
        "outputId": "dd5d3295-a8ca-47da-e104-b9fc373a73da"
      },
      "execution_count": null,
      "outputs": [
        {
          "output_type": "stream",
          "name": "stdout",
          "text": [
            "stats\n",
            "Starting to scrape player data from Fbref...\n",
            "keepers\n",
            "Starting to scrape player data from Fbref...\n",
            "keepersadv\n",
            "Starting to scrape player data from Fbref...\n",
            "shooting\n",
            "Starting to scrape player data from Fbref...\n",
            "passing\n",
            "Starting to scrape player data from Fbref...\n",
            "passing_types\n",
            "Starting to scrape player data from Fbref...\n",
            "gca\n",
            "Starting to scrape player data from Fbref...\n",
            "defense\n",
            "Starting to scrape player data from Fbref...\n",
            "possession\n",
            "Starting to scrape player data from Fbref...\n",
            "playingtime\n",
            "Starting to scrape player data from Fbref...\n",
            "misc\n",
            "Starting to scrape player data from Fbref...\n"
          ]
        }
      ]
    },
    {
      "cell_type": "code",
      "source": [
        "import pandas as pd\n",
        "# Assuming the desired DataFrame is the first element of the tuple\n",
        "inglaterra_df = inglaterra[0]  # or equipos[1], depending on which DataFrame you want to save\n",
        "# Now you can save the DataFrame to a CSV file\n",
        "inglaterra_df.to_csv(\"inglaterra.csv\", encoding=\"utf-8\", index=False)"
      ],
      "metadata": {
        "id": "vlNJEkrInTEo"
      },
      "execution_count": null,
      "outputs": []
    },
    {
      "cell_type": "code",
      "source": [
        "fbref = ls.Fbref()\n",
        "brasil = fbref.get_all_player_season_stats(\"Brasileirao\", \"2023\", save_csv=False)"
      ],
      "metadata": {
        "colab": {
          "base_uri": "https://localhost:8080/"
        },
        "id": "S7-m6Bc1oKKn",
        "outputId": "67d3481f-6034-4656-e0d3-c678c1fd8eae"
      },
      "execution_count": null,
      "outputs": [
        {
          "output_type": "stream",
          "name": "stdout",
          "text": [
            "stats\n",
            "Starting to scrape player data from Fbref...\n",
            "keepers\n",
            "Starting to scrape player data from Fbref...\n",
            "keepersadv\n",
            "Starting to scrape player data from Fbref...\n",
            "shooting\n",
            "Starting to scrape player data from Fbref...\n",
            "passing\n",
            "Starting to scrape player data from Fbref...\n",
            "passing_types\n",
            "Starting to scrape player data from Fbref...\n",
            "gca\n",
            "Starting to scrape player data from Fbref...\n",
            "defense\n",
            "Starting to scrape player data from Fbref...\n",
            "possession\n",
            "Starting to scrape player data from Fbref...\n",
            "playingtime\n",
            "Starting to scrape player data from Fbref...\n",
            "misc\n",
            "Starting to scrape player data from Fbref...\n"
          ]
        }
      ]
    },
    {
      "cell_type": "code",
      "source": [
        "import pandas as pd\n",
        "# Assuming the desired DataFrame is the first element of the tuple\n",
        "brasil_df = brasil[0]  # or equipos[1], depending on which DataFrame you want to save\n",
        "# Now you can save the DataFrame to a CSV file\n",
        "brasil_df.to_csv(\"brasil.csv\", encoding=\"utf-8\", index=False)"
      ],
      "metadata": {
        "id": "LWBazAxWoubb"
      },
      "execution_count": null,
      "outputs": []
    },
    {
      "cell_type": "code",
      "source": [
        "fbref = ls.Fbref()\n",
        "francia = fbref.get_all_player_season_stats(\"Ligue 1\", \"2023-2024\", save_csv=False)"
      ],
      "metadata": {
        "colab": {
          "base_uri": "https://localhost:8080/"
        },
        "id": "FCWUajYNpY28",
        "outputId": "004f5e70-b3f8-47b0-d9fd-41498360bb5f"
      },
      "execution_count": null,
      "outputs": [
        {
          "output_type": "stream",
          "name": "stdout",
          "text": [
            "stats\n",
            "Starting to scrape player data from Fbref...\n",
            "keepers\n",
            "Starting to scrape player data from Fbref...\n",
            "keepersadv\n",
            "Starting to scrape player data from Fbref...\n",
            "shooting\n",
            "Starting to scrape player data from Fbref...\n",
            "passing\n",
            "Starting to scrape player data from Fbref...\n",
            "passing_types\n",
            "Starting to scrape player data from Fbref...\n",
            "gca\n",
            "Starting to scrape player data from Fbref...\n",
            "defense\n",
            "Starting to scrape player data from Fbref...\n",
            "possession\n",
            "Starting to scrape player data from Fbref...\n",
            "playingtime\n",
            "Starting to scrape player data from Fbref...\n",
            "misc\n",
            "Starting to scrape player data from Fbref...\n"
          ]
        }
      ]
    },
    {
      "cell_type": "code",
      "source": [
        "import pandas as pd\n",
        "# Assuming the desired DataFrame is the first element of the tuple\n",
        "francia_df = francia[0]  # or equipos[1], depending on which DataFrame you want to save\n",
        "# Now you can save the DataFrame to a CSV file\n",
        "francia_df.to_csv(\"francia.csv\", encoding=\"utf-8\", index=False)"
      ],
      "metadata": {
        "id": "BeEeopHEpmqJ"
      },
      "execution_count": null,
      "outputs": []
    },
    {
      "cell_type": "code",
      "source": [
        "fbref = ls.Fbref()\n",
        "argentina = fbref.get_all_player_season_stats(\"Primera Division Argentina\", \"2023\", save_csv=False)"
      ],
      "metadata": {
        "colab": {
          "base_uri": "https://localhost:8080/"
        },
        "id": "vRxRrglmqJ4Q",
        "outputId": "d0f1bb97-f469-43c4-ca21-093a4c4c36bf"
      },
      "execution_count": null,
      "outputs": [
        {
          "output_type": "stream",
          "name": "stdout",
          "text": [
            "stats\n",
            "Starting to scrape player data from Fbref...\n",
            "keepers\n",
            "Starting to scrape player data from Fbref...\n",
            "keepersadv\n",
            "Starting to scrape player data from Fbref...\n",
            "shooting\n",
            "Starting to scrape player data from Fbref...\n",
            "passing\n",
            "Starting to scrape player data from Fbref...\n",
            "passing_types\n",
            "Starting to scrape player data from Fbref...\n",
            "gca\n",
            "Starting to scrape player data from Fbref...\n",
            "defense\n",
            "Starting to scrape player data from Fbref...\n",
            "possession\n",
            "Starting to scrape player data from Fbref...\n",
            "playingtime\n",
            "Starting to scrape player data from Fbref...\n",
            "misc\n",
            "Starting to scrape player data from Fbref...\n"
          ]
        }
      ]
    },
    {
      "cell_type": "code",
      "source": [
        "import pandas as pd\n",
        "# Assuming the desired DataFrame is the first element of the tuple\n",
        "argentina_df = argentina[0]  # or equipos[1], depending on which DataFrame you want to save\n",
        "# Now you can save the DataFrame to a CSV file\n",
        "argentina_df.to_csv(\"argentina.csv\", encoding=\"utf-8\", index=False)"
      ],
      "metadata": {
        "id": "ehnH494MqZW8"
      },
      "execution_count": null,
      "outputs": []
    },
    {
      "cell_type": "code",
      "source": [
        "fbref = ls.Fbref()\n",
        "belgica = fbref.get_all_player_season_stats(\"Belgian Pro League\", \"2023-2024\", save_csv=False)"
      ],
      "metadata": {
        "colab": {
          "base_uri": "https://localhost:8080/"
        },
        "id": "ZUnVCEzdrdBv",
        "outputId": "4e2a943c-9bfe-4f93-c0ba-5ba3c93adc42"
      },
      "execution_count": null,
      "outputs": [
        {
          "output_type": "stream",
          "name": "stdout",
          "text": [
            "stats\n",
            "Starting to scrape player data from Fbref...\n",
            "keepers\n",
            "Starting to scrape player data from Fbref...\n",
            "keepersadv\n",
            "Starting to scrape player data from Fbref...\n",
            "shooting\n",
            "Starting to scrape player data from Fbref...\n",
            "passing\n",
            "Starting to scrape player data from Fbref...\n",
            "passing_types\n",
            "Starting to scrape player data from Fbref...\n",
            "gca\n",
            "Starting to scrape player data from Fbref...\n",
            "defense\n",
            "Starting to scrape player data from Fbref...\n",
            "possession\n",
            "Starting to scrape player data from Fbref...\n",
            "playingtime\n",
            "Starting to scrape player data from Fbref...\n",
            "misc\n",
            "Starting to scrape player data from Fbref...\n"
          ]
        }
      ]
    },
    {
      "cell_type": "code",
      "source": [
        "import pandas as pd\n",
        "# Assuming the desired DataFrame is the first element of the tuple\n",
        "belgica_df = belgica[0]  # or equipos[1], depending on which DataFrame you want to save\n",
        "# Now you can save the DataFrame to a CSV file\n",
        "belgica_df.to_csv(\"belgica.csv\", encoding=\"utf-8\", index=False)"
      ],
      "metadata": {
        "id": "mwOBaDm5r8P_"
      },
      "execution_count": null,
      "outputs": []
    },
    {
      "cell_type": "code",
      "source": [
        "fbref = ls.Fbref()\n",
        "dinamarca = fbref.get_all_player_season_stats(\"Danish Superliga\", \"2023-2024\", save_csv=False)"
      ],
      "metadata": {
        "colab": {
          "base_uri": "https://localhost:8080/"
        },
        "id": "UL4lW5__sXoL",
        "outputId": "5153166c-6aab-4fce-dfe8-70aab07beff7"
      },
      "execution_count": null,
      "outputs": [
        {
          "output_type": "stream",
          "name": "stdout",
          "text": [
            "stats\n",
            "Starting to scrape player data from Fbref...\n",
            "keepers\n",
            "Starting to scrape player data from Fbref...\n",
            "keepersadv\n",
            "Starting to scrape player data from Fbref...\n",
            "shooting\n",
            "Starting to scrape player data from Fbref...\n",
            "passing\n",
            "Starting to scrape player data from Fbref...\n",
            "passing_types\n",
            "Starting to scrape player data from Fbref...\n",
            "gca\n",
            "Starting to scrape player data from Fbref...\n",
            "defense\n",
            "Starting to scrape player data from Fbref...\n",
            "possession\n",
            "Starting to scrape player data from Fbref...\n",
            "playingtime\n",
            "Starting to scrape player data from Fbref...\n",
            "misc\n",
            "Starting to scrape player data from Fbref...\n"
          ]
        }
      ]
    },
    {
      "cell_type": "code",
      "source": [
        "import pandas as pd\n",
        "# Assuming the desired DataFrame is the first element of the tuple\n",
        "dinamarca_df = dinamarca[0]  # or equipos[1], depending on which DataFrame you want to save\n",
        "# Now you can save the DataFrame to a CSV file\n",
        "dinamarca_df.to_csv(\"dinamarca.csv\", encoding=\"utf-8\", index=False)"
      ],
      "metadata": {
        "id": "g4b8frlEs4he"
      },
      "execution_count": null,
      "outputs": []
    },
    {
      "cell_type": "code",
      "source": [
        "fbref = ls.Fbref()\n",
        "mexico = fbref.get_all_player_season_stats(\"Liga MX\", \"2023-2024\", save_csv=False)"
      ],
      "metadata": {
        "colab": {
          "base_uri": "https://localhost:8080/"
        },
        "id": "YWGF6sdUvruz",
        "outputId": "02b9a7c1-9759-430f-ef38-03a7f63d9f13"
      },
      "execution_count": null,
      "outputs": [
        {
          "output_type": "stream",
          "name": "stdout",
          "text": [
            "stats\n",
            "Starting to scrape player data from Fbref...\n",
            "keepers\n",
            "Starting to scrape player data from Fbref...\n",
            "keepersadv\n",
            "Starting to scrape player data from Fbref...\n",
            "shooting\n",
            "Starting to scrape player data from Fbref...\n",
            "passing\n",
            "Starting to scrape player data from Fbref...\n",
            "passing_types\n",
            "Starting to scrape player data from Fbref...\n",
            "gca\n",
            "Starting to scrape player data from Fbref...\n",
            "defense\n",
            "Starting to scrape player data from Fbref...\n",
            "possession\n",
            "Starting to scrape player data from Fbref...\n",
            "playingtime\n",
            "Starting to scrape player data from Fbref...\n",
            "misc\n",
            "Starting to scrape player data from Fbref...\n"
          ]
        }
      ]
    },
    {
      "cell_type": "code",
      "source": [
        "import pandas as pd\n",
        "# Assuming the desired DataFrame is the first element of the tuple\n",
        "mexico_df = mexico[0]  # or equipos[1], depending on which DataFrame you want to save\n",
        "# Now you can save the DataFrame to a CSV file\n",
        "mexico_df.to_csv(\"mexico.csv\", encoding=\"utf-8\", index=False)"
      ],
      "metadata": {
        "id": "O_D67BCcwKgA"
      },
      "execution_count": null,
      "outputs": []
    },
    {
      "cell_type": "code",
      "source": [
        "import pandas as pd\n",
        "# Assuming the desired DataFrame is the first element of the tuple\n",
        "mexico_df = mexico[0]  # or equipos[1], depending on which DataFrame you want to save\n",
        "# Now you can save the DataFrame to a CSV file\n",
        "mexico_df.to_csv(\"mexico.csv\", encoding=\"utf-8\", index=False)"
      ],
      "metadata": {
        "colab": {
          "base_uri": "https://localhost:8080/"
        },
        "id": "gu5Kl-FbxUt1",
        "outputId": "0e5defe6-58fb-4fed-9364-db15d8ed8744"
      },
      "execution_count": null,
      "outputs": [
        {
          "output_type": "stream",
          "name": "stdout",
          "text": [
            "stats\n",
            "Starting to scrape player data from Fbref...\n",
            "keepers\n",
            "Starting to scrape player data from Fbref...\n",
            "keepersadv\n",
            "Starting to scrape player data from Fbref...\n",
            "shooting\n",
            "Starting to scrape player data from Fbref...\n",
            "passing\n",
            "Starting to scrape player data from Fbref...\n",
            "passing_types\n",
            "Starting to scrape player data from Fbref...\n",
            "gca\n",
            "Starting to scrape player data from Fbref...\n",
            "defense\n",
            "Starting to scrape player data from Fbref...\n",
            "possession\n",
            "Starting to scrape player data from Fbref...\n",
            "playingtime\n",
            "Starting to scrape player data from Fbref...\n",
            "misc\n",
            "Starting to scrape player data from Fbref...\n"
          ]
        }
      ]
    },
    {
      "cell_type": "code",
      "source": [
        "import pandas as pd\n",
        "# Assuming the desired DataFrame is the first element of the tuple\n",
        "usa_df = usa[0]  # or equipos[1], depending on which DataFrame you want to save\n",
        "# Now you can save the DataFrame to a CSV file\n",
        "usa_df.to_csv(\"usa.csv\", encoding=\"utf-8\", index=False)"
      ],
      "metadata": {
        "id": "8o7h344Cyrks"
      },
      "execution_count": null,
      "outputs": []
    },
    {
      "cell_type": "code",
      "source": [
        "fbref = ls.Fbref()\n",
        "bolivia = fbref.get_all_player_season_stats(\"Primera Division Bolivia\", \"2023\", save_csv=False)"
      ],
      "metadata": {
        "colab": {
          "base_uri": "https://localhost:8080/"
        },
        "id": "qXt0D6uXz9X3",
        "outputId": "14f77115-3869-47da-baa0-781360762e53"
      },
      "execution_count": null,
      "outputs": [
        {
          "output_type": "stream",
          "name": "stdout",
          "text": [
            "stats\n",
            "Starting to scrape player data from Fbref...\n",
            "keepers\n",
            "Starting to scrape player data from Fbref...\n",
            "keepersadv\n",
            "Starting to scrape player data from Fbref...\n",
            "shooting\n",
            "Starting to scrape player data from Fbref...\n",
            "passing\n",
            "Starting to scrape player data from Fbref...\n",
            "passing_types\n",
            "Starting to scrape player data from Fbref...\n",
            "gca\n",
            "Starting to scrape player data from Fbref...\n",
            "defense\n",
            "Starting to scrape player data from Fbref...\n",
            "possession\n",
            "Starting to scrape player data from Fbref...\n",
            "playingtime\n",
            "Starting to scrape player data from Fbref...\n",
            "misc\n",
            "Starting to scrape player data from Fbref...\n"
          ]
        }
      ]
    },
    {
      "cell_type": "code",
      "source": [
        "import pandas as pd\n",
        "# Assuming the desired DataFrame is the first element of the tuple\n",
        "bolivia_df = bolivia[0]  # or equipos[1], depending on which DataFrame you want to save\n",
        "# Now you can save the DataFrame to a CSV file\n",
        "bolivia_df.to_csv(\"bolivia.csv\", encoding=\"utf-8\", index=False)"
      ],
      "metadata": {
        "id": "kWZ0PGK10Mgv"
      },
      "execution_count": null,
      "outputs": []
    },
    {
      "cell_type": "code",
      "source": [
        "fbref = ls.Fbref()\n",
        "peru = fbref.get_all_player_season_stats(\"Primera Division Peru\", \"2023\", save_csv=False)"
      ],
      "metadata": {
        "colab": {
          "base_uri": "https://localhost:8080/"
        },
        "id": "QKRZG3340x2M",
        "outputId": "2873c877-c217-4a48-d64e-69b10571bb36"
      },
      "execution_count": null,
      "outputs": [
        {
          "output_type": "stream",
          "name": "stdout",
          "text": [
            "stats\n",
            "Starting to scrape player data from Fbref...\n",
            "keepers\n",
            "Starting to scrape player data from Fbref...\n",
            "keepersadv\n",
            "Starting to scrape player data from Fbref...\n",
            "shooting\n",
            "Starting to scrape player data from Fbref...\n",
            "passing\n",
            "Starting to scrape player data from Fbref...\n",
            "passing_types\n",
            "Starting to scrape player data from Fbref...\n",
            "gca\n",
            "Starting to scrape player data from Fbref...\n",
            "defense\n",
            "Starting to scrape player data from Fbref...\n",
            "possession\n",
            "Starting to scrape player data from Fbref...\n",
            "playingtime\n",
            "Starting to scrape player data from Fbref...\n",
            "misc\n",
            "Starting to scrape player data from Fbref...\n"
          ]
        }
      ]
    },
    {
      "cell_type": "code",
      "source": [
        "import pandas as pd\n",
        "# Assuming the desired DataFrame is the first element of the tuple\n",
        "peru_df = peru[0]  # or equipos[1], depending on which DataFrame you want to save\n",
        "# Now you can save the DataFrame to a CSV file\n",
        "peru_df.to_csv(\"peru.csv\", encoding=\"utf-8\", index=False)"
      ],
      "metadata": {
        "id": "-ocfw9ra1F3H"
      },
      "execution_count": null,
      "outputs": []
    },
    {
      "cell_type": "code",
      "source": [
        "fbref = ls.Fbref()\n",
        "ecuador = fbref.get_all_player_season_stats(\"Primera Division Ecuador\", \"2023\", save_csv=False)"
      ],
      "metadata": {
        "colab": {
          "base_uri": "https://localhost:8080/"
        },
        "id": "sYNEVdpc1wrP",
        "outputId": "4fca0aa7-35e8-4399-8db5-79b4694b1239"
      },
      "execution_count": null,
      "outputs": [
        {
          "output_type": "stream",
          "name": "stdout",
          "text": [
            "stats\n",
            "Starting to scrape player data from Fbref...\n",
            "keepers\n",
            "Starting to scrape player data from Fbref...\n",
            "keepersadv\n",
            "Starting to scrape player data from Fbref...\n",
            "shooting\n",
            "Starting to scrape player data from Fbref...\n",
            "passing\n",
            "Starting to scrape player data from Fbref...\n",
            "passing_types\n",
            "Starting to scrape player data from Fbref...\n",
            "gca\n",
            "Starting to scrape player data from Fbref...\n",
            "defense\n",
            "Starting to scrape player data from Fbref...\n",
            "possession\n",
            "Starting to scrape player data from Fbref...\n",
            "playingtime\n",
            "Starting to scrape player data from Fbref...\n",
            "misc\n",
            "Starting to scrape player data from Fbref...\n"
          ]
        }
      ]
    },
    {
      "cell_type": "code",
      "source": [
        "import pandas as pd\n",
        "# Assuming the desired DataFrame is the first element of the tuple\n",
        "ecuador_df = ecuador[0]  # or equipos[1], depending on which DataFrame you want to save\n",
        "# Now you can save the DataFrame to a CSV file\n",
        "ecuador_df.to_csv(\"ecuador.csv\", encoding=\"utf-8\", index=False)"
      ],
      "metadata": {
        "id": "AVOjOsbs2LEF"
      },
      "execution_count": null,
      "outputs": []
    },
    {
      "cell_type": "code",
      "source": [
        "fbref = ls.Fbref()\n",
        "saudi = fbref.get_all_player_season_stats(\"Saudi League\", \"2023-2024\", save_csv=False)"
      ],
      "metadata": {
        "colab": {
          "base_uri": "https://localhost:8080/"
        },
        "id": "6GXS1O-L29cI",
        "outputId": "25b4ceda-79b6-4402-ef31-4ddcbc241f1d"
      },
      "execution_count": null,
      "outputs": [
        {
          "output_type": "stream",
          "name": "stdout",
          "text": [
            "stats\n",
            "Starting to scrape player data from Fbref...\n",
            "keepers\n",
            "Starting to scrape player data from Fbref...\n",
            "keepersadv\n",
            "Starting to scrape player data from Fbref...\n",
            "shooting\n",
            "Starting to scrape player data from Fbref...\n",
            "passing\n",
            "Starting to scrape player data from Fbref...\n",
            "passing_types\n",
            "Starting to scrape player data from Fbref...\n",
            "gca\n",
            "Starting to scrape player data from Fbref...\n",
            "defense\n",
            "Starting to scrape player data from Fbref...\n",
            "possession\n",
            "Starting to scrape player data from Fbref...\n",
            "playingtime\n",
            "Starting to scrape player data from Fbref...\n",
            "misc\n",
            "Starting to scrape player data from Fbref...\n"
          ]
        }
      ]
    },
    {
      "cell_type": "code",
      "source": [
        "import pandas as pd\n",
        "# Assuming the desired DataFrame is the first element of the tuple\n",
        "saudi_df = saudi[0]  # or equipos[1], depending on which DataFrame you want to save\n",
        "# Now you can save the DataFrame to a CSV file\n",
        "saudi_df.to_csv(\"saudi.csv\", encoding=\"utf-8\", index=False)"
      ],
      "metadata": {
        "id": "XxV2Gr-03yfD"
      },
      "execution_count": null,
      "outputs": []
    },
    {
      "cell_type": "code",
      "source": [
        "fbref = ls.Fbref()\n",
        "japon = fbref.get_all_player_season_stats(\"J1 League\", \"2023\", save_csv=False)"
      ],
      "metadata": {
        "colab": {
          "base_uri": "https://localhost:8080/"
        },
        "id": "mcYrbTQb4pjY",
        "outputId": "627c24d5-8603-48c0-83ab-f2a6ba801404"
      },
      "execution_count": null,
      "outputs": [
        {
          "output_type": "stream",
          "name": "stdout",
          "text": [
            "stats\n",
            "Starting to scrape player data from Fbref...\n",
            "keepers\n",
            "Starting to scrape player data from Fbref...\n",
            "keepersadv\n",
            "Starting to scrape player data from Fbref...\n",
            "shooting\n",
            "Starting to scrape player data from Fbref...\n",
            "passing\n",
            "Starting to scrape player data from Fbref...\n",
            "passing_types\n",
            "Starting to scrape player data from Fbref...\n",
            "gca\n",
            "Starting to scrape player data from Fbref...\n",
            "defense\n",
            "Starting to scrape player data from Fbref...\n",
            "possession\n",
            "Starting to scrape player data from Fbref...\n",
            "playingtime\n",
            "Starting to scrape player data from Fbref...\n",
            "misc\n",
            "Starting to scrape player data from Fbref...\n"
          ]
        }
      ]
    },
    {
      "cell_type": "code",
      "source": [
        "import pandas as pd\n",
        "# Assuming the desired DataFrame is the first element of the tuple\n",
        "japon_df = japon[0]  # or equipos[1], depending on which DataFrame you want to save\n",
        "# Now you can save the DataFrame to a CSV file\n",
        "japon_df.to_csv(\"japon.csv\", encoding=\"utf-8\", index=False)"
      ],
      "metadata": {
        "id": "rjEHW_2c5AOA"
      },
      "execution_count": null,
      "outputs": []
    }
  ]
}